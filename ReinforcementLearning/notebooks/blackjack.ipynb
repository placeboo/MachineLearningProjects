{
 "cells": [
  {
   "cell_type": "code",
   "execution_count": 1,
   "id": "5b397f2d",
   "metadata": {},
   "outputs": [
    {
     "name": "stdout",
     "output_type": "stream",
     "text": [
      "/Users/Placebo/OMSCS/CS7641-ML/MachineLearningProjects/ReinforcementLearning\n"
     ]
    }
   ],
   "source": [
    "import os\n",
    "os.chdir('..')\n",
    "print(os.getcwd())"
   ]
  },
  {
   "cell_type": "code",
   "execution_count": 2,
   "id": "6d65c4a264fdf791",
   "metadata": {},
   "outputs": [],
   "source": [
    "import pandas as pd\n",
    "import numpy as np\n",
    "import pickle\n",
    "from bettermdptools.utils.plots import Plots"
   ]
  },
  {
   "cell_type": "code",
   "execution_count": 3,
   "id": "36c7edcb30fd97c2",
   "metadata": {},
   "outputs": [],
   "source": [
    "%load_ext autoreload\n",
    "%autoreload 2\n",
    "from src.experiments.blackjack_exp import BlackjackExperiment"
   ]
  },
  {
   "cell_type": "markdown",
   "id": "75c15c9b78b0ef5c",
   "metadata": {},
   "source": [
    "# VI and PI Grid Search"
   ]
  },
  {
   "cell_type": "code",
   "execution_count": null,
   "id": "16b95db29ad910a5",
   "metadata": {},
   "outputs": [],
   "source": [
    "blackjack_exp = BlackjackExperiment(env_name='blackjack_200',\n",
    "                                    result_dir='results',\n",
    "                                    fig_dir='figs',\n",
    "                                    random_seed =17)\n",
    "\n",
    "params = {\n",
    "    'gamma': [0.1, 0.2, 0.3, 0.4, 0.5,0.6,0.7, 0.8, 0.9, 0.99, 0.999, 1.0],\n",
    "    'theta': [0.1, 0.01, 0.001, 1e-6, 1e-8, 1e-10, 1e-12, 1e-14, 1e-16]\n",
    "}\n",
    "\n",
    "blackjack_exp.run_vi_pi_grid_search(params=params,\n",
    "                                    test_iters=200,\n",
    "                                    verbose=False,\n",
    "                                    log_name='pi_vi_grid_search_200')"
   ]
  },
  {
   "cell_type": "code",
   "execution_count": null,
   "id": "1154c41663e34a01",
   "metadata": {},
   "outputs": [],
   "source": [
    "blackjack_exp = BlackjackExperiment(env_name='blackjack_1000',\n",
    "                                    result_dir='results',\n",
    "                                    fig_dir='figs',\n",
    "                                    random_seed =17)\n",
    "\n",
    "params = {\n",
    "    'gamma': [0.1, 0.2, 0.3, 0.4, 0.5,0.6,0.7, 0.8, 0.9, 0.99, 0.999, 1.0],\n",
    "    'theta': [0.1, 0.01, 0.001, 1e-6, 1e-8, 1e-10, 1e-12, 1e-14, 1e-16]\n",
    "}\n",
    "\n",
    "blackjack_exp.run_vi_pi_grid_search(params=params,\n",
    "                                    test_iters=1000,\n",
    "                                    verbose=False,\n",
    "                                    log_name='pi_vi_grid_search_1000')"
   ]
  },
  {
   "cell_type": "markdown",
   "id": "62354ac1eb7847a3",
   "metadata": {},
   "source": [
    "# Q Learning Grid Search"
   ]
  },
  {
   "cell_type": "code",
   "execution_count": null,
   "id": "351762cabec12ffc",
   "metadata": {},
   "outputs": [],
   "source": [
    "blackjack_exp = BlackjackExperiment(env_name='blackjack_q_200_n10000',\n",
    "                                    result_dir='results',\n",
    "                                    fig_dir='figs',\n",
    "                                    random_seed =17)\n",
    "\n",
    "params = {\n",
    "    'gamma': [0.1, 0.2, 0.3, 0.4, 0.5,0.6,0.7, 0.8, 0.9, 0.99, 0.999, 1.0],\n",
    "    'init_alpha': np.round(np.linspace(0.2, 1.0, 5), 1),\n",
    "    'init_epsilon': np.round(np.linspace(0.2, 1.0, 5), 1),\n",
    "    'n_episodes': [10000]\n",
    "}\n",
    "blackjack_exp.run_q_learning_grid_search(params=params,\n",
    "                                        test_iters=200,\n",
    "                                        verbose=False,\n",
    "                                        log_name='q_learning_grid_search_200')"
   ]
  },
  {
   "cell_type": "markdown",
   "id": "24dc2dd63b2ce2ea",
   "metadata": {},
   "source": [
    "# SARSA Grid Search"
   ]
  },
  {
   "cell_type": "code",
   "execution_count": null,
   "id": "e7a96aaac7ea6c8a",
   "metadata": {},
   "outputs": [],
   "source": [
    "blackjack_exp = BlackjackExperiment(env_name='blackjack_sarsa_200_n10000',\n",
    "                                    result_dir='results',\n",
    "                                    fig_dir='figs',\n",
    "                                    random_seed =17)\n",
    "\n",
    "params = {\n",
    "    'gamma': [0.1, 0.2, 0.3, 0.4, 0.5,0.6,0.7, 0.8, 0.9, 0.99, 0.999, 1.0],\n",
    "    'init_alpha': np.round(np.linspace(0.2, 1.0, 5), 1),\n",
    "    'init_epsilon': np.round(np.linspace(0.2, 1.0, 5), 1),\n",
    "    'n_episodes': [10000]\n",
    "}\n",
    "blackjack_exp.run_sarsa_learning_grid_search(params=params,\n",
    "                                        test_iters=200,\n",
    "                                        verbose=False,\n",
    "                                        log_name='sarsa_learning_grid_search_200')"
   ]
  },
  {
   "cell_type": "markdown",
   "id": "8dd15aa4",
   "metadata": {},
   "source": [
    "# Analysis of the results"
   ]
  },
  {
   "cell_type": "code",
   "execution_count": 7,
   "id": "6b6edd52",
   "metadata": {},
   "outputs": [],
   "source": [
    "from src.utils.plotting import set_plot_style\n",
    "import matplotlib.pyplot as plt"
   ]
  },
  {
   "cell_type": "code",
   "execution_count": 8,
   "id": "4c792f5ffd8ce38",
   "metadata": {},
   "outputs": [],
   "source": [
    "import gymnasium as gym\n",
    "from bettermdptools.envs.blackjack_wrapper import BlackjackWrapper"
   ]
  },
  {
   "cell_type": "markdown",
   "id": "60cd4b46",
   "metadata": {},
   "source": [
    "## VI and PI\n",
    "Compared the max value for the same parameter combinations"
   ]
  },
  {
   "cell_type": "code",
   "execution_count": 9,
   "id": "e55dca03",
   "metadata": {},
   "outputs": [
    {
     "data": {
      "image/png": "[encoded data removed]",
      "text/plain": [
       "<Figure size 400x300 with 1 Axes>"
      ]
     },
     "metadata": {},
     "output_type": "display_data"
    }
   ],
   "source": [
    "with open('results/blackjack_200/pi_grid_search_results.pkl', 'rb') as f:\n",
    "    pi_results = pickle.load(f)\n",
    "\n",
    "with open('results/blackjack_200/vi_grid_search_results.pkl', 'rb') as f:\n",
    "    vi_results = pickle.load(f)\n",
    "\n",
    "pi_iteration_results = pd.DataFrame(pi_results['iteration_results'])\n",
    "vi_iteration_results = pd.DataFrame(vi_results['iteration_results'])\n",
    "\n",
    "gamma = 0.3\n",
    "theta = 0.1\n",
    "pi_results = pi_iteration_results[(pi_iteration_results['gamma'] == gamma) & (pi_iteration_results['theta'] == theta)]\n",
    "vi_results = vi_iteration_results[(vi_iteration_results['gamma'] == gamma) & (vi_iteration_results['theta'] == theta)]\n",
    "pi_max_values = pi_results['max_values'].values[0]\n",
    "vi_max_values = vi_results['max_values'].values[0]\n",
    "\n",
    "# draw\n",
    "set_plot_style()\n",
    "plt.plot(pi_max_values, label='PI')\n",
    "plt.plot(vi_max_values, label='PI')\n",
    "plt.xlabel('Iterations')\n",
    "plt.ylabel('Max Value')\n",
    "plt.legend()\n",
    "# save\n",
    "plt.savefig('figs/blackjack_200/pi_vi_max_values.png')\n"
   ]
  },
  {
   "cell_type": "markdown",
   "id": "5b5f0a55",
   "metadata": {},
   "source": [
    "## Q Learning"
   ]
  },
  {
   "cell_type": "code",
   "execution_count": 17,
   "id": "fa14d1ba",
   "metadata": {},
   "outputs": [
    {
     "data": {
      "text/plain": [
       "runtime                                                         0.753604\n",
       "mean_reward                                                        0.225\n",
       "std_reward                                                      0.924324\n",
       "Q                      [[-0.0241720094444334, -0.021449364664642773],...\n",
       "V                      [-0.021449364664642773, 0.01, 0.52916432572188...\n",
       "pi                     {0: 1, 1: 0, 2: 0, 3: 1, 4: 1, 5: 1, 6: 1, 7: ...\n",
       "mean_values            [0.0013793103448275863, 0.0013793103448275863,...\n",
       "max_values             [0.4, 0.4, 0.4, 0.4, 0.4, 0.4, 0.4, 0.4, 0.4, ...\n",
       "delta_values           [0.0, 0.0, 0.0, 0.0, 0.0, 0.0, 0.0013705787721...\n",
       "gamma                                                               0.99\n",
       "init_alpha                                                           0.4\n",
       "min_alpha                                                           0.01\n",
       "alpha_decay_ratio                                                    0.5\n",
       "init_epsilon                                                         0.6\n",
       "min_epsilon                                                          0.1\n",
       "epsilon_decay_ratio                                                  0.9\n",
       "n_episodes                                                         10000\n",
       "Name: 232, dtype: object"
      ]
     },
     "execution_count": 17,
     "metadata": {},
     "output_type": "execute_result"
    }
   ],
   "source": [
    "with open('results/blackjack_q_200_n10000/q_learning_grid_search_results.pkl', 'rb') as f:\n",
    "    q_results = pickle.load(f)\n",
    "q_results = pd.DataFrame(q_results['iteration_results'])\n",
    "q_results.sort_values('mean_reward', ascending=False).iloc[0]"
   ]
  },
  {
   "cell_type": "markdown",
   "id": "b532b63d",
   "metadata": {},
   "source": [
    "## SARSA"
   ]
  },
  {
   "cell_type": "code",
   "execution_count": 19,
   "id": "fd6e7c0a",
   "metadata": {},
   "outputs": [
    {
     "data": {
      "text/plain": [
       "runtime                                                         0.876749\n",
       "mean_reward                                                         0.18\n",
       "std_reward                                                      0.947418\n",
       "Q                      [[-0.03173043651117414, -0.016883916523642673]...\n",
       "V                      [-0.016883916523642673, 0.023403639136651437, ...\n",
       "pi                     {0: 1, 1: 0, 2: 1, 3: 0, 4: 0, 5: 1, 6: 1, 7: ...\n",
       "mean_values            [0.0, 0.0, 0.0, 0.0, 0.0, 0.002745975462519550...\n",
       "max_values             [0.0, 0.0, 0.0, 0.0, 0.0, 0.7963328841306696, ...\n",
       "delta_values           [0.0, 0.0, 0.0, 0.0, 0.0027459754625195503, 0....\n",
       "gamma                                                                0.7\n",
       "init_alpha                                                           0.8\n",
       "min_alpha                                                           0.01\n",
       "alpha_decay_ratio                                                    0.5\n",
       "init_epsilon                                                         0.4\n",
       "min_epsilon                                                          0.1\n",
       "epsilon_decay_ratio                                                  0.9\n",
       "n_episodes                                                         10000\n",
       "Name: 166, dtype: object"
      ]
     },
     "execution_count": 19,
     "metadata": {},
     "output_type": "execute_result"
    }
   ],
   "source": [
    "with open('results/blackjack_sarsa_200_n10000/sarsa_learning_grid_search_results.pkl', 'rb') as f:\n",
    "    sarsa_results = pickle.load(f)\n",
    "sarsa_iteration_results = pd.DataFrame(sarsa_results['iteration_results'])\n",
    "\n",
    "sarsa10000 = sarsa_iteration_results[sarsa_iteration_results['n_episodes'] == 10000].sort_values('mean_reward', ascending=False)\n",
    "sarsa10000.iloc[0]"
   ]
  },
  {
   "cell_type": "code",
   "execution_count": 18,
   "id": "04981307",
   "metadata": {},
   "outputs": [
    {
     "data": {
      "text/plain": [
       "runtime                                                         0.876749\n",
       "mean_reward                                                         0.18\n",
       "std_reward                                                      0.947418\n",
       "Q                      [[-0.03173043651117414, -0.016883916523642673]...\n",
       "V                      [-0.016883916523642673, 0.023403639136651437, ...\n",
       "pi                     {0: 1, 1: 0, 2: 1, 3: 0, 4: 0, 5: 1, 6: 1, 7: ...\n",
       "mean_values            [0.0, 0.0, 0.0, 0.0, 0.0, 0.002745975462519550...\n",
       "max_values             [0.0, 0.0, 0.0, 0.0, 0.0, 0.7963328841306696, ...\n",
       "delta_values           [0.0, 0.0, 0.0, 0.0, 0.0027459754625195503, 0....\n",
       "gamma                                                                0.7\n",
       "init_alpha                                                           0.8\n",
       "min_alpha                                                           0.01\n",
       "alpha_decay_ratio                                                    0.5\n",
       "init_epsilon                                                         0.4\n",
       "min_epsilon                                                          0.1\n",
       "epsilon_decay_ratio                                                  0.9\n",
       "n_episodes                                                         10000\n",
       "Name: 166, dtype: object"
      ]
     },
     "execution_count": 18,
     "metadata": {},
     "output_type": "execute_result"
    }
   ],
   "source": [
    "with open('results/blackjack_sarsa_200_n10000/sarsa_learning_grid_search_results.pkl', 'rb') as f:\n",
    "    sarsa_results = pickle.load(f)\n",
    "sarsa_iteration_results = pd.DataFrame(sarsa_results['iteration_results'])\n",
    "\n",
    "sarsa10000 = sarsa_iteration_results[sarsa_iteration_results['n_episodes'] == 10000].sort_values('mean_reward', ascending=False)\n",
    "sarsa10000.iloc[0]"
   ]
  }
 ],
 "metadata": {
  "kernelspec": {
   "display_name": "Python 3",
   "language": "python",
   "name": "python3"
  },
  "language_info": {
   "codemirror_mode": {
    "name": "ipython",
    "version": 3
   },
   "file_extension": ".py",
   "mimetype": "text/x-python",
   "name": "python",
   "nbconvert_exporter": "python",
   "pygments_lexer": "ipython3",
   "version": "3.10.15"
  }
 },
 "nbformat": 4,
 "nbformat_minor": 5
}
