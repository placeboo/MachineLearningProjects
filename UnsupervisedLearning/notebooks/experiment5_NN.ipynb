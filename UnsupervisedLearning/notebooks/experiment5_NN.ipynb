{
 "cells": [
  {
   "cell_type": "code",
   "id": "initial_id",
   "metadata": {
    "collapsed": true,
    "ExecuteTime": {
     "end_time": "2024-11-07T10:00:58.788499Z",
     "start_time": "2024-11-07T10:00:58.765624Z"
    }
   },
   "source": [
    "import os\n",
    "from fileinput import filename\n",
    "\n",
    "from src.utils.data_loader import save_pickle, load_pickle\n",
    "\n",
    "os.chdir('..')\n",
    "print(os.getcwd())"
   ],
   "outputs": [
    {
     "name": "stdout",
     "output_type": "stream",
     "text": [
      "/Users/Placebo/OMSCS/CS7641-ML/MachineLearningProjects/UnsupervisedLearning\n"
     ]
    }
   ],
   "execution_count": 4
  },
  {
   "metadata": {
    "ExecuteTime": {
     "end_time": "2024-11-07T10:00:43.778456Z",
     "start_time": "2024-11-07T10:00:43.192694Z"
    }
   },
   "cell_type": "code",
   "source": [
    "import numpy as np\n",
    "import pandas as pd"
   ],
   "id": "715a0e9bcb8e5092",
   "outputs": [],
   "execution_count": 1
  },
  {
   "metadata": {
    "ExecuteTime": {
     "end_time": "2024-11-10T10:46:47.732774Z",
     "start_time": "2024-11-10T10:46:47.659111Z"
    }
   },
   "cell_type": "code",
   "source": [
    "%load_ext autoreload\n",
    "%autoreload 2\n",
    "from src.experiments.experiment5_NN import ClusterNN, ExperimentClusterNN\n",
    "from src.utils.evaluation import organize_experiment5_results\n",
    "from src.utils.data_loader import  save_pickle, load_processed_data, load_pickle\n",
    "from src.utils.plotting import plot_learning_curves"
   ],
   "id": "bf95f293e76efb27",
   "outputs": [
    {
     "name": "stdout",
     "output_type": "stream",
     "text": [
      "The autoreload extension is already loaded. To reload it, use:\n",
      "  %reload_ext autoreload\n"
     ]
    }
   ],
   "execution_count": 46
  },
  {
   "metadata": {
    "ExecuteTime": {
     "end_time": "2024-11-07T09:04:32.611697Z",
     "start_time": "2024-11-07T09:04:32.591994Z"
    }
   },
   "cell_type": "code",
   "source": [
    "dataset = 'dataset1'\n",
    "experiment_name = 'experiment5'\n",
    "params_grid = {\n",
    "     'hidden_layer_sizes': [ [30], [35], [40], [45], [50], [32, 5], [32, 10], [32, 15], [32, 20], [32, 25], [32, 30], [32, 32]],\n",
    "    'learning_rate_init': [0.1, 0.05, 0.02, 0.01, .005, .001, .0005, .0001]\n",
    "}"
   ],
   "id": "9ef3182414a5fa86",
   "outputs": [],
   "execution_count": 7
  },
  {
   "metadata": {},
   "cell_type": "markdown",
   "source": "# PCA",
   "id": "22f1492ca3b19eec"
  },
  {
   "metadata": {},
   "cell_type": "markdown",
   "source": "## Load data",
   "id": "78b86d0c8aeafec2"
  },
  {
   "metadata": {
    "ExecuteTime": {
     "end_time": "2024-11-07T09:04:58.684655Z",
     "start_time": "2024-11-07T09:04:58.637972Z"
    }
   },
   "cell_type": "code",
   "source": [
    "dr_method = 'pca'\n",
    "X_train, X_test,y_train, y_test = load_processed_data(f'data/dataset1')\n",
    "print(X_train.shape)"
   ],
   "id": "b0fda7aa3c48ec0d",
   "outputs": [
    {
     "name": "stdout",
     "output_type": "stream",
     "text": [
      "(32950, 67)\n"
     ]
    }
   ],
   "execution_count": 10
  },
  {
   "metadata": {
    "ExecuteTime": {
     "end_time": "2024-11-04T00:19:24.667112Z",
     "start_time": "2024-11-04T00:19:24.558195Z"
    }
   },
   "cell_type": "code",
   "source": "y_train",
   "id": "ad11874162ce1222",
   "outputs": [
    {
     "data": {
      "text/plain": [
       "array([-1, -1,  1, ...,  1, -1, -1])"
      ]
     },
     "execution_count": 15,
     "metadata": {},
     "output_type": "execute_result"
    }
   ],
   "execution_count": 15
  },
  {
   "metadata": {},
   "cell_type": "markdown",
   "source": "## Kmeans",
   "id": "b9453f5e2d824d65"
  },
  {
   "metadata": {
    "ExecuteTime": {
     "end_time": "2024-11-07T09:05:17.620955Z",
     "start_time": "2024-11-07T09:05:12.272551Z"
    }
   },
   "cell_type": "code",
   "source": [
    "exp = ClusterNN(\n",
    "    cluster_method = 'kmeans',\n",
    "    n_cluster=2,\n",
    "    nn_params_grid=params_grid,\n",
    "    save_dir=f'results/{dataset}/{experiment_name}'\n",
    ")\n",
    "results = exp.run_experiment(X_train, X_test, y_train, y_test)\n",
    "save_pickle(results, f'results/{dataset}/{experiment_name}', f'{dr_method}_kmeans_results')\n"
   ],
   "id": "30ceea20ab56fa88",
   "outputs": [
    {
     "name": "stdout",
     "output_type": "stream",
     "text": [
      "Running clustering with n_clusters=2\n",
      "Running NN\n",
      "Fitting 5 folds for each of 96 candidates, totalling 480 fits\n"
     ]
    },
    {
     "name": "stderr",
     "output_type": "stream",
     "text": [
      "/Users/Placebo/anaconda3/lib/python3.10/site-packages/sklearn/neural_network/_multilayer_perceptron.py:691: UserWarning: Training interrupted by user.\n",
      "  warnings.warn(\"Training interrupted by user.\")\n",
      "/Users/Placebo/anaconda3/lib/python3.10/site-packages/sklearn/neural_network/_multilayer_perceptron.py:691: UserWarning: Training interrupted by user.\n",
      "  warnings.warn(\"Training interrupted by user.\")\n",
      "/Users/Placebo/anaconda3/lib/python3.10/site-packages/sklearn/neural_network/_multilayer_perceptron.py:691: UserWarning: Training interrupted by user.\n",
      "  warnings.warn(\"Training interrupted by user.\")\n",
      "/Users/Placebo/anaconda3/lib/python3.10/site-packages/sklearn/neural_network/_multilayer_perceptron.py:691: UserWarning: Training interrupted by user.\n",
      "  warnings.warn(\"Training interrupted by user.\")\n",
      "/Users/Placebo/anaconda3/lib/python3.10/site-packages/sklearn/neural_network/_multilayer_perceptron.py:691: UserWarning: Training interrupted by user.\n",
      "  warnings.warn(\"Training interrupted by user.\")\n",
      "/Users/Placebo/anaconda3/lib/python3.10/site-packages/sklearn/neural_network/_multilayer_perceptron.py:691: UserWarning: Training interrupted by user.\n",
      "  warnings.warn(\"Training interrupted by user.\")\n",
      "/Users/Placebo/anaconda3/lib/python3.10/site-packages/sklearn/neural_network/_multilayer_perceptron.py:691: UserWarning: Training interrupted by user.\n",
      "  warnings.warn(\"Training interrupted by user.\")\n",
      "/Users/Placebo/anaconda3/lib/python3.10/site-packages/sklearn/neural_network/_multilayer_perceptron.py:691: UserWarning: Training interrupted by user.\n",
      "  warnings.warn(\"Training interrupted by user.\")\n",
      "/Users/Placebo/anaconda3/lib/python3.10/site-packages/sklearn/neural_network/_multilayer_perceptron.py:691: UserWarning: Training interrupted by user.\n",
      "  warnings.warn(\"Training interrupted by user.\")\n",
      "/Users/Placebo/anaconda3/lib/python3.10/site-packages/sklearn/neural_network/_multilayer_perceptron.py:691: UserWarning: Training interrupted by user.\n",
      "  warnings.warn(\"Training interrupted by user.\")\n"
     ]
    },
    {
     "ename": "KeyboardInterrupt",
     "evalue": "",
     "output_type": "error",
     "traceback": [
      "\u001B[0;31m---------------------------------------------------------------------------\u001B[0m",
      "\u001B[0;31mKeyboardInterrupt\u001B[0m                         Traceback (most recent call last)",
      "Cell \u001B[0;32mIn[11], line 7\u001B[0m\n\u001B[1;32m      1\u001B[0m exp \u001B[38;5;241m=\u001B[39m ClusterNN(\n\u001B[1;32m      2\u001B[0m     cluster_method \u001B[38;5;241m=\u001B[39m \u001B[38;5;124m'\u001B[39m\u001B[38;5;124mkmeans\u001B[39m\u001B[38;5;124m'\u001B[39m,\n\u001B[1;32m      3\u001B[0m     n_cluster\u001B[38;5;241m=\u001B[39m\u001B[38;5;241m2\u001B[39m,\n\u001B[1;32m      4\u001B[0m     nn_params_grid\u001B[38;5;241m=\u001B[39mparams_grid,\n\u001B[1;32m      5\u001B[0m     save_dir\u001B[38;5;241m=\u001B[39m\u001B[38;5;124mf\u001B[39m\u001B[38;5;124m'\u001B[39m\u001B[38;5;124mresults/\u001B[39m\u001B[38;5;132;01m{\u001B[39;00mdataset\u001B[38;5;132;01m}\u001B[39;00m\u001B[38;5;124m/\u001B[39m\u001B[38;5;132;01m{\u001B[39;00mexperiment_name\u001B[38;5;132;01m}\u001B[39;00m\u001B[38;5;124m'\u001B[39m\n\u001B[1;32m      6\u001B[0m )\n\u001B[0;32m----> 7\u001B[0m results \u001B[38;5;241m=\u001B[39m \u001B[43mexp\u001B[49m\u001B[38;5;241;43m.\u001B[39;49m\u001B[43mrun_experiment\u001B[49m\u001B[43m(\u001B[49m\u001B[43mX_train\u001B[49m\u001B[43m,\u001B[49m\u001B[43m \u001B[49m\u001B[43mX_test\u001B[49m\u001B[43m,\u001B[49m\u001B[43m \u001B[49m\u001B[43my_train\u001B[49m\u001B[43m,\u001B[49m\u001B[43m \u001B[49m\u001B[43my_test\u001B[49m\u001B[43m)\u001B[49m\n\u001B[1;32m      8\u001B[0m save_pickle(results, \u001B[38;5;124mf\u001B[39m\u001B[38;5;124m'\u001B[39m\u001B[38;5;124mresults/\u001B[39m\u001B[38;5;132;01m{\u001B[39;00mdataset\u001B[38;5;132;01m}\u001B[39;00m\u001B[38;5;124m/\u001B[39m\u001B[38;5;132;01m{\u001B[39;00mexperiment_name\u001B[38;5;132;01m}\u001B[39;00m\u001B[38;5;124m'\u001B[39m, \u001B[38;5;124mf\u001B[39m\u001B[38;5;124m'\u001B[39m\u001B[38;5;132;01m{\u001B[39;00mdr_method\u001B[38;5;132;01m}\u001B[39;00m\u001B[38;5;124m_kmeans_results\u001B[39m\u001B[38;5;124m'\u001B[39m)\n",
      "File \u001B[0;32m~/OMSCS/CS7641-ML/MachineLearningProjects/UnsupervisedLearning/src/experiments/experiment5_NN.py:47\u001B[0m, in \u001B[0;36mClusterNN.run_experiment\u001B[0;34m(self, X_train, X_test, y_train, y_test)\u001B[0m\n\u001B[1;32m     45\u001B[0m nn_model \u001B[38;5;241m=\u001B[39m DimensionalityReductionNN(random_state\u001B[38;5;241m=\u001B[39m\u001B[38;5;28mself\u001B[39m\u001B[38;5;241m.\u001B[39mrandom_state)\n\u001B[1;32m     46\u001B[0m \u001B[38;5;28mprint\u001B[39m(\u001B[38;5;124m\"\u001B[39m\u001B[38;5;124mRunning NN\u001B[39m\u001B[38;5;124m\"\u001B[39m)\n\u001B[0;32m---> 47\u001B[0m best_nn, best_params, cv_results \u001B[38;5;241m=\u001B[39m \u001B[43mnn_model\u001B[49m\u001B[38;5;241;43m.\u001B[39;49m\u001B[43mtrain_tuning\u001B[49m\u001B[43m(\u001B[49m\u001B[43mnew_x_train\u001B[49m\u001B[43m,\u001B[49m\u001B[43m \u001B[49m\u001B[43my_train\u001B[49m\u001B[43m,\u001B[49m\u001B[43m \u001B[49m\u001B[38;5;28;43mself\u001B[39;49m\u001B[38;5;241;43m.\u001B[39;49m\u001B[43mnn_params_grid\u001B[49m\u001B[43m)\u001B[49m\n\u001B[1;32m     48\u001B[0m \u001B[38;5;28mprint\u001B[39m(\u001B[38;5;124m\"\u001B[39m\u001B[38;5;124mEvaluating NN\u001B[39m\u001B[38;5;124m\"\u001B[39m)\n\u001B[1;32m     49\u001B[0m metrics \u001B[38;5;241m=\u001B[39m nn_model\u001B[38;5;241m.\u001B[39mevaluate(new_x_test, y_test)\n",
      "File \u001B[0;32m~/OMSCS/CS7641-ML/MachineLearningProjects/UnsupervisedLearning/src/neural_network/nn_model.py:32\u001B[0m, in \u001B[0;36mDimensionalityReductionNN.train_tuning\u001B[0;34m(self, X_train, y_train, param_grid, scoring)\u001B[0m\n\u001B[1;32m     21\u001B[0m \u001B[38;5;250m\u001B[39m\u001B[38;5;124;03m\"\"\"Train the neural network.\u001B[39;00m\n\u001B[1;32m     22\u001B[0m \n\u001B[1;32m     23\u001B[0m \u001B[38;5;124;03mParameters:\u001B[39;00m\n\u001B[0;32m   (...)\u001B[0m\n\u001B[1;32m     29\u001B[0m \u001B[38;5;124;03mparam_grid : Dict\u001B[39;00m\n\u001B[1;32m     30\u001B[0m \u001B[38;5;124;03m\"\"\"\u001B[39;00m\n\u001B[1;32m     31\u001B[0m grid_search \u001B[38;5;241m=\u001B[39m GridSearchCV(\u001B[38;5;28mself\u001B[39m\u001B[38;5;241m.\u001B[39mnn, param_grid, cv\u001B[38;5;241m=\u001B[39m\u001B[38;5;241m5\u001B[39m, scoring\u001B[38;5;241m=\u001B[39mscoring,n_jobs\u001B[38;5;241m=\u001B[39m\u001B[38;5;241m-\u001B[39m\u001B[38;5;241m1\u001B[39m, return_train_score\u001B[38;5;241m=\u001B[39m\u001B[38;5;28;01mTrue\u001B[39;00m, verbose\u001B[38;5;241m=\u001B[39m\u001B[38;5;241m3\u001B[39m)\n\u001B[0;32m---> 32\u001B[0m \u001B[43mgrid_search\u001B[49m\u001B[38;5;241;43m.\u001B[39;49m\u001B[43mfit\u001B[49m\u001B[43m(\u001B[49m\u001B[43mX_train\u001B[49m\u001B[43m,\u001B[49m\u001B[43m \u001B[49m\u001B[43my_train\u001B[49m\u001B[43m)\u001B[49m\n\u001B[1;32m     33\u001B[0m \u001B[38;5;28mself\u001B[39m\u001B[38;5;241m.\u001B[39mbest_nn \u001B[38;5;241m=\u001B[39m grid_search\u001B[38;5;241m.\u001B[39mbest_estimator_\n\u001B[1;32m     34\u001B[0m \u001B[38;5;28mself\u001B[39m\u001B[38;5;241m.\u001B[39mbest_params \u001B[38;5;241m=\u001B[39m grid_search\u001B[38;5;241m.\u001B[39mbest_params_\n",
      "File \u001B[0;32m~/anaconda3/lib/python3.10/site-packages/sklearn/model_selection/_search.py:874\u001B[0m, in \u001B[0;36mBaseSearchCV.fit\u001B[0;34m(self, X, y, groups, **fit_params)\u001B[0m\n\u001B[1;32m    868\u001B[0m     results \u001B[38;5;241m=\u001B[39m \u001B[38;5;28mself\u001B[39m\u001B[38;5;241m.\u001B[39m_format_results(\n\u001B[1;32m    869\u001B[0m         all_candidate_params, n_splits, all_out, all_more_results\n\u001B[1;32m    870\u001B[0m     )\n\u001B[1;32m    872\u001B[0m     \u001B[38;5;28;01mreturn\u001B[39;00m results\n\u001B[0;32m--> 874\u001B[0m \u001B[38;5;28;43mself\u001B[39;49m\u001B[38;5;241;43m.\u001B[39;49m\u001B[43m_run_search\u001B[49m\u001B[43m(\u001B[49m\u001B[43mevaluate_candidates\u001B[49m\u001B[43m)\u001B[49m\n\u001B[1;32m    876\u001B[0m \u001B[38;5;66;03m# multimetric is determined here because in the case of a callable\u001B[39;00m\n\u001B[1;32m    877\u001B[0m \u001B[38;5;66;03m# self.scoring the return type is only known after calling\u001B[39;00m\n\u001B[1;32m    878\u001B[0m first_test_score \u001B[38;5;241m=\u001B[39m all_out[\u001B[38;5;241m0\u001B[39m][\u001B[38;5;124m\"\u001B[39m\u001B[38;5;124mtest_scores\u001B[39m\u001B[38;5;124m\"\u001B[39m]\n",
      "File \u001B[0;32m~/anaconda3/lib/python3.10/site-packages/sklearn/model_selection/_search.py:1388\u001B[0m, in \u001B[0;36mGridSearchCV._run_search\u001B[0;34m(self, evaluate_candidates)\u001B[0m\n\u001B[1;32m   1386\u001B[0m \u001B[38;5;28;01mdef\u001B[39;00m \u001B[38;5;21m_run_search\u001B[39m(\u001B[38;5;28mself\u001B[39m, evaluate_candidates):\n\u001B[1;32m   1387\u001B[0m \u001B[38;5;250m    \u001B[39m\u001B[38;5;124;03m\"\"\"Search all candidates in param_grid\"\"\"\u001B[39;00m\n\u001B[0;32m-> 1388\u001B[0m     \u001B[43mevaluate_candidates\u001B[49m\u001B[43m(\u001B[49m\u001B[43mParameterGrid\u001B[49m\u001B[43m(\u001B[49m\u001B[38;5;28;43mself\u001B[39;49m\u001B[38;5;241;43m.\u001B[39;49m\u001B[43mparam_grid\u001B[49m\u001B[43m)\u001B[49m\u001B[43m)\u001B[49m\n",
      "File \u001B[0;32m~/anaconda3/lib/python3.10/site-packages/sklearn/model_selection/_search.py:821\u001B[0m, in \u001B[0;36mBaseSearchCV.fit.<locals>.evaluate_candidates\u001B[0;34m(candidate_params, cv, more_results)\u001B[0m\n\u001B[1;32m    813\u001B[0m \u001B[38;5;28;01mif\u001B[39;00m \u001B[38;5;28mself\u001B[39m\u001B[38;5;241m.\u001B[39mverbose \u001B[38;5;241m>\u001B[39m \u001B[38;5;241m0\u001B[39m:\n\u001B[1;32m    814\u001B[0m     \u001B[38;5;28mprint\u001B[39m(\n\u001B[1;32m    815\u001B[0m         \u001B[38;5;124m\"\u001B[39m\u001B[38;5;124mFitting \u001B[39m\u001B[38;5;132;01m{0}\u001B[39;00m\u001B[38;5;124m folds for each of \u001B[39m\u001B[38;5;132;01m{1}\u001B[39;00m\u001B[38;5;124m candidates,\u001B[39m\u001B[38;5;124m\"\u001B[39m\n\u001B[1;32m    816\u001B[0m         \u001B[38;5;124m\"\u001B[39m\u001B[38;5;124m totalling \u001B[39m\u001B[38;5;132;01m{2}\u001B[39;00m\u001B[38;5;124m fits\u001B[39m\u001B[38;5;124m\"\u001B[39m\u001B[38;5;241m.\u001B[39mformat(\n\u001B[1;32m    817\u001B[0m             n_splits, n_candidates, n_candidates \u001B[38;5;241m*\u001B[39m n_splits\n\u001B[1;32m    818\u001B[0m         )\n\u001B[1;32m    819\u001B[0m     )\n\u001B[0;32m--> 821\u001B[0m out \u001B[38;5;241m=\u001B[39m \u001B[43mparallel\u001B[49m\u001B[43m(\u001B[49m\n\u001B[1;32m    822\u001B[0m \u001B[43m    \u001B[49m\u001B[43mdelayed\u001B[49m\u001B[43m(\u001B[49m\u001B[43m_fit_and_score\u001B[49m\u001B[43m)\u001B[49m\u001B[43m(\u001B[49m\n\u001B[1;32m    823\u001B[0m \u001B[43m        \u001B[49m\u001B[43mclone\u001B[49m\u001B[43m(\u001B[49m\u001B[43mbase_estimator\u001B[49m\u001B[43m)\u001B[49m\u001B[43m,\u001B[49m\n\u001B[1;32m    824\u001B[0m \u001B[43m        \u001B[49m\u001B[43mX\u001B[49m\u001B[43m,\u001B[49m\n\u001B[1;32m    825\u001B[0m \u001B[43m        \u001B[49m\u001B[43my\u001B[49m\u001B[43m,\u001B[49m\n\u001B[1;32m    826\u001B[0m \u001B[43m        \u001B[49m\u001B[43mtrain\u001B[49m\u001B[38;5;241;43m=\u001B[39;49m\u001B[43mtrain\u001B[49m\u001B[43m,\u001B[49m\n\u001B[1;32m    827\u001B[0m \u001B[43m        \u001B[49m\u001B[43mtest\u001B[49m\u001B[38;5;241;43m=\u001B[39;49m\u001B[43mtest\u001B[49m\u001B[43m,\u001B[49m\n\u001B[1;32m    828\u001B[0m \u001B[43m        \u001B[49m\u001B[43mparameters\u001B[49m\u001B[38;5;241;43m=\u001B[39;49m\u001B[43mparameters\u001B[49m\u001B[43m,\u001B[49m\n\u001B[1;32m    829\u001B[0m \u001B[43m        \u001B[49m\u001B[43msplit_progress\u001B[49m\u001B[38;5;241;43m=\u001B[39;49m\u001B[43m(\u001B[49m\u001B[43msplit_idx\u001B[49m\u001B[43m,\u001B[49m\u001B[43m \u001B[49m\u001B[43mn_splits\u001B[49m\u001B[43m)\u001B[49m\u001B[43m,\u001B[49m\n\u001B[1;32m    830\u001B[0m \u001B[43m        \u001B[49m\u001B[43mcandidate_progress\u001B[49m\u001B[38;5;241;43m=\u001B[39;49m\u001B[43m(\u001B[49m\u001B[43mcand_idx\u001B[49m\u001B[43m,\u001B[49m\u001B[43m \u001B[49m\u001B[43mn_candidates\u001B[49m\u001B[43m)\u001B[49m\u001B[43m,\u001B[49m\n\u001B[1;32m    831\u001B[0m \u001B[43m        \u001B[49m\u001B[38;5;241;43m*\u001B[39;49m\u001B[38;5;241;43m*\u001B[39;49m\u001B[43mfit_and_score_kwargs\u001B[49m\u001B[43m,\u001B[49m\n\u001B[1;32m    832\u001B[0m \u001B[43m    \u001B[49m\u001B[43m)\u001B[49m\n\u001B[1;32m    833\u001B[0m \u001B[43m    \u001B[49m\u001B[38;5;28;43;01mfor\u001B[39;49;00m\u001B[43m \u001B[49m\u001B[43m(\u001B[49m\u001B[43mcand_idx\u001B[49m\u001B[43m,\u001B[49m\u001B[43m \u001B[49m\u001B[43mparameters\u001B[49m\u001B[43m)\u001B[49m\u001B[43m,\u001B[49m\u001B[43m \u001B[49m\u001B[43m(\u001B[49m\u001B[43msplit_idx\u001B[49m\u001B[43m,\u001B[49m\u001B[43m \u001B[49m\u001B[43m(\u001B[49m\u001B[43mtrain\u001B[49m\u001B[43m,\u001B[49m\u001B[43m \u001B[49m\u001B[43mtest\u001B[49m\u001B[43m)\u001B[49m\u001B[43m)\u001B[49m\u001B[43m \u001B[49m\u001B[38;5;129;43;01min\u001B[39;49;00m\u001B[43m \u001B[49m\u001B[43mproduct\u001B[49m\u001B[43m(\u001B[49m\n\u001B[1;32m    834\u001B[0m \u001B[43m        \u001B[49m\u001B[38;5;28;43menumerate\u001B[39;49m\u001B[43m(\u001B[49m\u001B[43mcandidate_params\u001B[49m\u001B[43m)\u001B[49m\u001B[43m,\u001B[49m\u001B[43m \u001B[49m\u001B[38;5;28;43menumerate\u001B[39;49m\u001B[43m(\u001B[49m\u001B[43mcv\u001B[49m\u001B[38;5;241;43m.\u001B[39;49m\u001B[43msplit\u001B[49m\u001B[43m(\u001B[49m\u001B[43mX\u001B[49m\u001B[43m,\u001B[49m\u001B[43m \u001B[49m\u001B[43my\u001B[49m\u001B[43m,\u001B[49m\u001B[43m \u001B[49m\u001B[43mgroups\u001B[49m\u001B[43m)\u001B[49m\u001B[43m)\u001B[49m\n\u001B[1;32m    835\u001B[0m \u001B[43m    \u001B[49m\u001B[43m)\u001B[49m\n\u001B[1;32m    836\u001B[0m \u001B[43m\u001B[49m\u001B[43m)\u001B[49m\n\u001B[1;32m    838\u001B[0m \u001B[38;5;28;01mif\u001B[39;00m \u001B[38;5;28mlen\u001B[39m(out) \u001B[38;5;241m<\u001B[39m \u001B[38;5;241m1\u001B[39m:\n\u001B[1;32m    839\u001B[0m     \u001B[38;5;28;01mraise\u001B[39;00m \u001B[38;5;167;01mValueError\u001B[39;00m(\n\u001B[1;32m    840\u001B[0m         \u001B[38;5;124m\"\u001B[39m\u001B[38;5;124mNo fits were performed. \u001B[39m\u001B[38;5;124m\"\u001B[39m\n\u001B[1;32m    841\u001B[0m         \u001B[38;5;124m\"\u001B[39m\u001B[38;5;124mWas the CV iterator empty? \u001B[39m\u001B[38;5;124m\"\u001B[39m\n\u001B[1;32m    842\u001B[0m         \u001B[38;5;124m\"\u001B[39m\u001B[38;5;124mWere there no candidates?\u001B[39m\u001B[38;5;124m\"\u001B[39m\n\u001B[1;32m    843\u001B[0m     )\n",
      "File \u001B[0;32m~/anaconda3/lib/python3.10/site-packages/sklearn/utils/parallel.py:63\u001B[0m, in \u001B[0;36mParallel.__call__\u001B[0;34m(self, iterable)\u001B[0m\n\u001B[1;32m     58\u001B[0m config \u001B[38;5;241m=\u001B[39m get_config()\n\u001B[1;32m     59\u001B[0m iterable_with_config \u001B[38;5;241m=\u001B[39m (\n\u001B[1;32m     60\u001B[0m     (_with_config(delayed_func, config), args, kwargs)\n\u001B[1;32m     61\u001B[0m     \u001B[38;5;28;01mfor\u001B[39;00m delayed_func, args, kwargs \u001B[38;5;129;01min\u001B[39;00m iterable\n\u001B[1;32m     62\u001B[0m )\n\u001B[0;32m---> 63\u001B[0m \u001B[38;5;28;01mreturn\u001B[39;00m \u001B[38;5;28;43msuper\u001B[39;49m\u001B[43m(\u001B[49m\u001B[43m)\u001B[49m\u001B[38;5;241;43m.\u001B[39;49m\u001B[38;5;21;43m__call__\u001B[39;49m\u001B[43m(\u001B[49m\u001B[43miterable_with_config\u001B[49m\u001B[43m)\u001B[49m\n",
      "File \u001B[0;32m~/anaconda3/lib/python3.10/site-packages/joblib/parallel.py:1061\u001B[0m, in \u001B[0;36mParallel.__call__\u001B[0;34m(self, iterable)\u001B[0m\n\u001B[1;32m   1058\u001B[0m     \u001B[38;5;28mself\u001B[39m\u001B[38;5;241m.\u001B[39m_iterating \u001B[38;5;241m=\u001B[39m \u001B[38;5;28;01mFalse\u001B[39;00m\n\u001B[1;32m   1060\u001B[0m \u001B[38;5;28;01mwith\u001B[39;00m \u001B[38;5;28mself\u001B[39m\u001B[38;5;241m.\u001B[39m_backend\u001B[38;5;241m.\u001B[39mretrieval_context():\n\u001B[0;32m-> 1061\u001B[0m     \u001B[38;5;28;43mself\u001B[39;49m\u001B[38;5;241;43m.\u001B[39;49m\u001B[43mretrieve\u001B[49m\u001B[43m(\u001B[49m\u001B[43m)\u001B[49m\n\u001B[1;32m   1062\u001B[0m \u001B[38;5;66;03m# Make sure that we get a last message telling us we are done\u001B[39;00m\n\u001B[1;32m   1063\u001B[0m elapsed_time \u001B[38;5;241m=\u001B[39m time\u001B[38;5;241m.\u001B[39mtime() \u001B[38;5;241m-\u001B[39m \u001B[38;5;28mself\u001B[39m\u001B[38;5;241m.\u001B[39m_start_time\n",
      "File \u001B[0;32m~/anaconda3/lib/python3.10/site-packages/joblib/parallel.py:938\u001B[0m, in \u001B[0;36mParallel.retrieve\u001B[0;34m(self)\u001B[0m\n\u001B[1;32m    936\u001B[0m \u001B[38;5;28;01mtry\u001B[39;00m:\n\u001B[1;32m    937\u001B[0m     \u001B[38;5;28;01mif\u001B[39;00m \u001B[38;5;28mgetattr\u001B[39m(\u001B[38;5;28mself\u001B[39m\u001B[38;5;241m.\u001B[39m_backend, \u001B[38;5;124m'\u001B[39m\u001B[38;5;124msupports_timeout\u001B[39m\u001B[38;5;124m'\u001B[39m, \u001B[38;5;28;01mFalse\u001B[39;00m):\n\u001B[0;32m--> 938\u001B[0m         \u001B[38;5;28mself\u001B[39m\u001B[38;5;241m.\u001B[39m_output\u001B[38;5;241m.\u001B[39mextend(\u001B[43mjob\u001B[49m\u001B[38;5;241;43m.\u001B[39;49m\u001B[43mget\u001B[49m\u001B[43m(\u001B[49m\u001B[43mtimeout\u001B[49m\u001B[38;5;241;43m=\u001B[39;49m\u001B[38;5;28;43mself\u001B[39;49m\u001B[38;5;241;43m.\u001B[39;49m\u001B[43mtimeout\u001B[49m\u001B[43m)\u001B[49m)\n\u001B[1;32m    939\u001B[0m     \u001B[38;5;28;01melse\u001B[39;00m:\n\u001B[1;32m    940\u001B[0m         \u001B[38;5;28mself\u001B[39m\u001B[38;5;241m.\u001B[39m_output\u001B[38;5;241m.\u001B[39mextend(job\u001B[38;5;241m.\u001B[39mget())\n",
      "File \u001B[0;32m~/anaconda3/lib/python3.10/site-packages/joblib/_parallel_backends.py:542\u001B[0m, in \u001B[0;36mLokyBackend.wrap_future_result\u001B[0;34m(future, timeout)\u001B[0m\n\u001B[1;32m    539\u001B[0m \u001B[38;5;250m\u001B[39m\u001B[38;5;124;03m\"\"\"Wrapper for Future.result to implement the same behaviour as\u001B[39;00m\n\u001B[1;32m    540\u001B[0m \u001B[38;5;124;03mAsyncResults.get from multiprocessing.\"\"\"\u001B[39;00m\n\u001B[1;32m    541\u001B[0m \u001B[38;5;28;01mtry\u001B[39;00m:\n\u001B[0;32m--> 542\u001B[0m     \u001B[38;5;28;01mreturn\u001B[39;00m \u001B[43mfuture\u001B[49m\u001B[38;5;241;43m.\u001B[39;49m\u001B[43mresult\u001B[49m\u001B[43m(\u001B[49m\u001B[43mtimeout\u001B[49m\u001B[38;5;241;43m=\u001B[39;49m\u001B[43mtimeout\u001B[49m\u001B[43m)\u001B[49m\n\u001B[1;32m    543\u001B[0m \u001B[38;5;28;01mexcept\u001B[39;00m CfTimeoutError \u001B[38;5;28;01mas\u001B[39;00m e:\n\u001B[1;32m    544\u001B[0m     \u001B[38;5;28;01mraise\u001B[39;00m \u001B[38;5;167;01mTimeoutError\u001B[39;00m \u001B[38;5;28;01mfrom\u001B[39;00m \u001B[38;5;21;01me\u001B[39;00m\n",
      "File \u001B[0;32m~/anaconda3/lib/python3.10/concurrent/futures/_base.py:453\u001B[0m, in \u001B[0;36mFuture.result\u001B[0;34m(self, timeout)\u001B[0m\n\u001B[1;32m    450\u001B[0m \u001B[38;5;28;01melif\u001B[39;00m \u001B[38;5;28mself\u001B[39m\u001B[38;5;241m.\u001B[39m_state \u001B[38;5;241m==\u001B[39m FINISHED:\n\u001B[1;32m    451\u001B[0m     \u001B[38;5;28;01mreturn\u001B[39;00m \u001B[38;5;28mself\u001B[39m\u001B[38;5;241m.\u001B[39m__get_result()\n\u001B[0;32m--> 453\u001B[0m \u001B[38;5;28;43mself\u001B[39;49m\u001B[38;5;241;43m.\u001B[39;49m\u001B[43m_condition\u001B[49m\u001B[38;5;241;43m.\u001B[39;49m\u001B[43mwait\u001B[49m\u001B[43m(\u001B[49m\u001B[43mtimeout\u001B[49m\u001B[43m)\u001B[49m\n\u001B[1;32m    455\u001B[0m \u001B[38;5;28;01mif\u001B[39;00m \u001B[38;5;28mself\u001B[39m\u001B[38;5;241m.\u001B[39m_state \u001B[38;5;129;01min\u001B[39;00m [CANCELLED, CANCELLED_AND_NOTIFIED]:\n\u001B[1;32m    456\u001B[0m     \u001B[38;5;28;01mraise\u001B[39;00m CancelledError()\n",
      "File \u001B[0;32m~/anaconda3/lib/python3.10/threading.py:320\u001B[0m, in \u001B[0;36mCondition.wait\u001B[0;34m(self, timeout)\u001B[0m\n\u001B[1;32m    318\u001B[0m \u001B[38;5;28;01mtry\u001B[39;00m:    \u001B[38;5;66;03m# restore state no matter what (e.g., KeyboardInterrupt)\u001B[39;00m\n\u001B[1;32m    319\u001B[0m     \u001B[38;5;28;01mif\u001B[39;00m timeout \u001B[38;5;129;01mis\u001B[39;00m \u001B[38;5;28;01mNone\u001B[39;00m:\n\u001B[0;32m--> 320\u001B[0m         \u001B[43mwaiter\u001B[49m\u001B[38;5;241;43m.\u001B[39;49m\u001B[43macquire\u001B[49m\u001B[43m(\u001B[49m\u001B[43m)\u001B[49m\n\u001B[1;32m    321\u001B[0m         gotit \u001B[38;5;241m=\u001B[39m \u001B[38;5;28;01mTrue\u001B[39;00m\n\u001B[1;32m    322\u001B[0m     \u001B[38;5;28;01melse\u001B[39;00m:\n",
      "\u001B[0;31mKeyboardInterrupt\u001B[0m: "
     ]
    }
   ],
   "execution_count": 11
  },
  {
   "metadata": {
    "ExecuteTime": {
     "end_time": "2024-11-03T09:27:44.460108Z",
     "start_time": "2024-11-03T09:27:44.412522Z"
    }
   },
   "cell_type": "code",
   "source": [
    "cv_result, eval_df = organize_experiment5_results(results)\n",
    "print('params:', cv_result['params'].values)\n",
    "print(cv_result)\n",
    "print(eval_df)"
   ],
   "id": "6b289a19d5783dce",
   "outputs": [
    {
     "name": "stdout",
     "output_type": "stream",
     "text": [
      "params: [{'hidden_layer_sizes': [10, 10], 'learning_rate_init': 0.01}]\n",
      "                                              params  mean_fit_time  \\\n",
      "0  {'hidden_layer_sizes': [10, 10], 'learning_rat...       0.507925   \n",
      "\n",
      "   mean_score_time  mean_test_score  mean_train_score  \n",
      "0         0.003306         0.576227          0.591345  \n",
      "   accuracy  precision    recall        f1\n",
      "0  0.919641   0.676754  0.535365  0.597813\n"
     ]
    }
   ],
   "execution_count": 7
  },
  {
   "metadata": {},
   "cell_type": "markdown",
   "source": "## GMM",
   "id": "2d250849dc0a3121"
  },
  {
   "metadata": {
    "ExecuteTime": {
     "end_time": "2024-11-03T09:28:01.301949Z",
     "start_time": "2024-11-03T09:27:44.537052Z"
    }
   },
   "cell_type": "code",
   "source": [
    "exp = ClusterNN(\n",
    "    cluster_method = 'em',\n",
    "    n_cluster=2,\n",
    "    nn_params_grid=params_grid,\n",
    "    save_dir=f'results/{dataset}/{experiment_name}'\n",
    ")\n",
    "results = exp.run_experiment(X_train, X_test, y_train, y_test)\n",
    "save_pickle(results, f'results/{dataset}/{experiment_name}', f'{dr_method}_em_results')\n",
    "cv_result, eval_df = organize_experiment5_results(results)\n",
    "print('params:', cv_result['params'].values)\n",
    "print(cv_result)\n",
    "print(eval_df)"
   ],
   "id": "550dfe8aaa3da9b3",
   "outputs": [
    {
     "name": "stdout",
     "output_type": "stream",
     "text": [
      "Running clustering with n_clusters=2\n",
      "Running NN\n",
      "Fitting 5 folds for each of 48 candidates, totalling 240 fits\n",
      "Evaluating NN\n",
      "Data saved at results/dataset1/experiment5/pca_em_results.pkl\n",
      "params: [{'hidden_layer_sizes': [15, 10], 'learning_rate_init': 0.05}]\n",
      "                                              params  mean_fit_time  \\\n",
      "0  {'hidden_layer_sizes': [15, 10], 'learning_rat...       0.754531   \n",
      "\n",
      "   mean_score_time  mean_test_score  mean_train_score  \n",
      "0         0.002531         0.578049          0.594703  \n",
      "   accuracy  precision    recall        f1\n",
      "0  0.922554   0.663944  0.619151  0.640766\n"
     ]
    }
   ],
   "execution_count": 8
  },
  {
   "metadata": {},
   "cell_type": "markdown",
   "source": "# ICA",
   "id": "8133531a240652"
  },
  {
   "metadata": {
    "ExecuteTime": {
     "end_time": "2024-11-03T09:28:01.426223Z",
     "start_time": "2024-11-03T09:28:01.388448Z"
    }
   },
   "cell_type": "code",
   "source": "dr_method = 'ica'",
   "id": "8c480761f1028698",
   "outputs": [
    {
     "name": "stdout",
     "output_type": "stream",
     "text": [
      "(32950, 10)\n"
     ]
    }
   ],
   "execution_count": 9
  },
  {
   "metadata": {},
   "cell_type": "markdown",
   "source": "## Kmeans",
   "id": "e81ec0bb9868d87"
  },
  {
   "metadata": {
    "ExecuteTime": {
     "end_time": "2024-11-03T09:28:14.472397Z",
     "start_time": "2024-11-03T09:28:01.444426Z"
    }
   },
   "cell_type": "code",
   "source": [
    "\n",
    "exp = ClusterNN(\n",
    "    cluster_method = 'kmeans',\n",
    "    n_cluster=2,\n",
    "    nn_params_grid=params_grid,\n",
    "    save_dir=f'results/{dataset}/{experiment_name}'\n",
    ")\n",
    "results = exp.run_experiment(X_train, X_test, y_train, y_test)\n",
    "save_pickle(results, f'results/{dataset}/{experiment_name}', f'{dr_method}_kmeans_results')\n",
    "cv_result, eval_df = organize_experiment5_results(results)\n",
    "print('params:', cv_result['params'].values)\n",
    "print(cv_result)\n",
    "print(eval_df)\n"
   ],
   "id": "c9a6c6176722ac73",
   "outputs": [
    {
     "name": "stdout",
     "output_type": "stream",
     "text": [
      "Running clustering with n_clusters=2\n",
      "Running NN\n",
      "Fitting 5 folds for each of 48 candidates, totalling 240 fits\n",
      "Evaluating NN\n",
      "Data saved at results/dataset1/experiment5/ica_kmeans_results.pkl\n",
      "params: [{'hidden_layer_sizes': [15], 'learning_rate_init': 0.05}]\n",
      "                                              params  mean_fit_time  \\\n",
      "0  {'hidden_layer_sizes': [15], 'learning_rate_in...       0.525016   \n",
      "\n",
      "   mean_score_time  mean_test_score  mean_train_score  \n",
      "0         0.004119         0.526349          0.526598  \n",
      "   accuracy  precision    recall        f1\n",
      "0  0.913693   0.680556  0.426551  0.524415\n"
     ]
    }
   ],
   "execution_count": 10
  },
  {
   "metadata": {},
   "cell_type": "markdown",
   "source": "## GMM",
   "id": "b2b9337c705d5489"
  },
  {
   "metadata": {
    "ExecuteTime": {
     "end_time": "2024-11-03T09:28:27.684913Z",
     "start_time": "2024-11-03T09:28:14.508584Z"
    }
   },
   "cell_type": "code",
   "source": [
    "exp = ClusterNN(\n",
    "    cluster_method = 'em',\n",
    "    n_cluster=2,\n",
    "    nn_params_grid=params_grid,\n",
    "    save_dir=f'results/{dataset}/{experiment_name}'\n",
    ")\n",
    "results = exp.run_experiment(X_train, X_test, y_train, y_test)\n",
    "save_pickle(results, f'results/{dataset}/{experiment_name}', f'{dr_method}_em_results')\n",
    "cv_result, eval_df = organize_experiment5_results(results)\n",
    "print('params:', cv_result['params'].values)\n",
    "print(cv_result)\n",
    "print(eval_df)"
   ],
   "id": "2be5c9332d686119",
   "outputs": [
    {
     "name": "stdout",
     "output_type": "stream",
     "text": [
      "Running clustering with n_clusters=2\n",
      "Running NN\n",
      "Fitting 5 folds for each of 48 candidates, totalling 240 fits\n",
      "Evaluating NN\n",
      "Data saved at results/dataset1/experiment5/ica_em_results.pkl\n",
      "params: [{'hidden_layer_sizes': [10, 10], 'learning_rate_init': 0.005}]\n",
      "                                              params  mean_fit_time  \\\n",
      "0  {'hidden_layer_sizes': [10, 10], 'learning_rat...       0.720031   \n",
      "\n",
      "   mean_score_time  mean_test_score  mean_train_score  \n",
      "0         0.002258         0.541116          0.543848  \n",
      "   accuracy  precision   recall        f1\n",
      "0  0.915149   0.641026  0.54407  0.588582\n"
     ]
    }
   ],
   "execution_count": 11
  },
  {
   "metadata": {},
   "cell_type": "markdown",
   "source": "# RP",
   "id": "f6801a4263eb95b4"
  },
  {
   "metadata": {
    "ExecuteTime": {
     "end_time": "2024-11-03T09:28:27.797107Z",
     "start_time": "2024-11-03T09:28:27.753001Z"
    }
   },
   "cell_type": "code",
   "source": [
    "X_train = np.load(f'data/{dataset}/rp_X_train.npy')\n",
    "X_test = np.load(f'data/{dataset}/rp_X_test.npy')   \n",
    "y_train = np.load(f'data/{dataset}/y_train.npy')\n",
    "y_test = np.load(f'data/{dataset}/y_test.npy')\n",
    "print(X_train.shape)\n",
    "dr_method = 'rp'"
   ],
   "id": "891a6caf5c59d8cf",
   "outputs": [
    {
     "name": "stdout",
     "output_type": "stream",
     "text": [
      "(32950, 18)\n"
     ]
    }
   ],
   "execution_count": 12
  },
  {
   "metadata": {},
   "cell_type": "markdown",
   "source": "## Kmeans",
   "id": "71fc11d5073fe608"
  },
  {
   "metadata": {
    "ExecuteTime": {
     "end_time": "2024-11-03T09:28:45.900013Z",
     "start_time": "2024-11-03T09:28:27.832547Z"
    }
   },
   "cell_type": "code",
   "source": [
    "\n",
    "exp = ClusterNN(\n",
    "    cluster_method = 'kmeans',\n",
    "    n_cluster=2,\n",
    "    nn_params_grid=params_grid,\n",
    "    save_dir=f'results/{dataset}/{experiment_name}'\n",
    ")\n",
    "results = exp.run_experiment(X_train, X_test, y_train, y_test)\n",
    "save_pickle(results, f'results/{dataset}/{experiment_name}', f'{dr_method}_kmeans_results')\n",
    "cv_result, eval_df = organize_experiment5_results(results)\n",
    "print('params:', cv_result['params'].values)\n",
    "print(cv_result)\n",
    "print(eval_df)"
   ],
   "id": "ea2ac0576186095c",
   "outputs": [
    {
     "name": "stdout",
     "output_type": "stream",
     "text": [
      "Running clustering with n_clusters=2\n",
      "Running NN\n",
      "Fitting 5 folds for each of 48 candidates, totalling 240 fits\n",
      "Evaluating NN\n",
      "Data saved at results/dataset1/experiment5/rp_kmeans_results.pkl\n",
      "params: [{'hidden_layer_sizes': [10, 5], 'learning_rate_init': 0.02}]\n",
      "                                              params  mean_fit_time  \\\n",
      "0  {'hidden_layer_sizes': [10, 5], 'learning_rate...       0.613507   \n",
      "\n",
      "   mean_score_time  mean_test_score  mean_train_score  \n",
      "0         0.002158         0.555386          0.566835  \n",
      "   accuracy  precision    recall        f1\n",
      "0  0.919155   0.655215  0.581066  0.615917\n"
     ]
    }
   ],
   "execution_count": 13
  },
  {
   "metadata": {},
   "cell_type": "markdown",
   "source": "## GMM",
   "id": "daef2ae3b74a3304"
  },
  {
   "metadata": {
    "ExecuteTime": {
     "end_time": "2024-11-03T09:29:04.038258Z",
     "start_time": "2024-11-03T09:28:45.922117Z"
    }
   },
   "cell_type": "code",
   "source": [
    "exp = ClusterNN(\n",
    "    cluster_method = 'em',\n",
    "    n_cluster=2,\n",
    "    nn_params_grid=params_grid,\n",
    "    save_dir=f'results/{dataset}/{experiment_name}'\n",
    ")\n",
    "results = exp.run_experiment(X_train, X_test, y_train, y_test)\n",
    "save_pickle(results, f'results/{dataset}/{experiment_name}', f'{dr_method}_em_results')\n",
    "cv_result, eval_df = organize_experiment5_results(results)\n",
    "print('params:', cv_result['params'].values)\n",
    "print(cv_result)\n",
    "print(eval_df)"
   ],
   "id": "c6e89da2e2169d6d",
   "outputs": [
    {
     "name": "stdout",
     "output_type": "stream",
     "text": [
      "Running clustering with n_clusters=2\n",
      "Running NN\n",
      "Fitting 5 folds for each of 48 candidates, totalling 240 fits\n",
      "Evaluating NN\n",
      "Data saved at results/dataset1/experiment5/rp_em_results.pkl\n",
      "params: [{'hidden_layer_sizes': [10, 5], 'learning_rate_init': 0.02}]\n",
      "                                              params  mean_fit_time  \\\n",
      "0  {'hidden_layer_sizes': [10, 5], 'learning_rate...       0.450936   \n",
      "\n",
      "   mean_score_time  mean_test_score  mean_train_score  \n",
      "0         0.002942         0.556184          0.571299  \n",
      "   accuracy  precision   recall        f1\n",
      "0  0.919277   0.683526  0.51469  0.587213\n"
     ]
    }
   ],
   "execution_count": 14
  },
  {
   "metadata": {},
   "cell_type": "markdown",
   "source": "# New setting",
   "id": "351413d292f9fde8"
  },
  {
   "metadata": {
    "ExecuteTime": {
     "end_time": "2024-11-07T10:14:32.156221Z",
     "start_time": "2024-11-07T10:14:32.081789Z"
    }
   },
   "cell_type": "code",
   "source": [
    "X_train, X_test,y_train, y_test = load_processed_data(f'data/dataset1')\n",
    "print(X_train.shape)\n",
    "print(X_test.shape)\n",
    "\n",
    "cluster_config = [\n",
    "    {'cluster': 'kmeans', 'k': 2},\n",
    "    {'cluster': 'em', 'k': 2}\n",
    "]\n",
    "\n",
    "params_grid = {\n",
    "     'hidden_layer_sizes': [ [32], [40], [45], [50], [32, 5], [32, 10], [32, 15], [32, 20], [32, 25], [32, 30], [32, 32]],\n",
    "    'learning_rate_init': [0.05, 0.02, 0.01, .005, .001, .0005, .0001],\n",
    "    'max_iter': [2000], \n",
    "    'learning_rate':[ 'adaptive'], \n",
    "    'early_stopping': [True],\n",
    "    'n_iter_no_change': [20]\n",
    "}\n",
    "# params_grid = {\n",
    "#      'hidden_layer_sizes': [ [30]],\n",
    "#     'learning_rate_init': [0.01],\n",
    "#         'max_iter': [1000], \n",
    "#     'learning_rate':[ 'adaptive'], \n",
    "#     'early_stopping': [True]\n",
    "# }"
   ],
   "id": "81f7d47a9027a530",
   "outputs": [
    {
     "name": "stdout",
     "output_type": "stream",
     "text": [
      "(32950, 67)\n",
      "(8238, 67)\n"
     ]
    }
   ],
   "execution_count": 17
  },
  {
   "metadata": {
    "ExecuteTime": {
     "end_time": "2024-11-07T10:18:28.378509Z",
     "start_time": "2024-11-07T10:14:35.084689Z"
    }
   },
   "cell_type": "code",
   "source": [
    "exp = ExperimentClusterNN(\n",
    "    cluster_config = cluster_config,\n",
    "    nn_params_grid=params_grid,\n",
    "    X_train=X_train,\n",
    "    X_test=X_test,\n",
    "    y_train=y_train,\n",
    "    y_test=y_test\n",
    ")\n",
    "results = exp.run_experiment()\n",
    "# save\n",
    "save_pickle(results, f'results/dataset1/experiment5', f'final_results')"
   ],
   "id": "7125751540c136f4",
   "outputs": [
    {
     "name": "stdout",
     "output_type": "stream",
     "text": [
      "Running base NN grid search\n",
      "Fitting 5 folds for each of 77 candidates, totalling 385 fits\n",
      "Evaluating base NN\n",
      "Running base NN learning curve\n",
      "Running kmeans with n_clusters=2\n",
      "Running NN grid search\n",
      "Fitting 5 folds for each of 77 candidates, totalling 385 fits\n",
      "Evaluating NN\n",
      "Running kmeans learning curve\n",
      "Running em with n_clusters=2\n",
      "Running NN grid search\n",
      "Fitting 5 folds for each of 77 candidates, totalling 385 fits\n",
      "Evaluating NN\n",
      "Running em learning curve\n",
      "Data saved at results/dataset1/experiment5/final_results.pkl\n"
     ]
    }
   ],
   "execution_count": 18
  },
  {
   "metadata": {
    "ExecuteTime": {
     "end_time": "2024-11-10T02:44:12.750435Z",
     "start_time": "2024-11-10T02:44:12.722837Z"
    }
   },
   "cell_type": "code",
   "source": [
    "metrics = load_pickle('results/dataset1/experiment5/final_results.pkl')\n",
    "# organize the results\n",
    "metrics_df = []\n",
    "for key, value in results.items():\n",
    "    metrics = value['metrics']\n",
    "    metrics['cluster'] = key\n",
    "    metrics_df.append(metrics)\n",
    "metrics_df = pd.DataFrame(metrics_df) \n",
    "metrics_df"
   ],
   "id": "22b9d5b0afb11321",
   "outputs": [
    {
     "data": {
      "text/plain": [
       "   accuracy  precision    recall        f1 cluster\n",
       "0  0.915635   0.607075  0.690968  0.646310    base\n",
       "1  0.920855   0.656140  0.610446  0.632469  kmeans\n",
       "2  0.918063   0.622736  0.673558  0.647151      em"
      ],
      "text/html": [
       "<div>\n",
       "<style scoped>\n",
       "    .dataframe tbody tr th:only-of-type {\n",
       "        vertical-align: middle;\n",
       "    }\n",
       "\n",
       "    .dataframe tbody tr th {\n",
       "        vertical-align: top;\n",
       "    }\n",
       "\n",
       "    .dataframe thead th {\n",
       "        text-align: right;\n",
       "    }\n",
       "</style>\n",
       "<table border=\"1\" class=\"dataframe\">\n",
       "  <thead>\n",
       "    <tr style=\"text-align: right;\">\n",
       "      <th></th>\n",
       "      <th>accuracy</th>\n",
       "      <th>precision</th>\n",
       "      <th>recall</th>\n",
       "      <th>f1</th>\n",
       "      <th>cluster</th>\n",
       "    </tr>\n",
       "  </thead>\n",
       "  <tbody>\n",
       "    <tr>\n",
       "      <th>0</th>\n",
       "      <td>0.915635</td>\n",
       "      <td>0.607075</td>\n",
       "      <td>0.690968</td>\n",
       "      <td>0.646310</td>\n",
       "      <td>base</td>\n",
       "    </tr>\n",
       "    <tr>\n",
       "      <th>1</th>\n",
       "      <td>0.920855</td>\n",
       "      <td>0.656140</td>\n",
       "      <td>0.610446</td>\n",
       "      <td>0.632469</td>\n",
       "      <td>kmeans</td>\n",
       "    </tr>\n",
       "    <tr>\n",
       "      <th>2</th>\n",
       "      <td>0.918063</td>\n",
       "      <td>0.622736</td>\n",
       "      <td>0.673558</td>\n",
       "      <td>0.647151</td>\n",
       "      <td>em</td>\n",
       "    </tr>\n",
       "  </tbody>\n",
       "</table>\n",
       "</div>"
      ]
     },
     "execution_count": 27,
     "metadata": {},
     "output_type": "execute_result"
    }
   ],
   "execution_count": 27
  },
  {
   "metadata": {
    "ExecuteTime": {
     "end_time": "2024-11-10T02:44:13.702028Z",
     "start_time": "2024-11-10T02:44:13.680119Z"
    }
   },
   "cell_type": "code",
   "source": [
    "# organize the learning curve\n",
    "def organize_learning_curve(results):\n",
    "    df = pd.DataFrame()\n",
    "    for key, value in results.items():\n",
    "        lr = value['learning_curve']\n",
    "        train_size = lr['train_sizes']\n",
    "        train_score_mean = np.mean(lr['train_scores'], axis=1)\n",
    "        train_score_std = np.std(lr['train_scores'], axis=1)\n",
    "        val_score_mean = np.mean(lr['val_scores'], axis=1)\n",
    "        val_score_std = np.std(lr['val_scores'], axis=1)\n",
    "        fit_time_mean = np.mean(lr['fit_times'], axis=1)\n",
    "        fit_time_std = np.std(lr['fit_times'], axis=1)\n",
    "        # prepare data frame\n",
    "        tmp_df = pd.DataFrame({\n",
    "            f'{key}_train_score_mean': train_score_mean,\n",
    "            f'{key}_train_score_std': train_score_std,\n",
    "            f'{key}_val_score_mean': val_score_mean,\n",
    "            f'{key}_val_score_std': val_score_std,\n",
    "            f'{key}_fit_time_mean': fit_time_mean,\n",
    "            f'{key}_fit_time_std': fit_time_std,\n",
    "        })\n",
    "        df = pd.concat([df, tmp_df], axis=1)\n",
    "    df['train_sizes'] = train_size\n",
    "    return df\n",
    "df = organize_learning_curve(results)"
   ],
   "id": "883cfdd6958e4b26",
   "outputs": [],
   "execution_count": 28
  },
  {
   "metadata": {
    "ExecuteTime": {
     "end_time": "2024-11-10T10:43:57.238352Z",
     "start_time": "2024-11-10T10:43:56.292854Z"
    }
   },
   "cell_type": "code",
   "source": [
    "plot_learning_curves(\n",
    "    df=df,\n",
    "    keys=['base', 'kmeans', 'em'],\n",
    "    output_dir='figs',\n",
    "    dataset='dataset1',\n",
    "    experiment='experiment5'\n",
    ")    "
   ],
   "id": "65dfec89c3baae35",
   "outputs": [
    {
     "name": "stdout",
     "output_type": "stream",
     "text": [
      "Plot saved at figs/dataset1/experiment5/learning_curves.png\n"
     ]
    }
   ],
   "execution_count": 45
  },
  {
   "metadata": {
    "ExecuteTime": {
     "end_time": "2024-11-07T10:20:14.061062Z",
     "start_time": "2024-11-07T10:20:14.037585Z"
    }
   },
   "cell_type": "code",
   "source": "results['base']['best_params']",
   "id": "4e5ef57a3c27e88f",
   "outputs": [
    {
     "data": {
      "text/plain": [
       "{'early_stopping': True,\n",
       " 'hidden_layer_sizes': [32],\n",
       " 'learning_rate': 'adaptive',\n",
       " 'learning_rate_init': 0.05,\n",
       " 'max_iter': 2000,\n",
       " 'n_iter_no_change': 20}"
      ]
     },
     "execution_count": 22,
     "metadata": {},
     "output_type": "execute_result"
    }
   ],
   "execution_count": 22
  },
  {
   "metadata": {
    "ExecuteTime": {
     "end_time": "2024-11-07T10:20:15.263949Z",
     "start_time": "2024-11-07T10:20:15.237924Z"
    }
   },
   "cell_type": "code",
   "source": "results['kmeans']['best_params']",
   "id": "1336c3a7ebf9b420",
   "outputs": [
    {
     "data": {
      "text/plain": [
       "{'early_stopping': True,\n",
       " 'hidden_layer_sizes': [32, 20],\n",
       " 'learning_rate': 'adaptive',\n",
       " 'learning_rate_init': 0.01,\n",
       " 'max_iter': 2000,\n",
       " 'n_iter_no_change': 20}"
      ]
     },
     "execution_count": 23,
     "metadata": {},
     "output_type": "execute_result"
    }
   ],
   "execution_count": 23
  },
  {
   "metadata": {
    "ExecuteTime": {
     "end_time": "2024-11-07T10:20:17.270606Z",
     "start_time": "2024-11-07T10:20:17.248897Z"
    }
   },
   "cell_type": "code",
   "source": "results['em']['best_params']",
   "id": "f91ea429f4b4e0fd",
   "outputs": [
    {
     "data": {
      "text/plain": [
       "{'early_stopping': True,\n",
       " 'hidden_layer_sizes': [32],\n",
       " 'learning_rate': 'adaptive',\n",
       " 'learning_rate_init': 0.05,\n",
       " 'max_iter': 2000,\n",
       " 'n_iter_no_change': 20}"
      ]
     },
     "execution_count": 24,
     "metadata": {},
     "output_type": "execute_result"
    }
   ],
   "execution_count": 24
  },
  {
   "metadata": {},
   "cell_type": "markdown",
   "source": "# Combine with Experiment 4 results",
   "id": "adac1658caf4d9b3"
  },
  {
   "metadata": {
    "ExecuteTime": {
     "end_time": "2024-11-10T07:59:21.590690Z",
     "start_time": "2024-11-10T07:59:21.494985Z"
    }
   },
   "cell_type": "code",
   "source": "result_exp4 = load_pickle('results/dataset1/experiment4/a1_setting_results.pkl')",
   "id": "a0ac0906f90ad7fc",
   "outputs": [],
   "execution_count": 30
  },
  {
   "metadata": {
    "ExecuteTime": {
     "end_time": "2024-11-10T07:59:27.421464Z",
     "start_time": "2024-11-10T07:59:27.398711Z"
    }
   },
   "cell_type": "code",
   "source": "result_exp4",
   "id": "53fc53abe182b772",
   "outputs": [
    {
     "data": {
      "text/plain": [
       "{'base': {'metrics': {'accuracy': 0.9172129157562515,\n",
       "   'precision': 0.6565389696169088,\n",
       "   'recall': 0.5408052230685527,\n",
       "   'f1': 0.5930787589498806},\n",
       "  'learning_curve': {'train_sizes': array([ 2636,  8567, 14498, 20429, 26360]),\n",
       "   'train_scores': array([[0.92298938, 0.91312595, 0.91312595, 0.91312595, 0.91312595],\n",
       "          [0.91689039, 0.91899148, 0.92891327, 0.92891327, 0.92891327],\n",
       "          [0.91467789, 0.91184991, 0.91419506, 0.91481584, 0.91481584],\n",
       "          [0.91991776, 0.92285477, 0.91071516, 0.91698076, 0.91252631],\n",
       "          [0.91972686, 0.92219272, 0.91775417, 0.91794385, 0.91942337]]),\n",
       "   'val_scores': array([[0.90121396, 0.90758725, 0.90500759, 0.90682853, 0.90667678],\n",
       "          [0.90880121, 0.91031866, 0.90364188, 0.907739  , 0.90455235],\n",
       "          [0.91092564, 0.91305008, 0.90971168, 0.90728376, 0.90804249],\n",
       "          [0.91047041, 0.90394537, 0.90713202, 0.91001517, 0.91198786],\n",
       "          [0.90955994, 0.91031866, 0.91001517, 0.90864947, 0.90971168]]),\n",
       "   'fit_times': array([[0.15842104, 0.13107014, 0.11288905, 0.1361661 , 0.13655806],\n",
       "          [0.36343026, 0.41212392, 0.57528019, 0.54616189, 0.5590539 ],\n",
       "          [0.59527516, 0.45959401, 0.54755497, 0.46455598, 0.51133299],\n",
       "          [1.31797886, 1.44490123, 0.56853986, 0.99985909, 0.60138392],\n",
       "          [1.32000518, 1.45747495, 1.1770792 , 1.07090402, 0.8636117 ]])}},\n",
       " 'pca': {'metrics': {'accuracy': 0.9184268026219956,\n",
       "   'precision': 0.6722454672245467,\n",
       "   'recall': 0.5244831338411317,\n",
       "   'f1': 0.589242053789731},\n",
       "  'learning_curve': {'train_sizes': array([ 2636,  8567, 14498, 20429, 26360]),\n",
       "   'train_scores': array([[0.90591806, 0.89643399, 0.89643399, 0.89643399, 0.89643399],\n",
       "          [0.91490603, 0.91770748, 0.91175441, 0.91175441, 0.91175441],\n",
       "          [0.90936681, 0.91053938, 0.91026348, 0.90853911, 0.90853911],\n",
       "          [0.90141466, 0.91081306, 0.91154731, 0.91012776, 0.91061726],\n",
       "          [0.91437785, 0.90982549, 0.90808042, 0.91183612, 0.91217754]]),\n",
       "   'val_scores': array([[0.88649469, 0.89559939, 0.9       , 0.90015175, 0.89984825],\n",
       "          [0.90758725, 0.90500759, 0.90591806, 0.90789074, 0.90849772],\n",
       "          [0.90864947, 0.90531108, 0.90804249, 0.90682853, 0.90561457],\n",
       "          [0.89984825, 0.9060698 , 0.90834598, 0.91001517, 0.90698027],\n",
       "          [0.90743551, 0.90637329, 0.90637329, 0.90971168, 0.91001517]]),\n",
       "   'fit_times': array([[0.07165599, 0.11396194, 0.16938615, 0.08647013, 0.10230398],\n",
       "          [0.48024917, 0.42538381, 0.30054307, 0.27590394, 0.25125003],\n",
       "          [0.43965411, 0.4130559 , 0.36935568, 0.34618878, 0.302037  ],\n",
       "          [0.44420409, 0.54820299, 0.52923703, 0.51089406, 0.391675  ],\n",
       "          [1.18337798, 0.58855391, 0.45659494, 0.6262579 , 0.61550331]])}},\n",
       " 'ica': {'metrics': {'accuracy': 0.915877640203933,\n",
       "   'precision': 0.6565096952908587,\n",
       "   'recall': 0.515778019586507,\n",
       "   'f1': 0.5776965265082267},\n",
       "  'learning_curve': {'train_sizes': array([ 2636,  8567, 14498, 20429, 26360]),\n",
       "   'train_scores': array([[0.90250379, 0.88467375, 0.88467375, 0.88467375, 0.88467375],\n",
       "          [0.88805883, 0.88805883, 0.89121046, 0.89121046, 0.89121046],\n",
       "          [0.88639812, 0.88639812, 0.88639812, 0.88798455, 0.88798455],\n",
       "          [0.90572226, 0.88526115, 0.88526115, 0.90665231, 0.88643595],\n",
       "          [0.90940819, 0.88706373, 0.91066009, 0.90986343, 0.90940819]]),\n",
       "   'val_scores': array([[0.88710167, 0.88710167, 0.88710167, 0.88710167, 0.88694992],\n",
       "          [0.88710167, 0.88710167, 0.88710167, 0.88710167, 0.88694992],\n",
       "          [0.88710167, 0.88710167, 0.88710167, 0.88710167, 0.88694992],\n",
       "          [0.90349014, 0.88710167, 0.88710167, 0.90394537, 0.88694992],\n",
       "          [0.90485584, 0.88710167, 0.90637329, 0.90819423, 0.91198786]]),\n",
       "   'fit_times': array([[0.09501624, 0.09787989, 0.0580771 , 0.06967402, 0.05042315],\n",
       "          [0.29545212, 0.23885989, 0.2260201 , 0.18922615, 0.16574311],\n",
       "          [0.41761208, 0.31669092, 0.25343418, 0.2765789 , 0.23976493],\n",
       "          [0.85938525, 0.45744681, 0.39603114, 0.77539587, 0.30862904],\n",
       "          [1.13501501, 0.61549783, 1.34981918, 1.23790693, 1.19044089]])}},\n",
       " 'rp': {'metrics': {'accuracy': 0.920004855547463,\n",
       "   'precision': 0.6600985221674877,\n",
       "   'recall': 0.5832426550598476,\n",
       "   'f1': 0.6192952050837666},\n",
       "  'learning_curve': {'train_sizes': array([ 2636,  8567, 14498, 20429, 26360]),\n",
       "   'train_scores': array([[0.91236722, 0.91198786, 0.91198786, 0.91198786, 0.91198786],\n",
       "          [0.9130384 , 0.90556788, 0.91945839, 0.91945839, 0.91945839],\n",
       "          [0.91647124, 0.91316044, 0.91102221, 0.91405711, 0.91405711],\n",
       "          [0.90929561, 0.91306476, 0.91854716, 0.91086201, 0.91335846],\n",
       "          [0.91608498, 0.91449165, 0.91794385, 0.91452959, 0.91680577]]),\n",
       "   'val_scores': array([[0.89742033, 0.89605463, 0.89954476, 0.90045524, 0.89742033],\n",
       "          [0.90318665, 0.90227618, 0.90698027, 0.90394537, 0.90667678],\n",
       "          [0.90333839, 0.90728376, 0.90637329, 0.90440061, 0.90895296],\n",
       "          [0.9060698 , 0.90804249, 0.90789074, 0.90728376, 0.91183612],\n",
       "          [0.90455235, 0.91062215, 0.91153263, 0.90758725, 0.91001517]]),\n",
       "   'fit_times': array([[0.13986516, 0.11540103, 0.14784622, 0.1220789 , 0.0894978 ],\n",
       "          [0.40726376, 0.292629  , 0.45299673, 0.45885539, 0.46295094],\n",
       "          [0.92564917, 0.68840408, 0.54250884, 0.52473092, 0.50481391],\n",
       "          [0.59228516, 0.88335299, 1.43960977, 0.57754397, 0.70427322],\n",
       "          [1.23782921, 0.85094094, 1.38639688, 0.85461402, 1.16803789]])}}}"
      ]
     },
     "execution_count": 31,
     "metadata": {},
     "output_type": "execute_result"
    }
   ],
   "execution_count": 31
  },
  {
   "metadata": {
    "ExecuteTime": {
     "end_time": "2024-11-10T08:04:45.230347Z",
     "start_time": "2024-11-10T08:04:45.161240Z"
    }
   },
   "cell_type": "code",
   "source": [
    "# organize the results\n",
    "# remove the base from result_exp4, and combine the resutls\n",
    "result_exp4.pop('base')\n",
    "all_results = {**results, **result_exp4}\n",
    "all_results.keys()"
   ],
   "id": "f1f8da1f8b16e603",
   "outputs": [
    {
     "ename": "KeyError",
     "evalue": "'base'",
     "output_type": "error",
     "traceback": [
      "\u001B[0;31m---------------------------------------------------------------------------\u001B[0m",
      "\u001B[0;31mKeyError\u001B[0m                                  Traceback (most recent call last)",
      "Cell \u001B[0;32mIn[39], line 3\u001B[0m\n\u001B[1;32m      1\u001B[0m \u001B[38;5;66;03m# organize the results\u001B[39;00m\n\u001B[1;32m      2\u001B[0m \u001B[38;5;66;03m# remove the base from result_exp4, and combine the resutls\u001B[39;00m\n\u001B[0;32m----> 3\u001B[0m \u001B[43mresult_exp4\u001B[49m\u001B[38;5;241;43m.\u001B[39;49m\u001B[43mpop\u001B[49m\u001B[43m(\u001B[49m\u001B[38;5;124;43m'\u001B[39;49m\u001B[38;5;124;43mbase\u001B[39;49m\u001B[38;5;124;43m'\u001B[39;49m\u001B[43m)\u001B[49m\n\u001B[1;32m      4\u001B[0m all_results \u001B[38;5;241m=\u001B[39m {\u001B[38;5;241m*\u001B[39m\u001B[38;5;241m*\u001B[39mresults, \u001B[38;5;241m*\u001B[39m\u001B[38;5;241m*\u001B[39mresult_exp4}\n\u001B[1;32m      5\u001B[0m all_results\u001B[38;5;241m.\u001B[39mkeys()\n",
      "\u001B[0;31mKeyError\u001B[0m: 'base'"
     ]
    }
   ],
   "execution_count": 39
  },
  {
   "metadata": {
    "ExecuteTime": {
     "end_time": "2024-11-10T08:01:26.214902Z",
     "start_time": "2024-11-10T08:01:26.177782Z"
    }
   },
   "cell_type": "code",
   "source": "df = organize_learning_curve(all_results)",
   "id": "1a9d6a72e7bb8f93",
   "outputs": [],
   "execution_count": 35
  },
  {
   "metadata": {
    "ExecuteTime": {
     "end_time": "2024-11-10T08:01:27.537255Z",
     "start_time": "2024-11-10T08:01:27.487990Z"
    }
   },
   "cell_type": "code",
   "source": "df",
   "id": "790844ae29408233",
   "outputs": [
    {
     "data": {
      "text/plain": [
       "   base_train_score_mean  base_train_score_std  base_val_score_mean  \\\n",
       "0               0.908498              0.007436             0.903247   \n",
       "1               0.917567              0.003342             0.907102   \n",
       "2               0.919492              0.006254             0.906616   \n",
       "3               0.920114              0.002991             0.910319   \n",
       "4               0.918687              0.000964             0.909499   \n",
       "\n",
       "   base_val_score_std  base_fit_time_mean  base_fit_time_std  \\\n",
       "0            0.002385            0.115757           0.024639   \n",
       "1            0.001466            0.333990           0.054629   \n",
       "2            0.004072            0.689478           0.294840   \n",
       "3            0.002165            0.893607           0.190811   \n",
       "4            0.001403            1.312205           0.206611   \n",
       "\n",
       "   kmeans_train_score_mean  kmeans_train_score_std  kmeans_val_score_mean  \\\n",
       "0                 0.908194                0.004552               0.904067   \n",
       "1                 0.933279                0.011380               0.902428   \n",
       "2                 0.917934                0.006297               0.906859   \n",
       "3                 0.921621                0.007288               0.907132   \n",
       "4                 0.921184                0.004453               0.910440   \n",
       "\n",
       "   kmeans_val_score_std  ...  ica_val_score_std  ica_fit_time_mean  \\\n",
       "0              0.000618  ...           0.000061           0.074214   \n",
       "1              0.003605  ...           0.000061           0.223060   \n",
       "2              0.002019  ...           0.000061           0.300816   \n",
       "3              0.004433  ...           0.008166           0.559378   \n",
       "4              0.000918  ...           0.008636           1.105736   \n",
       "\n",
       "   ica_fit_time_std  rp_train_score_mean  rp_train_score_std  \\\n",
       "0          0.019182             0.912064            0.000152   \n",
       "1          0.044562             0.915396            0.005507   \n",
       "2          0.063958             0.913754            0.001754   \n",
       "3          0.217539             0.913026            0.003137   \n",
       "4          0.255112             0.915971            0.001332   \n",
       "\n",
       "   rp_val_score_mean  rp_val_score_std  rp_fit_time_mean  rp_fit_time_std  \\\n",
       "0           0.898179          0.001594          0.122938         0.020410   \n",
       "1           0.904613          0.001887          0.414939         0.064344   \n",
       "2           0.906070          0.002006          0.637221         0.158093   \n",
       "3           0.908225          0.001935          0.839413         0.319399   \n",
       "4           0.908862          0.002520          1.099564         0.213491   \n",
       "\n",
       "   train_sizes  \n",
       "0         2636  \n",
       "1         8567  \n",
       "2        14498  \n",
       "3        20429  \n",
       "4        26360  \n",
       "\n",
       "[5 rows x 37 columns]"
      ],
      "text/html": [
       "<div>\n",
       "<style scoped>\n",
       "    .dataframe tbody tr th:only-of-type {\n",
       "        vertical-align: middle;\n",
       "    }\n",
       "\n",
       "    .dataframe tbody tr th {\n",
       "        vertical-align: top;\n",
       "    }\n",
       "\n",
       "    .dataframe thead th {\n",
       "        text-align: right;\n",
       "    }\n",
       "</style>\n",
       "<table border=\"1\" class=\"dataframe\">\n",
       "  <thead>\n",
       "    <tr style=\"text-align: right;\">\n",
       "      <th></th>\n",
       "      <th>base_train_score_mean</th>\n",
       "      <th>base_train_score_std</th>\n",
       "      <th>base_val_score_mean</th>\n",
       "      <th>base_val_score_std</th>\n",
       "      <th>base_fit_time_mean</th>\n",
       "      <th>base_fit_time_std</th>\n",
       "      <th>kmeans_train_score_mean</th>\n",
       "      <th>kmeans_train_score_std</th>\n",
       "      <th>kmeans_val_score_mean</th>\n",
       "      <th>kmeans_val_score_std</th>\n",
       "      <th>...</th>\n",
       "      <th>ica_val_score_std</th>\n",
       "      <th>ica_fit_time_mean</th>\n",
       "      <th>ica_fit_time_std</th>\n",
       "      <th>rp_train_score_mean</th>\n",
       "      <th>rp_train_score_std</th>\n",
       "      <th>rp_val_score_mean</th>\n",
       "      <th>rp_val_score_std</th>\n",
       "      <th>rp_fit_time_mean</th>\n",
       "      <th>rp_fit_time_std</th>\n",
       "      <th>train_sizes</th>\n",
       "    </tr>\n",
       "  </thead>\n",
       "  <tbody>\n",
       "    <tr>\n",
       "      <th>0</th>\n",
       "      <td>0.908498</td>\n",
       "      <td>0.007436</td>\n",
       "      <td>0.903247</td>\n",
       "      <td>0.002385</td>\n",
       "      <td>0.115757</td>\n",
       "      <td>0.024639</td>\n",
       "      <td>0.908194</td>\n",
       "      <td>0.004552</td>\n",
       "      <td>0.904067</td>\n",
       "      <td>0.000618</td>\n",
       "      <td>...</td>\n",
       "      <td>0.000061</td>\n",
       "      <td>0.074214</td>\n",
       "      <td>0.019182</td>\n",
       "      <td>0.912064</td>\n",
       "      <td>0.000152</td>\n",
       "      <td>0.898179</td>\n",
       "      <td>0.001594</td>\n",
       "      <td>0.122938</td>\n",
       "      <td>0.020410</td>\n",
       "      <td>2636</td>\n",
       "    </tr>\n",
       "    <tr>\n",
       "      <th>1</th>\n",
       "      <td>0.917567</td>\n",
       "      <td>0.003342</td>\n",
       "      <td>0.907102</td>\n",
       "      <td>0.001466</td>\n",
       "      <td>0.333990</td>\n",
       "      <td>0.054629</td>\n",
       "      <td>0.933279</td>\n",
       "      <td>0.011380</td>\n",
       "      <td>0.902428</td>\n",
       "      <td>0.003605</td>\n",
       "      <td>...</td>\n",
       "      <td>0.000061</td>\n",
       "      <td>0.223060</td>\n",
       "      <td>0.044562</td>\n",
       "      <td>0.915396</td>\n",
       "      <td>0.005507</td>\n",
       "      <td>0.904613</td>\n",
       "      <td>0.001887</td>\n",
       "      <td>0.414939</td>\n",
       "      <td>0.064344</td>\n",
       "      <td>8567</td>\n",
       "    </tr>\n",
       "    <tr>\n",
       "      <th>2</th>\n",
       "      <td>0.919492</td>\n",
       "      <td>0.006254</td>\n",
       "      <td>0.906616</td>\n",
       "      <td>0.004072</td>\n",
       "      <td>0.689478</td>\n",
       "      <td>0.294840</td>\n",
       "      <td>0.917934</td>\n",
       "      <td>0.006297</td>\n",
       "      <td>0.906859</td>\n",
       "      <td>0.002019</td>\n",
       "      <td>...</td>\n",
       "      <td>0.000061</td>\n",
       "      <td>0.300816</td>\n",
       "      <td>0.063958</td>\n",
       "      <td>0.913754</td>\n",
       "      <td>0.001754</td>\n",
       "      <td>0.906070</td>\n",
       "      <td>0.002006</td>\n",
       "      <td>0.637221</td>\n",
       "      <td>0.158093</td>\n",
       "      <td>14498</td>\n",
       "    </tr>\n",
       "    <tr>\n",
       "      <th>3</th>\n",
       "      <td>0.920114</td>\n",
       "      <td>0.002991</td>\n",
       "      <td>0.910319</td>\n",
       "      <td>0.002165</td>\n",
       "      <td>0.893607</td>\n",
       "      <td>0.190811</td>\n",
       "      <td>0.921621</td>\n",
       "      <td>0.007288</td>\n",
       "      <td>0.907132</td>\n",
       "      <td>0.004433</td>\n",
       "      <td>...</td>\n",
       "      <td>0.008166</td>\n",
       "      <td>0.559378</td>\n",
       "      <td>0.217539</td>\n",
       "      <td>0.913026</td>\n",
       "      <td>0.003137</td>\n",
       "      <td>0.908225</td>\n",
       "      <td>0.001935</td>\n",
       "      <td>0.839413</td>\n",
       "      <td>0.319399</td>\n",
       "      <td>20429</td>\n",
       "    </tr>\n",
       "    <tr>\n",
       "      <th>4</th>\n",
       "      <td>0.918687</td>\n",
       "      <td>0.000964</td>\n",
       "      <td>0.909499</td>\n",
       "      <td>0.001403</td>\n",
       "      <td>1.312205</td>\n",
       "      <td>0.206611</td>\n",
       "      <td>0.921184</td>\n",
       "      <td>0.004453</td>\n",
       "      <td>0.910440</td>\n",
       "      <td>0.000918</td>\n",
       "      <td>...</td>\n",
       "      <td>0.008636</td>\n",
       "      <td>1.105736</td>\n",
       "      <td>0.255112</td>\n",
       "      <td>0.915971</td>\n",
       "      <td>0.001332</td>\n",
       "      <td>0.908862</td>\n",
       "      <td>0.002520</td>\n",
       "      <td>1.099564</td>\n",
       "      <td>0.213491</td>\n",
       "      <td>26360</td>\n",
       "    </tr>\n",
       "  </tbody>\n",
       "</table>\n",
       "<p>5 rows × 37 columns</p>\n",
       "</div>"
      ]
     },
     "execution_count": 36,
     "metadata": {},
     "output_type": "execute_result"
    }
   ],
   "execution_count": 36
  },
  {
   "metadata": {
    "ExecuteTime": {
     "end_time": "2024-11-10T10:47:01.238387Z",
     "start_time": "2024-11-10T10:47:00.083705Z"
    }
   },
   "cell_type": "code",
   "source": [
    "plot_learning_curves(\n",
    "    df=df,\n",
    "    keys=['base','pca','ica', 'rp', 'kmeans', 'em'],\n",
    "    output_dir='figs',\n",
    "    dataset='dataset1',\n",
    "    experiment='experiment5',\n",
    "    filename='all_learning_curve',\n",
    "    font_multiplier=1.2\n",
    ")"
   ],
   "id": "77c3b50b9244037d",
   "outputs": [
    {
     "name": "stdout",
     "output_type": "stream",
     "text": [
      "Plot saved at figs/dataset1/experiment5/all_learning_curve.png\n"
     ]
    }
   ],
   "execution_count": 47
  },
  {
   "metadata": {},
   "cell_type": "code",
   "outputs": [],
   "execution_count": null,
   "source": "",
   "id": "22943434575a000e"
  }
 ],
 "metadata": {
  "kernelspec": {
   "display_name": "Python 3",
   "language": "python",
   "name": "python3"
  },
  "language_info": {
   "codemirror_mode": {
    "name": "ipython",
    "version": 2
   },
   "file_extension": ".py",
   "mimetype": "text/x-python",
   "name": "python",
   "nbconvert_exporter": "python",
   "pygments_lexer": "ipython2",
   "version": "2.7.6"
  }
 },
 "nbformat": 4,
 "nbformat_minor": 5
}
