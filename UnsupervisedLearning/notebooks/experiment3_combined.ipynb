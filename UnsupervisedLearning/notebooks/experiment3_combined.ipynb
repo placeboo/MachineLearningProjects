{
 "cells": [
  {
   "cell_type": "code",
   "id": "initial_id",
   "metadata": {
    "collapsed": true,
    "ExecuteTime": {
     "end_time": "2024-11-06T08:14:12.939322Z",
     "start_time": "2024-11-06T08:14:12.934908Z"
    }
   },
   "source": [
    "import os\n",
    "from random import sample\n",
    "\n",
    "os.chdir('..')\n",
    "print(os.getcwd())"
   ],
   "outputs": [
    {
     "name": "stdout",
     "output_type": "stream",
     "text": [
      "/Users/Placebo/OMSCS/CS7641-ML/MachineLearningProjects/UnsupervisedLearning\n"
     ]
    }
   ],
   "execution_count": 1
  },
  {
   "metadata": {
    "ExecuteTime": {
     "end_time": "2024-11-06T08:14:14.729627Z",
     "start_time": "2024-11-06T08:14:13.624717Z"
    }
   },
   "cell_type": "code",
   "source": [
    "import pandas as pd\n",
    "import numpy as np"
   ],
   "id": "5661b822db4b244e",
   "outputs": [],
   "execution_count": 2
  },
  {
   "metadata": {
    "ExecuteTime": {
     "end_time": "2024-11-07T05:50:17.759650Z",
     "start_time": "2024-11-07T05:50:17.672902Z"
    }
   },
   "cell_type": "code",
   "source": [
    "%load_ext autoreload\n",
    "%autoreload 2\n",
    "from src.experiments.experiment3_combined import CombinedExperiment, find_optimal_combinations, evaluate_clustering, run_combined_cluster\n",
    "from src.utils.data_loader import load_processed_data, save_csv, load_csv, save_csv, save_pickle, load_pickle\n",
    "from src.utils.evaluation import find_elbow_indice\n",
    "from src.utils.plotting import plot_metrics_vs_cluster, plot_2d_projection, plot_3d_projection, visualize_clusters_tsne\n"
   ],
   "id": "502854ced667ce0e",
   "outputs": [
    {
     "name": "stdout",
     "output_type": "stream",
     "text": [
      "The autoreload extension is already loaded. To reload it, use:\n",
      "  %reload_ext autoreload\n"
     ]
    }
   ],
   "execution_count": 38
  },
  {
   "metadata": {},
   "cell_type": "markdown",
   "source": "# Dataset 1",
   "id": "1ca197f582f3f973"
  },
  {
   "metadata": {
    "ExecuteTime": {
     "end_time": "2024-11-08T06:49:48.142061Z",
     "start_time": "2024-11-08T06:49:48.094710Z"
    }
   },
   "cell_type": "code",
   "source": [
    "dataset = 'dataset1'\n",
    "experiment_name = 'experiment3'\n",
    "X_train, X_test,y_train, y_test = load_processed_data(f'data/{dataset}')\n",
    "X_train = np.concatenate((X_train, X_test), axis=0)\n",
    "y_train = np.concatenate((y_train, y_test), axis=0)\n",
    "n_features = X_train.shape[1]\n",
    "print(f\"Number of features: {n_features}\")"
   ],
   "id": "a889ebda054084af",
   "outputs": [
    {
     "name": "stdout",
     "output_type": "stream",
     "text": [
      "Number of features: 67\n"
     ]
    }
   ],
   "execution_count": 63
  },
  {
   "metadata": {},
   "cell_type": "markdown",
   "source": "## Understand the optimal number of components from Experiment 2",
   "id": "d3dc0f95e59a45e0"
  },
  {
   "metadata": {
    "ExecuteTime": {
     "end_time": "2024-11-05T09:01:10.354515Z",
     "start_time": "2024-11-05T09:01:10.340340Z"
    }
   },
   "cell_type": "code",
   "source": [
    "# PCA\n",
    "pca_metrics = load_pickle('results/dataset1/experiment2/pca_metrics.pkl')\n",
    "# find the number of components that explains 95% of the variance\n",
    "explained_variance = pca_metrics['cumulative_explained_variance'][0]\n",
    "idx = np.where(explained_variance >= 0.95)\n",
    "idx = idx[0][0]\n",
    "print(f\"Number of components that explains 95% of the variance: {idx}\")\n",
    "\n",
    "# ICA: find the elbow point of the kurtosis\n",
    "ica_metrics = load_pickle('results/dataset1/experiment2/ica_metrics.pkl')\n",
    "abs_mean_kurtosis = ica_metrics['abs_mean_kurtosis']\n",
    "idx = find_elbow_indice(abs_mean_kurtosis)\n",
    "print(f\"Number of components that explains the elbow point of the kurtosis: {idx}\")\n",
    "\n",
    "# RP: find the elbow point of the reconstruction error\n",
    "rp_metrics = load_pickle('results/dataset1/experiment2/rp_metrics.pkl')\n",
    "reconstruction_error = rp_metrics['reconstruction_error_mean']\n",
    "idx = find_elbow_indice(reconstruction_error)\n",
    "print(f\"Number of components that explains the elbow point of the reconstruction error: {idx}\")"
   ],
   "id": "aebcd2a00a70a332",
   "outputs": [
    {
     "name": "stdout",
     "output_type": "stream",
     "text": [
      "Number of components that explains 95% of the variance: 26\n",
      "Number of components that explains the elbow point of the kurtosis: 16\n",
      "Number of components that explains the elbow point of the reconstruction error: 3\n"
     ]
    }
   ],
   "execution_count": 7
  },
  {
   "metadata": {},
   "cell_type": "markdown",
   "source": "## Run Experiment",
   "id": "a551996af6a36c91"
  },
  {
   "metadata": {
    "ExecuteTime": {
     "end_time": "2024-11-04T06:56:50.951178Z",
     "start_time": "2024-11-04T04:41:05.669936Z"
    }
   },
   "cell_type": "code",
   "source": [
    "combined_experiment = CombinedExperiment()\n",
    "kmeans_metrics, em_metrics, transformed_data = combined_experiment.run_combined_analyis(\n",
    "    X = X_train,\n",
    "    dr_components=np.arange(22, n_features+1, 3),\n",
    "    k_range = [2, 3, 4, 5, 6, 7, 8, 9, 10]\n",
    ")\n"
   ],
   "id": "6462b99cee8edcf0",
   "outputs": [
    {
     "name": "stderr",
     "output_type": "stream",
     "text": [
      "/Users/Placebo/anaconda3/envs/unsupervised/lib/python3.10/site-packages/sklearn/decomposition/_fastica.py:128: ConvergenceWarning: FastICA did not converge. Consider increasing tolerance or the maximum number of iterations.\n",
      "  warnings.warn(\n",
      "/Users/Placebo/anaconda3/envs/unsupervised/lib/python3.10/site-packages/sklearn/decomposition/_fastica.py:128: ConvergenceWarning: FastICA did not converge. Consider increasing tolerance or the maximum number of iterations.\n",
      "  warnings.warn(\n",
      "/Users/Placebo/anaconda3/envs/unsupervised/lib/python3.10/site-packages/sklearn/decomposition/_fastica.py:128: ConvergenceWarning: FastICA did not converge. Consider increasing tolerance or the maximum number of iterations.\n",
      "  warnings.warn(\n",
      "/Users/Placebo/anaconda3/envs/unsupervised/lib/python3.10/site-packages/sklearn/decomposition/_fastica.py:128: ConvergenceWarning: FastICA did not converge. Consider increasing tolerance or the maximum number of iterations.\n",
      "  warnings.warn(\n",
      "/Users/Placebo/anaconda3/envs/unsupervised/lib/python3.10/site-packages/sklearn/decomposition/_fastica.py:128: ConvergenceWarning: FastICA did not converge. Consider increasing tolerance or the maximum number of iterations.\n",
      "  warnings.warn(\n",
      "/Users/Placebo/anaconda3/envs/unsupervised/lib/python3.10/site-packages/sklearn/decomposition/_fastica.py:128: ConvergenceWarning: FastICA did not converge. Consider increasing tolerance or the maximum number of iterations.\n",
      "  warnings.warn(\n",
      "/Users/Placebo/anaconda3/envs/unsupervised/lib/python3.10/site-packages/sklearn/decomposition/_fastica.py:128: ConvergenceWarning: FastICA did not converge. Consider increasing tolerance or the maximum number of iterations.\n",
      "  warnings.warn(\n"
     ]
    }
   ],
   "execution_count": 7
  },
  {
   "metadata": {
    "ExecuteTime": {
     "end_time": "2024-11-04T06:56:52.377970Z",
     "start_time": "2024-11-04T06:56:51.000666Z"
    }
   },
   "cell_type": "code",
   "source": [
    "# save\n",
    "save_csv(kmeans_metrics, f'results/{dataset}/{experiment_name}', 'kmeans_metrics')\n",
    "save_csv(em_metrics, f'results/{dataset}/{experiment_name}', 'em_metrics')\n",
    "save_pickle(transformed_data, f'results/{dataset}/{experiment_name}', 'transformed_data')"
   ],
   "id": "ad9aedb272270b26",
   "outputs": [
    {
     "name": "stdout",
     "output_type": "stream",
     "text": [
      "Dataframe saved at results/dataset1/experiment3/kmeans_metrics.csv\n",
      "Dataframe saved at results/dataset1/experiment3/em_metrics.csv\n",
      "Data saved at results/dataset1/experiment3/transformed_data.pkl\n"
     ]
    }
   ],
   "execution_count": 8
  },
  {
   "metadata": {},
   "cell_type": "markdown",
   "source": "## Result Analysis",
   "id": "2005e4d388e3ccbf"
  },
  {
   "metadata": {
    "ExecuteTime": {
     "end_time": "2024-11-06T08:11:20.031943Z",
     "start_time": "2024-11-06T08:11:19.959862Z"
    }
   },
   "cell_type": "code",
   "source": "np.arange(22, n_features+1, 3)",
   "id": "7ad984e43a50f58a",
   "outputs": [
    {
     "data": {
      "text/plain": [
       "array([22, 25, 28, 31, 34, 37, 40, 43, 46, 49, 52, 55, 58, 61, 64, 67])"
      ]
     },
     "execution_count": 9,
     "metadata": {},
     "output_type": "execute_result"
    }
   ],
   "execution_count": 9
  },
  {
   "metadata": {
    "ExecuteTime": {
     "end_time": "2024-11-06T09:04:35.149214Z",
     "start_time": "2024-11-06T09:04:34.870382Z"
    }
   },
   "cell_type": "code",
   "source": [
    "kmeans_metrics = load_csv('results/dataset1/experiment3/kmeans_metrics.csv')\n",
    "em_metrics = load_csv('results/dataset1/experiment3/em_metrics.csv')\n",
    "transformed_data = load_pickle('results/dataset1/experiment3/transformed_data.pkl')\n",
    "\n",
    "# find the optimal combination\n",
    "optimal_combinations = find_optimal_combinations(kmeans_metrics, em_metrics)\n",
    "optimal_combinations\n"
   ],
   "id": "92c6f8057d4d145d",
   "outputs": [
    {
     "data": {
      "text/plain": [
       "{'ica_kmeans': {'dr_method': 'ica',\n",
       "  'n_components': np.int64(61),\n",
       "  'k': np.int64(2),\n",
       "  'score': np.float64(0.59982926024279)},\n",
       " 'pca_kmeans': {'dr_method': 'pca',\n",
       "  'n_components': np.int64(22),\n",
       "  'k': np.int64(2),\n",
       "  'score': np.float64(0.2883938372274702)},\n",
       " 'rp_kmeans': {'dr_method': 'rp',\n",
       "  'n_components': np.int64(25),\n",
       "  'k': np.int64(2),\n",
       "  'score': np.float64(0.2782360637093942)},\n",
       " 'ica_em': {'dr_method': 'ica',\n",
       "  'n_components': np.int64(61),\n",
       "  'k': np.int64(2),\n",
       "  'score': np.float64(0.59982926024279)},\n",
       " 'pca_em': {'dr_method': 'pca',\n",
       "  'n_components': np.int64(22),\n",
       "  'k': np.int64(2),\n",
       "  'score': np.float64(0.2885203014062371)},\n",
       " 'rp_em': {'dr_method': 'rp',\n",
       "  'n_components': np.int64(25),\n",
       "  'k': np.int64(2),\n",
       "  'score': np.float64(0.2770328655134566)}}"
      ]
     },
     "execution_count": 26,
     "metadata": {},
     "output_type": "execute_result"
    }
   ],
   "execution_count": 26
  },
  {
   "metadata": {},
   "cell_type": "markdown",
   "source": [
    "#### Use the resultss from Experiment 2\n",
    "n componeients for pca, ica, and rp are 25, 55, and 37"
   ],
   "id": "935bfe86a47979c1"
  },
  {
   "metadata": {
    "ExecuteTime": {
     "end_time": "2024-11-08T06:51:06.244629Z",
     "start_time": "2024-11-08T06:49:53.533751Z"
    }
   },
   "cell_type": "code",
   "source": [
    "transformed_data = load_pickle('results/dataset1/experiment3/transformed_data.pkl')\n",
    "# pca\n",
    "pca_transformed_data = transformed_data['pca'][25]\n",
    "ica_transformed_data = transformed_data['ica'][55]\n",
    "rp_transformed_data = transformed_data['rp'][37]\n",
    "\n",
    "config = [\n",
    "    {'rd': 'pca', 'X': pca_transformed_data},\n",
    "    {'rd': 'ica', 'X': ica_transformed_data},\n",
    "    {'rd': 'rp', 'X': rp_transformed_data}\n",
    "]\n",
    "\n",
    "metrics, labels, external_metrics = run_combined_cluster(config, [2], y_train)\n"
   ],
   "id": "bfc1b9380147d05",
   "outputs": [],
   "execution_count": 64
  },
  {
   "metadata": {
    "ExecuteTime": {
     "end_time": "2024-11-07T06:01:36.701441Z",
     "start_time": "2024-11-07T06:01:36.661359Z"
    }
   },
   "cell_type": "code",
   "source": "metrics",
   "id": "38e8d1d5224b8aa5",
   "outputs": [
    {
     "data": {
      "text/plain": [
       "   k  silhouette_score  calinski_harabasz_score  method rd_method\n",
       "0  2          0.282563             14474.691194  kmeans       pca\n",
       "1  2          0.282513             14473.416219      em       pca\n",
       "2  2          0.583054               762.703704  kmeans       ica\n",
       "3  2          0.583054               762.703704      em       ica\n",
       "4  2          0.251160             11534.515714  kmeans        rp\n",
       "5  2          0.241779             10939.997380      em        rp"
      ],
      "text/html": [
       "<div>\n",
       "<style scoped>\n",
       "    .dataframe tbody tr th:only-of-type {\n",
       "        vertical-align: middle;\n",
       "    }\n",
       "\n",
       "    .dataframe tbody tr th {\n",
       "        vertical-align: top;\n",
       "    }\n",
       "\n",
       "    .dataframe thead th {\n",
       "        text-align: right;\n",
       "    }\n",
       "</style>\n",
       "<table border=\"1\" class=\"dataframe\">\n",
       "  <thead>\n",
       "    <tr style=\"text-align: right;\">\n",
       "      <th></th>\n",
       "      <th>k</th>\n",
       "      <th>silhouette_score</th>\n",
       "      <th>calinski_harabasz_score</th>\n",
       "      <th>method</th>\n",
       "      <th>rd_method</th>\n",
       "    </tr>\n",
       "  </thead>\n",
       "  <tbody>\n",
       "    <tr>\n",
       "      <th>0</th>\n",
       "      <td>2</td>\n",
       "      <td>0.282563</td>\n",
       "      <td>14474.691194</td>\n",
       "      <td>kmeans</td>\n",
       "      <td>pca</td>\n",
       "    </tr>\n",
       "    <tr>\n",
       "      <th>1</th>\n",
       "      <td>2</td>\n",
       "      <td>0.282513</td>\n",
       "      <td>14473.416219</td>\n",
       "      <td>em</td>\n",
       "      <td>pca</td>\n",
       "    </tr>\n",
       "    <tr>\n",
       "      <th>2</th>\n",
       "      <td>2</td>\n",
       "      <td>0.583054</td>\n",
       "      <td>762.703704</td>\n",
       "      <td>kmeans</td>\n",
       "      <td>ica</td>\n",
       "    </tr>\n",
       "    <tr>\n",
       "      <th>3</th>\n",
       "      <td>2</td>\n",
       "      <td>0.583054</td>\n",
       "      <td>762.703704</td>\n",
       "      <td>em</td>\n",
       "      <td>ica</td>\n",
       "    </tr>\n",
       "    <tr>\n",
       "      <th>4</th>\n",
       "      <td>2</td>\n",
       "      <td>0.251160</td>\n",
       "      <td>11534.515714</td>\n",
       "      <td>kmeans</td>\n",
       "      <td>rp</td>\n",
       "    </tr>\n",
       "    <tr>\n",
       "      <th>5</th>\n",
       "      <td>2</td>\n",
       "      <td>0.241779</td>\n",
       "      <td>10939.997380</td>\n",
       "      <td>em</td>\n",
       "      <td>rp</td>\n",
       "    </tr>\n",
       "  </tbody>\n",
       "</table>\n",
       "</div>"
      ]
     },
     "execution_count": 44,
     "metadata": {},
     "output_type": "execute_result"
    }
   ],
   "execution_count": 44
  },
  {
   "metadata": {
    "ExecuteTime": {
     "end_time": "2024-11-07T05:54:01.522102Z",
     "start_time": "2024-11-07T05:54:01.503715Z"
    }
   },
   "cell_type": "code",
   "source": "external_metrics",
   "id": "30822d08fa171aab",
   "outputs": [
    {
     "data": {
      "text/plain": [
       "   adjusted_rand  normalized_mutual_info  adjusted_mutual_info  homogeneity  \\\n",
       "0       0.131564                0.080416              0.080393     0.112471   \n",
       "1       0.131391                0.080286              0.080264     0.112295   \n",
       "2       0.016098                0.007303              0.007237     0.003831   \n",
       "3       0.016098                0.007303              0.007237     0.003831   \n",
       "4       0.133033                0.087460              0.087438     0.123093   \n",
       "5       0.127697                0.082334              0.082312     0.115940   \n",
       "\n",
       "   completeness  method rd_method  \n",
       "0      0.062580  kmeans       pca  \n",
       "1      0.062478      em       pca  \n",
       "2      0.077805  kmeans       ica  \n",
       "3      0.077805      em       ica  \n",
       "4      0.067826  kmeans        rp  \n",
       "5      0.063832      em        rp  "
      ],
      "text/html": [
       "<div>\n",
       "<style scoped>\n",
       "    .dataframe tbody tr th:only-of-type {\n",
       "        vertical-align: middle;\n",
       "    }\n",
       "\n",
       "    .dataframe tbody tr th {\n",
       "        vertical-align: top;\n",
       "    }\n",
       "\n",
       "    .dataframe thead th {\n",
       "        text-align: right;\n",
       "    }\n",
       "</style>\n",
       "<table border=\"1\" class=\"dataframe\">\n",
       "  <thead>\n",
       "    <tr style=\"text-align: right;\">\n",
       "      <th></th>\n",
       "      <th>adjusted_rand</th>\n",
       "      <th>normalized_mutual_info</th>\n",
       "      <th>adjusted_mutual_info</th>\n",
       "      <th>homogeneity</th>\n",
       "      <th>completeness</th>\n",
       "      <th>method</th>\n",
       "      <th>rd_method</th>\n",
       "    </tr>\n",
       "  </thead>\n",
       "  <tbody>\n",
       "    <tr>\n",
       "      <th>0</th>\n",
       "      <td>0.131564</td>\n",
       "      <td>0.080416</td>\n",
       "      <td>0.080393</td>\n",
       "      <td>0.112471</td>\n",
       "      <td>0.062580</td>\n",
       "      <td>kmeans</td>\n",
       "      <td>pca</td>\n",
       "    </tr>\n",
       "    <tr>\n",
       "      <th>1</th>\n",
       "      <td>0.131391</td>\n",
       "      <td>0.080286</td>\n",
       "      <td>0.080264</td>\n",
       "      <td>0.112295</td>\n",
       "      <td>0.062478</td>\n",
       "      <td>em</td>\n",
       "      <td>pca</td>\n",
       "    </tr>\n",
       "    <tr>\n",
       "      <th>2</th>\n",
       "      <td>0.016098</td>\n",
       "      <td>0.007303</td>\n",
       "      <td>0.007237</td>\n",
       "      <td>0.003831</td>\n",
       "      <td>0.077805</td>\n",
       "      <td>kmeans</td>\n",
       "      <td>ica</td>\n",
       "    </tr>\n",
       "    <tr>\n",
       "      <th>3</th>\n",
       "      <td>0.016098</td>\n",
       "      <td>0.007303</td>\n",
       "      <td>0.007237</td>\n",
       "      <td>0.003831</td>\n",
       "      <td>0.077805</td>\n",
       "      <td>em</td>\n",
       "      <td>ica</td>\n",
       "    </tr>\n",
       "    <tr>\n",
       "      <th>4</th>\n",
       "      <td>0.133033</td>\n",
       "      <td>0.087460</td>\n",
       "      <td>0.087438</td>\n",
       "      <td>0.123093</td>\n",
       "      <td>0.067826</td>\n",
       "      <td>kmeans</td>\n",
       "      <td>rp</td>\n",
       "    </tr>\n",
       "    <tr>\n",
       "      <th>5</th>\n",
       "      <td>0.127697</td>\n",
       "      <td>0.082334</td>\n",
       "      <td>0.082312</td>\n",
       "      <td>0.115940</td>\n",
       "      <td>0.063832</td>\n",
       "      <td>em</td>\n",
       "      <td>rp</td>\n",
       "    </tr>\n",
       "  </tbody>\n",
       "</table>\n",
       "</div>"
      ]
     },
     "execution_count": 42,
     "metadata": {},
     "output_type": "execute_result"
    }
   ],
   "execution_count": 42
  },
  {
   "metadata": {
    "ExecuteTime": {
     "end_time": "2024-11-08T06:51:06.286356Z",
     "start_time": "2024-11-08T06:51:06.260094Z"
    }
   },
   "cell_type": "code",
   "source": [
    "save_csv(metrics, f'results/{dataset}/{experiment_name}', 'combined_metrics')\n",
    "save_pickle(labels, f'results/{dataset}/{experiment_name}', 'combined_labels')\n",
    "save_csv(external_metrics, f'results/{dataset}/{experiment_name}', 'combined_external_metrics')"
   ],
   "id": "2283993a11fad700",
   "outputs": [
    {
     "name": "stdout",
     "output_type": "stream",
     "text": [
      "Dataframe saved at results/dataset1/experiment3/combined_metrics.csv\n",
      "Data saved at results/dataset1/experiment3/combined_labels.pkl\n",
      "Dataframe saved at results/dataset1/experiment3/combined_external_metrics.csv\n"
     ]
    }
   ],
   "execution_count": 65
  },
  {
   "metadata": {
    "ExecuteTime": {
     "end_time": "2024-11-08T06:39:29.637204Z",
     "start_time": "2024-11-08T06:39:29.618842Z"
    }
   },
   "cell_type": "code",
   "source": "labels = load_pickle('results/dataset2/experiment3/combined_labels.pkl')\n",
   "id": "826be9aaa7333bd2",
   "outputs": [
    {
     "data": {
      "text/plain": [
       "np.int32(27683)"
      ]
     },
     "execution_count": 59,
     "metadata": {},
     "output_type": "execute_result"
    }
   ],
   "execution_count": 59
  },
  {
   "metadata": {
    "ExecuteTime": {
     "end_time": "2024-11-06T08:58:23.181579Z",
     "start_time": "2024-11-06T08:58:23.138837Z"
    }
   },
   "cell_type": "code",
   "source": "metrics",
   "id": "bf6e10de5dab037e",
   "outputs": [
    {
     "data": {
      "text/plain": [
       "   k  silhouette_score  calinski_harabasz_score  method rd_method\n",
       "0  2          0.282563             14474.691194  kmeans       pca\n",
       "1  2          0.282513             14473.416219      em       pca\n",
       "2  2          0.583054               762.703704  kmeans       ica\n",
       "3  2          0.583054               762.703704      em       ica\n",
       "4  2          0.251160             11534.515714  kmeans        rp\n",
       "5  2          0.241779             10939.997380      em        rp"
      ],
      "text/html": [
       "<div>\n",
       "<style scoped>\n",
       "    .dataframe tbody tr th:only-of-type {\n",
       "        vertical-align: middle;\n",
       "    }\n",
       "\n",
       "    .dataframe tbody tr th {\n",
       "        vertical-align: top;\n",
       "    }\n",
       "\n",
       "    .dataframe thead th {\n",
       "        text-align: right;\n",
       "    }\n",
       "</style>\n",
       "<table border=\"1\" class=\"dataframe\">\n",
       "  <thead>\n",
       "    <tr style=\"text-align: right;\">\n",
       "      <th></th>\n",
       "      <th>k</th>\n",
       "      <th>silhouette_score</th>\n",
       "      <th>calinski_harabasz_score</th>\n",
       "      <th>method</th>\n",
       "      <th>rd_method</th>\n",
       "    </tr>\n",
       "  </thead>\n",
       "  <tbody>\n",
       "    <tr>\n",
       "      <th>0</th>\n",
       "      <td>2</td>\n",
       "      <td>0.282563</td>\n",
       "      <td>14474.691194</td>\n",
       "      <td>kmeans</td>\n",
       "      <td>pca</td>\n",
       "    </tr>\n",
       "    <tr>\n",
       "      <th>1</th>\n",
       "      <td>2</td>\n",
       "      <td>0.282513</td>\n",
       "      <td>14473.416219</td>\n",
       "      <td>em</td>\n",
       "      <td>pca</td>\n",
       "    </tr>\n",
       "    <tr>\n",
       "      <th>2</th>\n",
       "      <td>2</td>\n",
       "      <td>0.583054</td>\n",
       "      <td>762.703704</td>\n",
       "      <td>kmeans</td>\n",
       "      <td>ica</td>\n",
       "    </tr>\n",
       "    <tr>\n",
       "      <th>3</th>\n",
       "      <td>2</td>\n",
       "      <td>0.583054</td>\n",
       "      <td>762.703704</td>\n",
       "      <td>em</td>\n",
       "      <td>ica</td>\n",
       "    </tr>\n",
       "    <tr>\n",
       "      <th>4</th>\n",
       "      <td>2</td>\n",
       "      <td>0.251160</td>\n",
       "      <td>11534.515714</td>\n",
       "      <td>kmeans</td>\n",
       "      <td>rp</td>\n",
       "    </tr>\n",
       "    <tr>\n",
       "      <th>5</th>\n",
       "      <td>2</td>\n",
       "      <td>0.241779</td>\n",
       "      <td>10939.997380</td>\n",
       "      <td>em</td>\n",
       "      <td>rp</td>\n",
       "    </tr>\n",
       "  </tbody>\n",
       "</table>\n",
       "</div>"
      ]
     },
     "execution_count": 22,
     "metadata": {},
     "output_type": "execute_result"
    }
   ],
   "execution_count": 22
  },
  {
   "metadata": {
    "ExecuteTime": {
     "end_time": "2024-11-06T09:00:17.058438Z",
     "start_time": "2024-11-06T08:59:50.518871Z"
    }
   },
   "cell_type": "code",
   "source": [
    "# plot\n",
    "visualize_clusters_tsne(\n",
    "    X = pca_transformed_data,\n",
    "    labels = labels['pca']['kmeans'],\n",
    "    dataset = dataset,\n",
    "    experiment = experiment_name,\n",
    "    algorithm='kmeans_pca',\n",
    "    random_state=17,\n",
    "    sample_size=2000\n",
    ")\n",
    "visualize_clusters_tsne(\n",
    "    X = ica_transformed_data,\n",
    "    labels = labels['ica']['kmeans'],\n",
    "    dataset = dataset,\n",
    "    experiment = experiment_name,\n",
    "    algorithm='kmeans_ica',\n",
    "    random_state=17,\n",
    "    sample_size=2000\n",
    ")\n",
    "visualize_clusters_tsne(\n",
    "    X = rp_transformed_data,\n",
    "    labels = labels['rp']['kmeans'],\n",
    "    dataset = dataset,\n",
    "    experiment = experiment_name,\n",
    "    algorithm='kmeans_rp',\n",
    "    random_state=17,\n",
    "    sample_size=2000\n",
    ")\n",
    "visualize_clusters_tsne(\n",
    "    X = pca_transformed_data,\n",
    "    labels = labels['pca']['em'],\n",
    "    dataset = dataset,\n",
    "    experiment = experiment_name,\n",
    "    algorithm='em_pca',\n",
    "    random_state=17,\n",
    "    sample_size=2000\n",
    ")\n",
    "visualize_clusters_tsne(\n",
    "    X = ica_transformed_data,\n",
    "    labels = labels['ica']['em'],\n",
    "    dataset = dataset,\n",
    "    experiment = experiment_name,\n",
    "    algorithm='em_ica',\n",
    "    random_state=17,\n",
    "    sample_size=2000\n",
    ")\n",
    "visualize_clusters_tsne(\n",
    "    X = rp_transformed_data,\n",
    "    labels = labels['rp']['em'],\n",
    "    dataset = dataset,\n",
    "    experiment = experiment_name,\n",
    "    algorithm='em_rp',\n",
    "    random_state=17,\n",
    "    sample_size=2000\n",
    ")\n"
   ],
   "id": "57df27895d970bb9",
   "outputs": [
    {
     "name": "stdout",
     "output_type": "stream",
     "text": [
      "Plot saved at figs/dataset1/experiment3/tsne_visualization_kmeans_pca.png\n",
      "Plot saved at figs/dataset1/experiment3/tsne_visualization_kmeans_ica.png\n",
      "Plot saved at figs/dataset1/experiment3/tsne_visualization_kmeans_rp.png\n",
      "Plot saved at figs/dataset1/experiment3/tsne_visualization_em_pca.png\n",
      "Plot saved at figs/dataset1/experiment3/tsne_visualization_em_ica.png\n",
      "Plot saved at figs/dataset1/experiment3/tsne_visualization_em_rp.png\n"
     ]
    }
   ],
   "execution_count": 23
  },
  {
   "metadata": {
    "ExecuteTime": {
     "end_time": "2024-11-06T09:02:27.049951Z",
     "start_time": "2024-11-06T09:02:12.891155Z"
    }
   },
   "cell_type": "code",
   "source": [
    "# true labels\n",
    "visualize_clusters_tsne(\n",
    "    X = pca_transformed_data,\n",
    "    labels = y_train,\n",
    "    dataset = dataset,\n",
    "    experiment = experiment_name,\n",
    "    algorithm='pca_true',\n",
    "    random_state=17,\n",
    "    sample_size=2000\n",
    ")\n",
    "visualize_clusters_tsne(\n",
    "    X = ica_transformed_data,\n",
    "    labels = y_train,\n",
    "    dataset = dataset,\n",
    "    experiment = experiment_name,\n",
    "    algorithm='ica_true',\n",
    "    random_state=17,\n",
    "    sample_size=2000\n",
    ")\n",
    "visualize_clusters_tsne(\n",
    "    X = rp_transformed_data,\n",
    "    labels = y_train,\n",
    "    dataset = dataset,\n",
    "    experiment = experiment_name,\n",
    "    algorithm='rp_true',\n",
    "    random_state=17,\n",
    "    sample_size=2000\n",
    ")\n"
   ],
   "id": "c304bbfbee701544",
   "outputs": [
    {
     "name": "stdout",
     "output_type": "stream",
     "text": [
      "Plot saved at figs/dataset1/experiment3/tsne_visualization_pca_true.png\n",
      "Plot saved at figs/dataset1/experiment3/tsne_visualization_ica_true.png\n",
      "Plot saved at figs/dataset1/experiment3/tsne_visualization_rp_true.png\n"
     ]
    }
   ],
   "execution_count": 24
  },
  {
   "metadata": {},
   "cell_type": "markdown",
   "source": "# Dataset 2",
   "id": "7060337f860e58b"
  },
  {
   "metadata": {
    "ExecuteTime": {
     "end_time": "2024-11-08T06:51:37.561330Z",
     "start_time": "2024-11-08T06:51:37.546335Z"
    }
   },
   "cell_type": "code",
   "source": [
    "dataset = 'dataset2'\n",
    "experiment_name = 'experiment3'\n",
    "X_train, X_test,y_train, y_test = load_processed_data(f'data/{dataset}')\n",
    "X_train = np.concatenate((X_train, X_test), axis=0)\n",
    "y_train = np.concatenate((y_train, y_test), axis=0)\n",
    "n_features = X_train.shape[1]\n",
    "print(f\"Number of features: {n_features}\")"
   ],
   "id": "537341b982fa5d5a",
   "outputs": [
    {
     "name": "stdout",
     "output_type": "stream",
     "text": [
      "Number of features: 384\n"
     ]
    }
   ],
   "execution_count": 67
  },
  {
   "metadata": {},
   "cell_type": "markdown",
   "source": "## Understand the optimal number of components from Experiment 2",
   "id": "f226656992394fb0"
  },
  {
   "metadata": {
    "ExecuteTime": {
     "end_time": "2024-11-05T09:26:57.158283Z",
     "start_time": "2024-11-05T09:26:57.088464Z"
    }
   },
   "cell_type": "code",
   "source": [
    "# pca\n",
    "pca_metrics = load_pickle('results/dataset2/experiment2/pca_metrics.pkl')\n",
    "explained_variance = pca_metrics['cumulative_explained_variance'][0]\n",
    "idx = np.where(explained_variance >= 0.95)\n",
    "idx = idx[0][0]\n",
    "print(f\"Number of components that explains 95% of the variance: {idx}\")\n",
    "\n",
    "# ICA: find the elbow point of the kurtosis\n",
    "ica_metrics = load_pickle('results/dataset2/experiment2/ica_metrics.pkl')\n",
    "abs_mean_kurtosis = ica_metrics['abs_mean_kurtosis']\n",
    "idx = find_elbow_indice(abs_mean_kurtosis)\n",
    "print(f\"Number of components that explains the elbow point of the kurtosis: {idx}\")\n",
    "\n",
    "# RP: find the elbow point of the reconstruction error\n",
    "rp_metrics = load_pickle('results/dataset2/experiment2/rp_metrics.pkl')\n",
    "reconstruction_error = rp_metrics['reconstruction_error_mean']\n",
    "idx = find_elbow_indice(reconstruction_error)\n",
    "print(f\"Number of components that explains the elbow point of the reconstruction error: {idx}\")"
   ],
   "id": "f246db08c2e9e88",
   "outputs": [
    {
     "name": "stdout",
     "output_type": "stream",
     "text": [
      "Number of components that explains 95% of the variance: 145\n",
      "Number of components that explains the elbow point of the kurtosis: 33\n",
      "Number of components that explains the elbow point of the reconstruction error: 2\n"
     ]
    }
   ],
   "execution_count": 8
  },
  {
   "metadata": {},
   "cell_type": "markdown",
   "source": "## Run Experiment",
   "id": "c7c574d91fdb94c9"
  },
  {
   "metadata": {
    "ExecuteTime": {
     "end_time": "2024-11-04T04:40:57.508936Z",
     "start_time": "2024-11-01T00:04:23.103657Z"
    }
   },
   "cell_type": "code",
   "source": [
    "combined_experiment = CombinedExperiment()\n",
    "n_components_range = np.arange(40, 300, 20)\n",
    "kmeans_metrics, em_metrics, transformed_data = combined_experiment.run_combined_analyis(\n",
    "    X = X_train,\n",
    "    dr_components=n_components_range,\n",
    "    k_range = [2, 3, 4, 5, 6, 7, 8, 9, 10]\n",
    ")\n",
    "\n",
    "# save\n",
    "save_csv(kmeans_metrics, f'results/{dataset}/{experiment_name}', 'kmeans_metrics')\n",
    "save_csv(em_metrics, f'results/{dataset}/{experiment_name}', 'em_metrics')\n",
    "save_pickle(transformed_data, f'results/{dataset}/{experiment_name}', 'transformed_data')\n"
   ],
   "id": "9a19760849b0a967",
   "outputs": [
    {
     "name": "stderr",
     "output_type": "stream",
     "text": [
      "/Users/Placebo/anaconda3/envs/unsupervised/lib/python3.10/site-packages/sklearn/decomposition/_fastica.py:128: ConvergenceWarning: FastICA did not converge. Consider increasing tolerance or the maximum number of iterations.\n",
      "  warnings.warn(\n",
      "/Users/Placebo/anaconda3/envs/unsupervised/lib/python3.10/site-packages/sklearn/decomposition/_fastica.py:128: ConvergenceWarning: FastICA did not converge. Consider increasing tolerance or the maximum number of iterations.\n",
      "  warnings.warn(\n",
      "/Users/Placebo/anaconda3/envs/unsupervised/lib/python3.10/site-packages/sklearn/decomposition/_fastica.py:128: ConvergenceWarning: FastICA did not converge. Consider increasing tolerance or the maximum number of iterations.\n",
      "  warnings.warn(\n",
      "/Users/Placebo/anaconda3/envs/unsupervised/lib/python3.10/site-packages/sklearn/decomposition/_fastica.py:128: ConvergenceWarning: FastICA did not converge. Consider increasing tolerance or the maximum number of iterations.\n",
      "  warnings.warn(\n"
     ]
    },
    {
     "name": "stdout",
     "output_type": "stream",
     "text": [
      "Dataframe saved at results/dataset2/experiment3/kmeans_metrics.csv\n",
      "Dataframe saved at results/dataset2/experiment3/em_metrics.csv\n",
      "Data saved at results/dataset2/experiment3/transformed_data.pkl.pkl\n"
     ]
    }
   ],
   "execution_count": 11
  },
  {
   "metadata": {},
   "cell_type": "markdown",
   "source": "## Result Analysis",
   "id": "c31594fad09e3581"
  },
  {
   "metadata": {
    "ExecuteTime": {
     "end_time": "2024-11-04T04:40:57.508998Z",
     "start_time": "2024-11-01T05:32:32.776455Z"
    }
   },
   "cell_type": "code",
   "source": [
    "kmeans_metrics = load_csv('results/dataset2/experiment3/kmeans_metrics.csv')\n",
    "em_metrics = load_csv('results/dataset2/experiment3/em_metrics.csv')\n",
    "\n",
    "# find the optimal combination\n",
    "optimal_combinations = find_optimal_combinations(kmeans_metrics, em_metrics)\n",
    "optimal_combinations"
   ],
   "id": "ea5ae25969c5a091",
   "outputs": [
    {
     "data": {
      "text/plain": [
       "{'ica_kmeans': {'dr_method': 'ica',\n",
       "  'n_components': np.int64(120),\n",
       "  'k': np.int64(2),\n",
       "  'score': np.float64(0.05200101)},\n",
       " 'pca_kmeans': {'dr_method': 'pca',\n",
       "  'n_components': np.int64(40),\n",
       "  'k': np.int64(5),\n",
       "  'score': np.float64(0.31027284)},\n",
       " 'rp_kmeans': {'dr_method': 'rp',\n",
       "  'n_components': np.int64(220),\n",
       "  'k': np.int64(5),\n",
       "  'score': np.float64(0.19503097)},\n",
       " 'ica_em': {'dr_method': 'ica',\n",
       "  'n_components': np.int64(120),\n",
       "  'k': np.int64(2),\n",
       "  'score': np.float64(0.05228002)},\n",
       " 'pca_em': {'dr_method': 'pca',\n",
       "  'n_components': np.int64(40),\n",
       "  'k': np.int64(5),\n",
       "  'score': np.float64(0.3104371)},\n",
       " 'rp_em': {'dr_method': 'rp',\n",
       "  'n_components': np.int64(220),\n",
       "  'k': np.int64(5),\n",
       "  'score': np.float64(0.19503097)}}"
      ]
     },
     "execution_count": 31,
     "metadata": {},
     "output_type": "execute_result"
    }
   ],
   "execution_count": 31
  },
  {
   "metadata": {},
   "cell_type": "markdown",
   "source": [
    "### Use the results from Experiment 2\n",
    "n componeients for pca, ica, and rp are 145, 145,145"
   ],
   "id": "95c1c80989659d78"
  },
  {
   "metadata": {
    "ExecuteTime": {
     "end_time": "2024-11-08T06:53:42.424749Z",
     "start_time": "2024-11-08T06:53:41.029442Z"
    }
   },
   "cell_type": "code",
   "source": [
    "combined_experiment = CombinedExperiment()\n",
    "n_components_range = [145]\n",
    "kmeans_metrics, em_metrics, transformed_data = combined_experiment.run_combined_analyis(\n",
    "    X = X_train,\n",
    "    dr_components=n_components_range,\n",
    "    k_range = [5]\n",
    ")"
   ],
   "id": "c73ea4bdf8c35748",
   "outputs": [],
   "execution_count": 71
  },
  {
   "metadata": {
    "ExecuteTime": {
     "end_time": "2024-11-08T06:53:46.984813Z",
     "start_time": "2024-11-08T06:53:46.067051Z"
    }
   },
   "cell_type": "code",
   "source": [
    "pca_transformed_data = transformed_data['pca'][145]\n",
    "ica_transformed_data = transformed_data['ica'][145]\n",
    "rp_transformed_data = transformed_data['rp'][145]\n",
    "config = [\n",
    "    {'rd': 'pca', 'X': pca_transformed_data},\n",
    "    {'rd': 'ica', 'X': ica_transformed_data},\n",
    "    {'rd': 'rp', 'X': rp_transformed_data}\n",
    "]\n",
    "metrics, labels, external_metrics = run_combined_cluster(config, [5], y_train)\n",
    "# save\n",
    "save_csv(metrics, f'results/{dataset}/{experiment_name}', 'combined_metrics')\n",
    "save_pickle(labels, f'results/{dataset}/{experiment_name}', 'combined_labels')\n",
    "save_csv(external_metrics, f'results/{dataset}/{experiment_name}', 'combined_external_metrics')"
   ],
   "id": "2542020ecb921cc",
   "outputs": [
    {
     "name": "stdout",
     "output_type": "stream",
     "text": [
      "Dataframe saved at results/dataset2/experiment3/combined_metrics.csv\n",
      "Data saved at results/dataset2/experiment3/combined_labels.pkl\n",
      "Dataframe saved at results/dataset2/experiment3/combined_external_metrics.csv\n"
     ]
    }
   ],
   "execution_count": 72
  },
  {
   "metadata": {
    "ExecuteTime": {
     "end_time": "2024-11-08T06:53:51.780155Z",
     "start_time": "2024-11-08T06:53:51.752519Z"
    }
   },
   "cell_type": "code",
   "source": "metrics",
   "id": "aef269996128cfac",
   "outputs": [
    {
     "data": {
      "text/plain": [
       "   k  silhouette_score  calinski_harabasz_score  method rd_method\n",
       "0  5          0.220943               305.840454  kmeans       pca\n",
       "1  5          0.220943               305.840454      em       pca\n",
       "2  5         -0.008717                 8.926818  kmeans       ica\n",
       "3  5         -0.005880                 8.868317      em       ica\n",
       "4  5          0.193176               274.370483  kmeans        rp\n",
       "5  5          0.193176               274.370483      em        rp"
      ],
      "text/html": [
       "<div>\n",
       "<style scoped>\n",
       "    .dataframe tbody tr th:only-of-type {\n",
       "        vertical-align: middle;\n",
       "    }\n",
       "\n",
       "    .dataframe tbody tr th {\n",
       "        vertical-align: top;\n",
       "    }\n",
       "\n",
       "    .dataframe thead th {\n",
       "        text-align: right;\n",
       "    }\n",
       "</style>\n",
       "<table border=\"1\" class=\"dataframe\">\n",
       "  <thead>\n",
       "    <tr style=\"text-align: right;\">\n",
       "      <th></th>\n",
       "      <th>k</th>\n",
       "      <th>silhouette_score</th>\n",
       "      <th>calinski_harabasz_score</th>\n",
       "      <th>method</th>\n",
       "      <th>rd_method</th>\n",
       "    </tr>\n",
       "  </thead>\n",
       "  <tbody>\n",
       "    <tr>\n",
       "      <th>0</th>\n",
       "      <td>5</td>\n",
       "      <td>0.220943</td>\n",
       "      <td>305.840454</td>\n",
       "      <td>kmeans</td>\n",
       "      <td>pca</td>\n",
       "    </tr>\n",
       "    <tr>\n",
       "      <th>1</th>\n",
       "      <td>5</td>\n",
       "      <td>0.220943</td>\n",
       "      <td>305.840454</td>\n",
       "      <td>em</td>\n",
       "      <td>pca</td>\n",
       "    </tr>\n",
       "    <tr>\n",
       "      <th>2</th>\n",
       "      <td>5</td>\n",
       "      <td>-0.008717</td>\n",
       "      <td>8.926818</td>\n",
       "      <td>kmeans</td>\n",
       "      <td>ica</td>\n",
       "    </tr>\n",
       "    <tr>\n",
       "      <th>3</th>\n",
       "      <td>5</td>\n",
       "      <td>-0.005880</td>\n",
       "      <td>8.868317</td>\n",
       "      <td>em</td>\n",
       "      <td>ica</td>\n",
       "    </tr>\n",
       "    <tr>\n",
       "      <th>4</th>\n",
       "      <td>5</td>\n",
       "      <td>0.193176</td>\n",
       "      <td>274.370483</td>\n",
       "      <td>kmeans</td>\n",
       "      <td>rp</td>\n",
       "    </tr>\n",
       "    <tr>\n",
       "      <th>5</th>\n",
       "      <td>5</td>\n",
       "      <td>0.193176</td>\n",
       "      <td>274.370483</td>\n",
       "      <td>em</td>\n",
       "      <td>rp</td>\n",
       "    </tr>\n",
       "  </tbody>\n",
       "</table>\n",
       "</div>"
      ]
     },
     "execution_count": 73,
     "metadata": {},
     "output_type": "execute_result"
    }
   ],
   "execution_count": 73
  },
  {
   "metadata": {
    "ExecuteTime": {
     "end_time": "2024-11-08T06:53:54.426657Z",
     "start_time": "2024-11-08T06:53:54.409586Z"
    }
   },
   "cell_type": "code",
   "source": "external_metrics",
   "id": "ce4df09d871d8ee0",
   "outputs": [
    {
     "data": {
      "text/plain": [
       "   adjusted_rand  normalized_mutual_info  adjusted_mutual_info  homogeneity  \\\n",
       "0       0.000039                0.000090             -0.000351     0.000075   \n",
       "1       0.000039                0.000091             -0.000349     0.000076   \n",
       "2       0.017688                0.013410              0.013030     0.012876   \n",
       "3       0.022360                0.018234              0.017847     0.017099   \n",
       "4      -0.000518                0.000010             -0.000365     0.000010   \n",
       "5      -0.000513                0.000006             -0.000370     0.000005   \n",
       "\n",
       "   completeness  method rd_method  \n",
       "0      0.000111  kmeans       pca  \n",
       "1      0.000112      em       pca  \n",
       "2      0.013990  kmeans       ica  \n",
       "3      0.019530      em       ica  \n",
       "4      0.000010  kmeans        rp  \n",
       "5      0.000006      em        rp  "
      ],
      "text/html": [
       "<div>\n",
       "<style scoped>\n",
       "    .dataframe tbody tr th:only-of-type {\n",
       "        vertical-align: middle;\n",
       "    }\n",
       "\n",
       "    .dataframe tbody tr th {\n",
       "        vertical-align: top;\n",
       "    }\n",
       "\n",
       "    .dataframe thead th {\n",
       "        text-align: right;\n",
       "    }\n",
       "</style>\n",
       "<table border=\"1\" class=\"dataframe\">\n",
       "  <thead>\n",
       "    <tr style=\"text-align: right;\">\n",
       "      <th></th>\n",
       "      <th>adjusted_rand</th>\n",
       "      <th>normalized_mutual_info</th>\n",
       "      <th>adjusted_mutual_info</th>\n",
       "      <th>homogeneity</th>\n",
       "      <th>completeness</th>\n",
       "      <th>method</th>\n",
       "      <th>rd_method</th>\n",
       "    </tr>\n",
       "  </thead>\n",
       "  <tbody>\n",
       "    <tr>\n",
       "      <th>0</th>\n",
       "      <td>0.000039</td>\n",
       "      <td>0.000090</td>\n",
       "      <td>-0.000351</td>\n",
       "      <td>0.000075</td>\n",
       "      <td>0.000111</td>\n",
       "      <td>kmeans</td>\n",
       "      <td>pca</td>\n",
       "    </tr>\n",
       "    <tr>\n",
       "      <th>1</th>\n",
       "      <td>0.000039</td>\n",
       "      <td>0.000091</td>\n",
       "      <td>-0.000349</td>\n",
       "      <td>0.000076</td>\n",
       "      <td>0.000112</td>\n",
       "      <td>em</td>\n",
       "      <td>pca</td>\n",
       "    </tr>\n",
       "    <tr>\n",
       "      <th>2</th>\n",
       "      <td>0.017688</td>\n",
       "      <td>0.013410</td>\n",
       "      <td>0.013030</td>\n",
       "      <td>0.012876</td>\n",
       "      <td>0.013990</td>\n",
       "      <td>kmeans</td>\n",
       "      <td>ica</td>\n",
       "    </tr>\n",
       "    <tr>\n",
       "      <th>3</th>\n",
       "      <td>0.022360</td>\n",
       "      <td>0.018234</td>\n",
       "      <td>0.017847</td>\n",
       "      <td>0.017099</td>\n",
       "      <td>0.019530</td>\n",
       "      <td>em</td>\n",
       "      <td>ica</td>\n",
       "    </tr>\n",
       "    <tr>\n",
       "      <th>4</th>\n",
       "      <td>-0.000518</td>\n",
       "      <td>0.000010</td>\n",
       "      <td>-0.000365</td>\n",
       "      <td>0.000010</td>\n",
       "      <td>0.000010</td>\n",
       "      <td>kmeans</td>\n",
       "      <td>rp</td>\n",
       "    </tr>\n",
       "    <tr>\n",
       "      <th>5</th>\n",
       "      <td>-0.000513</td>\n",
       "      <td>0.000006</td>\n",
       "      <td>-0.000370</td>\n",
       "      <td>0.000005</td>\n",
       "      <td>0.000006</td>\n",
       "      <td>em</td>\n",
       "      <td>rp</td>\n",
       "    </tr>\n",
       "  </tbody>\n",
       "</table>\n",
       "</div>"
      ]
     },
     "execution_count": 74,
     "metadata": {},
     "output_type": "execute_result"
    }
   ],
   "execution_count": 74
  },
  {
   "metadata": {
    "ExecuteTime": {
     "end_time": "2024-11-07T06:09:35.973932Z",
     "start_time": "2024-11-07T06:08:51.337681Z"
    }
   },
   "cell_type": "code",
   "source": [
    "# plot\n",
    "visualize_clusters_tsne(\n",
    "    X = pca_transformed_data,\n",
    "    labels = labels['pca']['kmeans'],\n",
    "    dataset = dataset,\n",
    "    experiment = experiment_name,\n",
    "    algorithm='kmeans_pca',\n",
    "    random_state=17,\n",
    "    sample_size=2000\n",
    ")\n",
    "visualize_clusters_tsne(\n",
    "    X = ica_transformed_data,\n",
    "    labels = labels['ica']['kmeans'],\n",
    "    dataset = dataset,\n",
    "    experiment = experiment_name,\n",
    "    algorithm='kmeans_ica',\n",
    "    random_state=17,\n",
    "    sample_size=2000\n",
    ")\n",
    "visualize_clusters_tsne(\n",
    "    X = rp_transformed_data,\n",
    "    labels = labels['rp']['kmeans'],\n",
    "    dataset = dataset,\n",
    "    experiment = experiment_name,\n",
    "    algorithm='kmeans_rp',\n",
    "    random_state=17,\n",
    "    sample_size=2000\n",
    ")\n",
    "visualize_clusters_tsne(\n",
    "    X = pca_transformed_data,\n",
    "    labels = labels['pca']['em'],\n",
    "    dataset = dataset,\n",
    "    experiment = experiment_name,\n",
    "    algorithm='em_pca',\n",
    "    random_state=17,\n",
    "    sample_size=2000\n",
    ")\n",
    "visualize_clusters_tsne(\n",
    "    X = ica_transformed_data,\n",
    "    labels = labels['ica']['em'],\n",
    "    dataset = dataset,\n",
    "    experiment = experiment_name,\n",
    "    algorithm='em_ica',\n",
    "    random_state=17,\n",
    "    sample_size=2000\n",
    ")\n",
    "visualize_clusters_tsne(\n",
    "    X = rp_transformed_data,\n",
    "    labels = labels['rp']['em'],\n",
    "    dataset = dataset,\n",
    "    experiment = experiment_name,\n",
    "    algorithm='em_rp',\n",
    "    random_state=17,\n",
    "    sample_size=2000\n",
    ")\n",
    "# true labels\n",
    "visualize_clusters_tsne(\n",
    "    X = pca_transformed_data,\n",
    "    labels = y_train,\n",
    "    dataset = dataset,\n",
    "    experiment = experiment_name,\n",
    "    algorithm='pca_true',\n",
    "    random_state=17,\n",
    "    sample_size=2000\n",
    ")\n",
    "visualize_clusters_tsne(\n",
    "    X = ica_transformed_data,\n",
    "    labels = y_train,\n",
    "    dataset = dataset,\n",
    "    experiment = experiment_name,\n",
    "    algorithm='ica_true',\n",
    "    random_state=17,\n",
    "    sample_size=2000\n",
    ")\n",
    "visualize_clusters_tsne(\n",
    "    X = rp_transformed_data,\n",
    "    labels = y_train,\n",
    "    dataset = dataset,\n",
    "    experiment = experiment_name,\n",
    "    algorithm='rp_true',\n",
    "    random_state=17,\n",
    "    sample_size=2000\n",
    ")"
   ],
   "id": "6fdbdd82e4f17587",
   "outputs": [
    {
     "name": "stdout",
     "output_type": "stream",
     "text": [
      "Plot saved at figs/dataset2/experiment3/tsne_visualization_kmeans_pca.png\n",
      "Plot saved at figs/dataset2/experiment3/tsne_visualization_kmeans_ica.png\n",
      "Plot saved at figs/dataset2/experiment3/tsne_visualization_kmeans_rp.png\n",
      "Plot saved at figs/dataset2/experiment3/tsne_visualization_em_pca.png\n",
      "Plot saved at figs/dataset2/experiment3/tsne_visualization_em_ica.png\n",
      "Plot saved at figs/dataset2/experiment3/tsne_visualization_em_rp.png\n",
      "Plot saved at figs/dataset2/experiment3/tsne_visualization_pca_true.png\n",
      "Plot saved at figs/dataset2/experiment3/tsne_visualization_ica_true.png\n",
      "Plot saved at figs/dataset2/experiment3/tsne_visualization_rp_true.png\n"
     ]
    }
   ],
   "execution_count": 57
  },
  {
   "metadata": {},
   "cell_type": "code",
   "outputs": [],
   "execution_count": null,
   "source": "",
   "id": "babfc558cfa674e5"
  }
 ],
 "metadata": {
  "kernelspec": {
   "display_name": "Python (unsupervised)",
   "language": "python",
   "name": "unsupervised"
  },
  "language_info": {
   "codemirror_mode": {
    "name": "ipython",
    "version": 2
   },
   "file_extension": ".py",
   "mimetype": "text/x-python",
   "name": "python",
   "nbconvert_exporter": "python",
   "pygments_lexer": "ipython2",
   "version": "2.7.6"
  }
 },
 "nbformat": 4,
 "nbformat_minor": 5
}
