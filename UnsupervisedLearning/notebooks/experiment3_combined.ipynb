{
 "cells": [
  {
   "cell_type": "code",
   "id": "initial_id",
   "metadata": {
    "collapsed": true,
    "ExecuteTime": {
     "end_time": "2024-11-01T05:17:31.623029Z",
     "start_time": "2024-11-01T05:17:31.617298Z"
    }
   },
   "source": [
    "import os\n",
    "os.chdir('..')\n",
    "print(os.getcwd())"
   ],
   "outputs": [
    {
     "name": "stdout",
     "output_type": "stream",
     "text": [
      "/Users/Placebo/OMSCS/CS7641-ML/MachineLearningProjects/UnsupervisedLearning\n"
     ]
    }
   ],
   "execution_count": 1
  },
  {
   "metadata": {
    "ExecuteTime": {
     "end_time": "2024-11-01T05:17:32.652997Z",
     "start_time": "2024-11-01T05:17:32.379076Z"
    }
   },
   "cell_type": "code",
   "source": [
    "import pandas as pd\n",
    "import numpy as np"
   ],
   "id": "5661b822db4b244e",
   "outputs": [],
   "execution_count": 2
  },
  {
   "metadata": {
    "ExecuteTime": {
     "end_time": "2024-11-01T05:21:35.003189Z",
     "start_time": "2024-11-01T05:21:34.973627Z"
    }
   },
   "cell_type": "code",
   "source": [
    "%load_ext autoreload\n",
    "%autoreload 2\n",
    "from src.experiments.experiment3_combined import CombinedExperiment, find_optimal_combinations, evaluate_clustering\n",
    "from src.utils.data_loader import load_processed_data, save_csv, load_csv, save_csv, save_pickle, load_pickle\n",
    "from src.utils.evaluation import find_elbow_indice"
   ],
   "id": "502854ced667ce0e",
   "outputs": [
    {
     "name": "stdout",
     "output_type": "stream",
     "text": [
      "The autoreload extension is already loaded. To reload it, use:\n",
      "  %reload_ext autoreload\n"
     ]
    }
   ],
   "execution_count": 10
  },
  {
   "metadata": {},
   "cell_type": "markdown",
   "source": "# Dataset 1",
   "id": "1ca197f582f3f973"
  },
  {
   "metadata": {
    "ExecuteTime": {
     "end_time": "2024-11-01T05:17:35.623041Z",
     "start_time": "2024-11-01T05:17:35.603389Z"
    }
   },
   "cell_type": "code",
   "source": [
    "dataset = 'dataset1'\n",
    "experiment_name = 'experiment3'\n",
    "X_train, X_test,y_train, y_test = load_processed_data(f'data/{dataset}')\n",
    "X_train = np.concatenate((X_train, X_test), axis=0)\n",
    "y_train = np.concatenate((y_train, y_test), axis=0)\n",
    "n_features = X_train.shape[1]\n",
    "print(f\"Number of features: {n_features}\")"
   ],
   "id": "a889ebda054084af",
   "outputs": [
    {
     "name": "stdout",
     "output_type": "stream",
     "text": [
      "Number of features: 30\n"
     ]
    }
   ],
   "execution_count": 4
  },
  {
   "metadata": {},
   "cell_type": "markdown",
   "source": "## Understand the optimal number of components from Experiment 2",
   "id": "d3dc0f95e59a45e0"
  },
  {
   "metadata": {
    "ExecuteTime": {
     "end_time": "2024-10-31T23:01:52.946334Z",
     "start_time": "2024-10-31T23:01:52.933511Z"
    }
   },
   "cell_type": "code",
   "source": [
    "# PCA\n",
    "pca_metrics = load_pickle('results/dataset1/experiment2/pca_metrics.pkl')\n",
    "# find the number of components that explains 95% of the variance\n",
    "explained_variance = pca_metrics['cumulative_explained_variance'][0]\n",
    "idx = np.where(explained_variance >= 0.95)\n",
    "idx = idx[0][0]\n",
    "print(f\"Number of components that explains 95% of the variance: {idx}\")\n",
    "\n",
    "# ICA: find the elbow point of the kurtosis\n",
    "ica_metrics = load_pickle('results/dataset1/experiment2/ica_metrics.pkl')\n",
    "abs_mean_kurtosis = ica_metrics['abs_mean_kurtosis']\n",
    "idx = find_elbow_indice(abs_mean_kurtosis)\n",
    "print(f\"Number of components that explains the elbow point of the kurtosis: {idx}\")\n",
    "\n",
    "# RP: find the elbow point of the reconstruction error\n",
    "rp_metrics = load_pickle('results/dataset1/experiment2/rp_metrics.pkl')\n",
    "reconstruction_error = rp_metrics['reconstruction_error_mean']\n",
    "idx = find_elbow_indice(reconstruction_error)\n",
    "print(f\"Number of components that explains the elbow point of the reconstruction error: {idx}\")"
   ],
   "id": "aebcd2a00a70a332",
   "outputs": [
    {
     "name": "stdout",
     "output_type": "stream",
     "text": [
      "Number of components that explains 95% of the variance: 10\n",
      "Number of components that explains the elbow point of the kurtosis: 18\n",
      "Number of components that explains the elbow point of the reconstruction error: 15\n"
     ]
    }
   ],
   "execution_count": 5
  },
  {
   "metadata": {},
   "cell_type": "markdown",
   "source": "## Run Experiment",
   "id": "a551996af6a36c91"
  },
  {
   "metadata": {
    "ExecuteTime": {
     "end_time": "2024-11-01T00:04:22.789031Z",
     "start_time": "2024-10-31T23:01:52.958497Z"
    }
   },
   "cell_type": "code",
   "source": [
    "combined_experiment = CombinedExperiment()\n",
    "kmeans_metrics, em_metrics, transformed_data = combined_experiment.run_combined_analyis(\n",
    "    X = X_train,\n",
    "    dr_components=[6, 8, 10, 12, 14, 16, 18, 20],\n",
    "    k_range = [2, 3, 4, 5, 6, 7, 8, 9, 10]\n",
    ")\n"
   ],
   "id": "6462b99cee8edcf0",
   "outputs": [],
   "execution_count": 6
  },
  {
   "metadata": {
    "ExecuteTime": {
     "end_time": "2024-11-01T00:04:22.923710Z",
     "start_time": "2024-11-01T00:04:22.810650Z"
    }
   },
   "cell_type": "code",
   "source": [
    "# save\n",
    "save_csv(kmeans_metrics, f'results/{dataset}/{experiment_name}', 'kmeans_metrics')\n",
    "save_csv(em_metrics, f'results/{dataset}/{experiment_name}', 'em_metrics')\n",
    "save_pickle(transformed_data, f'results/{dataset}/{experiment_name}', 'transformed_data')"
   ],
   "id": "ad9aedb272270b26",
   "outputs": [
    {
     "name": "stdout",
     "output_type": "stream",
     "text": [
      "Dataframe saved at results/dataset1/experiment3/kmeans_metrics.csv\n",
      "Dataframe saved at results/dataset1/experiment3/em_metrics.csv\n",
      "Data saved at results/dataset1/experiment3/transformed_data.pkl\n"
     ]
    }
   ],
   "execution_count": 7
  },
  {
   "metadata": {},
   "cell_type": "markdown",
   "source": "## Result Analysis",
   "id": "2005e4d388e3ccbf"
  },
  {
   "metadata": {
    "ExecuteTime": {
     "end_time": "2024-11-01T05:17:44.543554Z",
     "start_time": "2024-11-01T05:17:44.519975Z"
    }
   },
   "cell_type": "code",
   "source": [
    "kmeans_metrics = load_csv('results/dataset1/experiment3/kmeans_metrics.csv')\n",
    "em_metrics = load_csv('results/dataset1/experiment3/em_metrics.csv')\n",
    "\n",
    "# find the optimal combination\n",
    "optimal_combinations = find_optimal_combinations(kmeans_metrics, em_metrics)\n",
    "optimal_combinations\n"
   ],
   "id": "92c6f8057d4d145d",
   "outputs": [
    {
     "data": {
      "text/plain": [
       "{'ica_kmeans': {'dr_method': 'ica',\n",
       "  'n_components': np.int64(6),\n",
       "  'k': np.int64(2),\n",
       "  'score': np.float64(0.2728713998359047)},\n",
       " 'pca_kmeans': {'dr_method': 'pca',\n",
       "  'n_components': np.int64(6),\n",
       "  'k': np.int64(2),\n",
       "  'score': np.float64(0.4343992805784901)},\n",
       " 'rp_kmeans': {'dr_method': 'rp',\n",
       "  'n_components': np.int64(6),\n",
       "  'k': np.int64(2),\n",
       "  'score': np.float64(0.532047658972778)},\n",
       " 'ica_em': {'dr_method': 'ica',\n",
       "  'n_components': np.int64(6),\n",
       "  'k': np.int64(2),\n",
       "  'score': np.float64(0.2499317320511711)},\n",
       " 'pca_em': {'dr_method': 'pca',\n",
       "  'n_components': np.int64(6),\n",
       "  'k': np.int64(2),\n",
       "  'score': np.float64(0.4337397202912334)},\n",
       " 'rp_em': {'dr_method': 'rp',\n",
       "  'n_components': np.int64(6),\n",
       "  'k': np.int64(2),\n",
       "  'score': np.float64(0.4150771849689905)}}"
      ]
     },
     "execution_count": 5,
     "metadata": {},
     "output_type": "execute_result"
    }
   ],
   "execution_count": 5
  },
  {
   "metadata": {},
   "cell_type": "markdown",
   "source": "### Supervised metrics",
   "id": "177319541a3ec0f4"
  },
  {
   "metadata": {
    "ExecuteTime": {
     "end_time": "2024-11-01T05:21:39.263367Z",
     "start_time": "2024-11-01T05:21:38.728101Z"
    }
   },
   "cell_type": "code",
   "source": [
    "transformed_data = load_pickle('results/dataset1/experiment3/transformed_data.pkl')\n",
    "results = evaluate_clustering(transformed_data, y_train, optimal_combinations)"
   ],
   "id": "e3c2dfe37469561c",
   "outputs": [],
   "execution_count": 11
  },
  {
   "metadata": {
    "ExecuteTime": {
     "end_time": "2024-11-01T05:21:39.908186Z",
     "start_time": "2024-11-01T05:21:39.891152Z"
    }
   },
   "cell_type": "code",
   "source": "results",
   "id": "122fcdd160a1e29b",
   "outputs": [
    {
     "data": {
      "text/plain": [
       "{'ica_kmeans': {'metrics': {'adjusted_rand': 0.1514352733975298,\n",
       "   'normalized_mutual_info': np.float64(0.0415134595551896),\n",
       "   'adjusted_mutual_info': np.float64(0.0414827992464123),\n",
       "   'homogeneity': np.float64(0.04476598846669214),\n",
       "   'completeness': np.float64(0.03870155000878906),\n",
       "   'v_measure': np.float64(0.0415134595551896)},\n",
       "  'composition': col_0         -1          1\n",
       "  row_0                      \n",
       "  0      91.275339   8.724661\n",
       "  1      73.285199  26.714801},\n",
       " 'pca_kmeans': {'metrics': {'adjusted_rand': 0.11591219516909969,\n",
       "   'normalized_mutual_info': np.float64(0.07422293225037535),\n",
       "   'adjusted_mutual_info': np.float64(0.07420035997478884),\n",
       "   'homogeneity': np.float64(0.10499174589658755),\n",
       "   'completeness': np.float64(0.057401024780501825),\n",
       "   'v_measure': np.float64(0.07422293225037535)},\n",
       "  'composition': col_0         -1          1\n",
       "  row_0                      \n",
       "  0      76.543993  23.456007\n",
       "  1      95.137757   4.862243},\n",
       " 'rp_kmeans': {'metrics': {'adjusted_rand': 0.15265852221039525,\n",
       "   'normalized_mutual_info': np.float64(0.04190039211115309),\n",
       "   'adjusted_mutual_info': np.float64(0.04186957234013333),\n",
       "   'homogeneity': np.float64(0.044931509692478465),\n",
       "   'completeness': np.float64(0.03925239256626763),\n",
       "   'v_measure': np.float64(0.04190039211115309)},\n",
       "  'composition': col_0         -1          1\n",
       "  row_0                      \n",
       "  0      73.081629  26.918371\n",
       "  1      91.259481   8.740519},\n",
       " 'ica_em': {'metrics': {'adjusted_rand': 0.11472643867952143,\n",
       "   'normalized_mutual_info': np.float64(0.07376389676273677),\n",
       "   'adjusted_mutual_info': np.float64(0.07374133234162217),\n",
       "   'homogeneity': np.float64(0.10443046227583591),\n",
       "   'completeness': np.float64(0.057019743248789355)},\n",
       "  'composition': col_0         -1          1\n",
       "  row_0                      \n",
       "  0      95.135436   4.864564\n",
       "  1      76.618907  23.381093},\n",
       " 'pca_em': {'metrics': {'adjusted_rand': 0.11472643867952143,\n",
       "   'normalized_mutual_info': np.float64(0.07376389676273677),\n",
       "   'adjusted_mutual_info': np.float64(0.07374133234162217),\n",
       "   'homogeneity': np.float64(0.10443046227583591),\n",
       "   'completeness': np.float64(0.057019743248789355)},\n",
       "  'composition': col_0         -1          1\n",
       "  row_0                      \n",
       "  0      76.618907  23.381093\n",
       "  1      95.135436   4.864564},\n",
       " 'rp_em': {'metrics': {'adjusted_rand': 0.2567314236263537,\n",
       "   'normalized_mutual_info': np.float64(0.12829002450909188),\n",
       "   'adjusted_mutual_info': np.float64(0.1282658196806391),\n",
       "   'homogeneity': np.float64(0.15935788108892993),\n",
       "   'completeness': np.float64(0.10735957607882135)},\n",
       "  'composition': col_0         -1          1\n",
       "  row_0                      \n",
       "  0      66.412556  33.587444\n",
       "  1      94.905169   5.094831}}"
      ]
     },
     "execution_count": 12,
     "metadata": {},
     "output_type": "execute_result"
    }
   ],
   "execution_count": 12
  },
  {
   "metadata": {},
   "cell_type": "markdown",
   "source": "# Dataset 2",
   "id": "7060337f860e58b"
  },
  {
   "metadata": {
    "ExecuteTime": {
     "end_time": "2024-11-01T05:28:24.879467Z",
     "start_time": "2024-11-01T05:28:24.862773Z"
    }
   },
   "cell_type": "code",
   "source": [
    "dataset = 'dataset2'\n",
    "experiment_name = 'experiment3'\n",
    "X_train, X_test,y_train, y_test = load_processed_data(f'data/{dataset}')\n",
    "X_train = np.concatenate((X_train, X_test), axis=0)\n",
    "y_train = np.concatenate((y_train, y_test), axis=0)\n",
    "n_features = X_train.shape[1]\n",
    "print(f\"Number of features: {n_features}\")"
   ],
   "id": "537341b982fa5d5a",
   "outputs": [
    {
     "name": "stdout",
     "output_type": "stream",
     "text": [
      "Number of features: 384\n"
     ]
    }
   ],
   "execution_count": 15
  },
  {
   "metadata": {},
   "cell_type": "markdown",
   "source": "## Understand the optimal number of components from Experiment 2",
   "id": "f226656992394fb0"
  },
  {
   "metadata": {
    "ExecuteTime": {
     "end_time": "2024-11-01T00:04:23.093041Z",
     "start_time": "2024-11-01T00:04:23.078533Z"
    }
   },
   "cell_type": "code",
   "source": [
    "# pca\n",
    "pca_metrics = load_pickle('results/dataset2/experiment2/pca_metrics.pkl')\n",
    "explained_variance = pca_metrics['cumulative_explained_variance'][0]\n",
    "idx = np.where(explained_variance >= 0.95)\n",
    "idx = idx[0][0]\n",
    "print(f\"Number of components that explains 95% of the variance: {idx}\")\n",
    "\n",
    "# ICA: find the elbow point of the kurtosis\n",
    "ica_metrics = load_pickle('results/dataset2/experiment2/ica_metrics.pkl')\n",
    "abs_mean_kurtosis = ica_metrics['abs_mean_kurtosis']\n",
    "idx = find_elbow_indice(abs_mean_kurtosis)\n",
    "print(f\"Number of components that explains the elbow point of the kurtosis: {idx}\")\n",
    "\n",
    "# RP: find the elbow point of the reconstruction error\n",
    "rp_metrics = load_pickle('results/dataset2/experiment2/rp_metrics.pkl')\n",
    "reconstruction_error = rp_metrics['reconstruction_error_mean']\n",
    "idx = find_elbow_indice(reconstruction_error)\n",
    "print(f\"Number of components that explains the elbow point of the reconstruction error: {idx}\")"
   ],
   "id": "f246db08c2e9e88",
   "outputs": [
    {
     "name": "stdout",
     "output_type": "stream",
     "text": [
      "Number of components that explains 95% of the variance: 145\n",
      "Number of components that explains the elbow point of the kurtosis: 7\n",
      "Number of components that explains the elbow point of the reconstruction error: 27\n"
     ]
    }
   ],
   "execution_count": 10
  },
  {
   "metadata": {},
   "cell_type": "markdown",
   "source": "## Run Experiment",
   "id": "c7c574d91fdb94c9"
  },
  {
   "metadata": {
    "ExecuteTime": {
     "end_time": "2024-11-01T00:05:58.230768Z",
     "start_time": "2024-11-01T00:04:23.103657Z"
    }
   },
   "cell_type": "code",
   "source": [
    "combined_experiment = CombinedExperiment()\n",
    "n_components_range = np.arange(40, 300, 20)\n",
    "kmeans_metrics, em_metrics, transformed_data = combined_experiment.run_combined_analyis(\n",
    "    X = X_train,\n",
    "    dr_components=n_components_range,\n",
    "    k_range = [2, 3, 4, 5, 6, 7, 8, 9, 10]\n",
    ")\n",
    "\n",
    "# save\n",
    "save_csv(kmeans_metrics, f'results/{dataset}/{experiment_name}', 'kmeans_metrics')\n",
    "save_csv(em_metrics, f'results/{dataset}/{experiment_name}', 'em_metrics')\n",
    "save_pickle(transformed_data, f'results/{dataset}/{experiment_name}', 'transformed_data')\n"
   ],
   "id": "9a19760849b0a967",
   "outputs": [
    {
     "name": "stderr",
     "output_type": "stream",
     "text": [
      "/Users/Placebo/anaconda3/envs/unsupervised/lib/python3.10/site-packages/sklearn/decomposition/_fastica.py:128: ConvergenceWarning: FastICA did not converge. Consider increasing tolerance or the maximum number of iterations.\n",
      "  warnings.warn(\n",
      "/Users/Placebo/anaconda3/envs/unsupervised/lib/python3.10/site-packages/sklearn/decomposition/_fastica.py:128: ConvergenceWarning: FastICA did not converge. Consider increasing tolerance or the maximum number of iterations.\n",
      "  warnings.warn(\n",
      "/Users/Placebo/anaconda3/envs/unsupervised/lib/python3.10/site-packages/sklearn/decomposition/_fastica.py:128: ConvergenceWarning: FastICA did not converge. Consider increasing tolerance or the maximum number of iterations.\n",
      "  warnings.warn(\n",
      "/Users/Placebo/anaconda3/envs/unsupervised/lib/python3.10/site-packages/sklearn/decomposition/_fastica.py:128: ConvergenceWarning: FastICA did not converge. Consider increasing tolerance or the maximum number of iterations.\n",
      "  warnings.warn(\n"
     ]
    },
    {
     "name": "stdout",
     "output_type": "stream",
     "text": [
      "Dataframe saved at results/dataset2/experiment3/kmeans_metrics.csv\n",
      "Dataframe saved at results/dataset2/experiment3/em_metrics.csv\n",
      "Data saved at results/dataset2/experiment3/transformed_data.pkl.pkl\n"
     ]
    }
   ],
   "execution_count": 11
  },
  {
   "metadata": {},
   "cell_type": "markdown",
   "source": "## Result Analysis",
   "id": "c31594fad09e3581"
  },
  {
   "metadata": {
    "ExecuteTime": {
     "end_time": "2024-11-01T05:32:32.800388Z",
     "start_time": "2024-11-01T05:32:32.776455Z"
    }
   },
   "cell_type": "code",
   "source": [
    "kmeans_metrics = load_csv('results/dataset2/experiment3/kmeans_metrics.csv')\n",
    "em_metrics = load_csv('results/dataset2/experiment3/em_metrics.csv')\n",
    "\n",
    "# find the optimal combination\n",
    "optimal_combinations = find_optimal_combinations(kmeans_metrics, em_metrics)\n",
    "optimal_combinations"
   ],
   "id": "ea5ae25969c5a091",
   "outputs": [
    {
     "data": {
      "text/plain": [
       "{'ica_kmeans': {'dr_method': 'ica',\n",
       "  'n_components': np.int64(120),\n",
       "  'k': np.int64(2),\n",
       "  'score': np.float64(0.05200101)},\n",
       " 'pca_kmeans': {'dr_method': 'pca',\n",
       "  'n_components': np.int64(40),\n",
       "  'k': np.int64(5),\n",
       "  'score': np.float64(0.31027284)},\n",
       " 'rp_kmeans': {'dr_method': 'rp',\n",
       "  'n_components': np.int64(220),\n",
       "  'k': np.int64(5),\n",
       "  'score': np.float64(0.19503097)},\n",
       " 'ica_em': {'dr_method': 'ica',\n",
       "  'n_components': np.int64(120),\n",
       "  'k': np.int64(2),\n",
       "  'score': np.float64(0.05228002)},\n",
       " 'pca_em': {'dr_method': 'pca',\n",
       "  'n_components': np.int64(40),\n",
       "  'k': np.int64(5),\n",
       "  'score': np.float64(0.3104371)},\n",
       " 'rp_em': {'dr_method': 'rp',\n",
       "  'n_components': np.int64(220),\n",
       "  'k': np.int64(5),\n",
       "  'score': np.float64(0.19503097)}}"
      ]
     },
     "execution_count": 31,
     "metadata": {},
     "output_type": "execute_result"
    }
   ],
   "execution_count": 31
  },
  {
   "metadata": {},
   "cell_type": "markdown",
   "source": "### Supervised metrics",
   "id": "92217484e70bcb78"
  },
  {
   "metadata": {
    "ExecuteTime": {
     "end_time": "2024-11-01T05:33:00.624465Z",
     "start_time": "2024-11-01T05:33:00.384039Z"
    }
   },
   "cell_type": "code",
   "source": [
    "transformed_data = load_pickle('results/dataset2/experiment3/transformed_data.pkl')\n",
    "results = evaluate_clustering(transformed_data, y_train, optimal_combinations)\n",
    "\n",
    "results"
   ],
   "id": "74dbb88e995e16fe",
   "outputs": [
    {
     "data": {
      "text/plain": [
       "{'ica_kmeans': {'metrics': {'adjusted_rand': 0.004989518574043607,\n",
       "   'normalized_mutual_info': np.float64(0.009313430227058231),\n",
       "   'adjusted_mutual_info': np.float64(0.008901283402351216),\n",
       "   'homogeneity': np.float64(0.008273861193597298),\n",
       "   'completeness': np.float64(0.010651771760000447),\n",
       "   'v_measure': np.float64(0.00931343022705823)},\n",
       "  'composition': col_0          0          1\n",
       "  row_0                      \n",
       "  0      51.525199  48.474801\n",
       "  1      38.839286  61.160714},\n",
       " 'pca_kmeans': {'metrics': {'adjusted_rand': 0.0008325987914871675,\n",
       "   'normalized_mutual_info': np.float64(0.0016507411041766454),\n",
       "   'adjusted_mutual_info': np.float64(0.0007595338577092207),\n",
       "   'homogeneity': np.float64(0.0027360302425331793),\n",
       "   'completeness': np.float64(0.0011819157556436305),\n",
       "   'v_measure': np.float64(0.0016507411041766457)},\n",
       "  'composition': col_0          0          1\n",
       "  row_0                      \n",
       "  0      45.413870  54.586130\n",
       "  1      46.118721  53.881279\n",
       "  2      50.000000  50.000000\n",
       "  3      53.994490  46.005510\n",
       "  4      48.882682  51.117318},\n",
       " 'rp_kmeans': {'metrics': {'adjusted_rand': 0.0009099850763648312,\n",
       "   'normalized_mutual_info': np.float64(0.0017431164138971137),\n",
       "   'adjusted_mutual_info': np.float64(0.0008519735026145157),\n",
       "   'homogeneity': np.float64(0.0028890800385926057),\n",
       "   'completeness': np.float64(0.0012480665035058164),\n",
       "   'v_measure': np.float64(0.0017431164138971135)},\n",
       "  'composition': col_0          0          1\n",
       "  row_0                      \n",
       "  0      45.413870  54.586130\n",
       "  1      50.432277  49.567723\n",
       "  2      46.118721  53.881279\n",
       "  3      48.342541  51.657459\n",
       "  4      54.143646  45.856354},\n",
       " 'ica_em': {'metrics': {'adjusted_rand': 0.0046952667769833405,\n",
       "   'normalized_mutual_info': np.float64(0.008294689446621031),\n",
       "   'adjusted_mutual_info': np.float64(0.007887320108639285),\n",
       "   'homogeneity': np.float64(0.007462463362955393),\n",
       "   'completeness': np.float64(0.00933583724007128)},\n",
       "  'composition': col_0          0          1\n",
       "  row_0                      \n",
       "  0      51.484480  48.515520\n",
       "  1      39.662447  60.337553},\n",
       " 'pca_em': {'metrics': {'adjusted_rand': 0.0007791991349480917,\n",
       "   'normalized_mutual_info': np.float64(0.0015603491562359475),\n",
       "   'adjusted_mutual_info': np.float64(0.00066894413599804),\n",
       "   'homogeneity': np.float64(0.0025858727401395784),\n",
       "   'completeness': np.float64(0.0011172588068907978)},\n",
       "  'composition': col_0          0          1\n",
       "  row_0                      \n",
       "  0      45.211581  54.788419\n",
       "  1      46.118721  53.881279\n",
       "  2      50.143266  49.856734\n",
       "  3      53.405995  46.594005\n",
       "  4      49.575071  50.424929},\n",
       " 'rp_em': {'metrics': {'adjusted_rand': 0.0009099850763648312,\n",
       "   'normalized_mutual_info': np.float64(0.0017431164138971137),\n",
       "   'adjusted_mutual_info': np.float64(0.0008519735026145157),\n",
       "   'homogeneity': np.float64(0.0028890800385926057),\n",
       "   'completeness': np.float64(0.0012480665035058164)},\n",
       "  'composition': col_0          0          1\n",
       "  row_0                      \n",
       "  0      45.413870  54.586130\n",
       "  1      50.432277  49.567723\n",
       "  2      46.118721  53.881279\n",
       "  3      48.342541  51.657459\n",
       "  4      54.143646  45.856354}}"
      ]
     },
     "execution_count": 33,
     "metadata": {},
     "output_type": "execute_result"
    }
   ],
   "execution_count": 33
  },
  {
   "metadata": {},
   "cell_type": "code",
   "outputs": [],
   "execution_count": null,
   "source": "",
   "id": "736c5ffc457c4e51"
  }
 ],
 "metadata": {
  "kernelspec": {
   "display_name": "Python (unsupervised)",
   "language": "python",
   "name": "unsupervised"
  },
  "language_info": {
   "codemirror_mode": {
    "name": "ipython",
    "version": 2
   },
   "file_extension": ".py",
   "mimetype": "text/x-python",
   "name": "python",
   "nbconvert_exporter": "python",
   "pygments_lexer": "ipython2",
   "version": "2.7.6"
  }
 },
 "nbformat": 4,
 "nbformat_minor": 5
}
