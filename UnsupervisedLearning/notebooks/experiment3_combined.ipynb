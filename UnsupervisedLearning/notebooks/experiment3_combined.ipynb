{
 "cells": [
  {
   "cell_type": "code",
   "id": "initial_id",
   "metadata": {
    "collapsed": true,
    "ExecuteTime": {
     "end_time": "2024-10-31T08:35:45.365870Z",
     "start_time": "2024-10-31T08:35:45.361875Z"
    }
   },
   "source": [
    "import os\n",
    "os.chdir('..')\n",
    "print(os.getcwd())"
   ],
   "outputs": [
    {
     "name": "stdout",
     "output_type": "stream",
     "text": [
      "/Users/Placebo/OMSCS/CS7641-ML/MachineLearningProjects/UnsupervisedLearning\n"
     ]
    }
   ],
   "execution_count": 1
  },
  {
   "metadata": {
    "ExecuteTime": {
     "end_time": "2024-10-31T08:35:45.592196Z",
     "start_time": "2024-10-31T08:35:45.384356Z"
    }
   },
   "cell_type": "code",
   "source": [
    "import pandas as pd\n",
    "import numpy as np"
   ],
   "id": "5661b822db4b244e",
   "outputs": [],
   "execution_count": 2
  },
  {
   "metadata": {
    "ExecuteTime": {
     "end_time": "2024-10-31T08:35:46.160599Z",
     "start_time": "2024-10-31T08:35:45.663988Z"
    }
   },
   "cell_type": "code",
   "source": [
    "%load_ext autoreload\n",
    "%autoreload 2\n",
    "from src.experiments.experiment3_combined import CombinedExperiment\n",
    "from src.utils.data_loader import load_processed_data, save_csv, save_pickle, load_pickle\n",
    "from src.utils.evaluation import find_elbow_indice"
   ],
   "id": "502854ced667ce0e",
   "outputs": [],
   "execution_count": 3
  },
  {
   "metadata": {},
   "cell_type": "markdown",
   "source": "# Dataset 1",
   "id": "1ca197f582f3f973"
  },
  {
   "metadata": {
    "ExecuteTime": {
     "end_time": "2024-10-31T08:35:46.184563Z",
     "start_time": "2024-10-31T08:35:46.166721Z"
    }
   },
   "cell_type": "code",
   "source": [
    "dataset = 'dataset1'\n",
    "experiment_name = 'experiment3'\n",
    "X_train, X_test,y_train, y_test = load_processed_data(f'data/{dataset}')\n",
    "X_train = np.concatenate((X_train, X_test), axis=0)\n",
    "y_train = np.concatenate((y_train, y_test), axis=0)\n",
    "n_features = X_train.shape[1]\n",
    "print(f\"Number of features: {n_features}\")"
   ],
   "id": "a889ebda054084af",
   "outputs": [
    {
     "name": "stdout",
     "output_type": "stream",
     "text": [
      "Number of features: 30\n"
     ]
    }
   ],
   "execution_count": 4
  },
  {
   "metadata": {},
   "cell_type": "markdown",
   "source": "## Understand the optimal number of components from Experiment 2",
   "id": "d3dc0f95e59a45e0"
  },
  {
   "metadata": {
    "ExecuteTime": {
     "end_time": "2024-10-31T08:35:46.277809Z",
     "start_time": "2024-10-31T08:35:46.260267Z"
    }
   },
   "cell_type": "code",
   "source": [
    "# PCA\n",
    "pca_metrics = load_pickle('results/dataset1/experiment2/pca_metrics.pkl')\n",
    "# find the number of components that explains 95% of the variance\n",
    "explained_variance = pca_metrics['cumulative_explained_variance'][0]\n",
    "idx = np.where(explained_variance >= 0.95)\n",
    "idx = idx[0][0]\n",
    "print(f\"Number of components that explains 95% of the variance: {idx}\")\n",
    "\n",
    "# ICA: find the elbow point of the kurtosis\n",
    "ica_metrics = load_pickle('results/dataset1/experiment2/ica_metrics.pkl')\n",
    "abs_mean_kurtosis = ica_metrics['abs_mean_kurtosis']\n",
    "idx = find_elbow_indice(abs_mean_kurtosis)\n",
    "print(f\"Number of components that explains the elbow point of the kurtosis: {idx}\")\n",
    "\n",
    "# RP: find the elbow point of the reconstruction error\n",
    "rp_metrics = load_pickle('results/dataset1/experiment2/rp_metrics.pkl')\n",
    "reconstruction_error = rp_metrics['reconstruction_error_mean']\n",
    "idx = find_elbow_indice(reconstruction_error)\n",
    "print(f\"Number of components that explains the elbow point of the reconstruction error: {idx}\")"
   ],
   "id": "aebcd2a00a70a332",
   "outputs": [
    {
     "name": "stdout",
     "output_type": "stream",
     "text": [
      "Number of components that explains 95% of the variance: 10\n",
      "Number of components that explains the elbow point of the kurtosis: 18\n",
      "Number of components that explains the elbow point of the reconstruction error: 15\n"
     ]
    }
   ],
   "execution_count": 5
  },
  {
   "metadata": {},
   "cell_type": "markdown",
   "source": "## Run Experiment",
   "id": "a551996af6a36c91"
  },
  {
   "metadata": {
    "jupyter": {
     "is_executing": true
    },
    "ExecuteTime": {
     "start_time": "2024-10-31T08:35:46.287678Z"
    }
   },
   "cell_type": "code",
   "source": [
    "combined_experiment = CombinedExperiment()\n",
    "kmeans_metrics, em_metrics, transformed_data = combined_experiment.run_combined_analyis(\n",
    "    X = X_train,\n",
    "    dr_components=[10, 12, 14, 16, 18, 20],\n",
    "    k_range = [2, 3, 4, 5, 6, 7, 8, 9, 10]\n",
    ")\n"
   ],
   "id": "6462b99cee8edcf0",
   "outputs": [],
   "execution_count": null
  },
  {
   "metadata": {
    "ExecuteTime": {
     "end_time": "2024-10-31T08:35:43.490237Z",
     "start_time": "2024-10-31T08:32:32.345637Z"
    }
   },
   "cell_type": "code",
   "source": [
    "# save\n",
    "save_csv(kmeans_metrics, f'results/{dataset}/{experiment_name}', 'kmeans_metrics')\n",
    "save_csv(em_metrics, f'results/{dataset}/{experiment_name}', 'em_metrics')\n",
    "save_pickle(transformed_data, f'results/{dataset}/{experiment_name}', 'transformed_data.pkl')"
   ],
   "id": "ad9aedb272270b26",
   "outputs": [
    {
     "name": "stdout",
     "output_type": "stream",
     "text": [
      "Dataframe saved at results/dataset1/experiment3/kmeans_metrics.csv\n",
      "Dataframe saved at results/dataset1/experiment3/em_metrics.csv\n",
      "Data saved at results/dataset1/experiment3/transformed_data.pkl.pkl\n"
     ]
    }
   ],
   "execution_count": 24
  },
  {
   "metadata": {},
   "cell_type": "markdown",
   "source": "# Dataset 2",
   "id": "7060337f860e58b"
  },
  {
   "metadata": {
    "ExecuteTime": {
     "end_time": "2024-10-31T08:35:43.490272Z",
     "start_time": "2024-10-31T08:33:25.941524Z"
    }
   },
   "cell_type": "code",
   "source": [
    "dataset = 'dataset2'\n",
    "experiment_name = 'experiment3'\n",
    "X_train, X_test,y_train, y_test = load_processed_data(f'data/{dataset}')\n",
    "X_train = np.concatenate((X_train, X_test), axis=0)\n",
    "y_train = np.concatenate((y_train, y_test), axis=0)\n",
    "n_features = X_train.shape[1]\n",
    "print(f\"Number of features: {n_features}\")"
   ],
   "id": "537341b982fa5d5a",
   "outputs": [
    {
     "name": "stdout",
     "output_type": "stream",
     "text": [
      "Number of features: 384\n"
     ]
    }
   ],
   "execution_count": 25
  },
  {
   "metadata": {},
   "cell_type": "markdown",
   "source": "## Understand the optimal number of components from Experiment 2",
   "id": "f226656992394fb0"
  },
  {
   "metadata": {
    "ExecuteTime": {
     "end_time": "2024-10-31T08:35:43.490308Z",
     "start_time": "2024-10-31T08:33:59.714575Z"
    }
   },
   "cell_type": "code",
   "source": [
    "# pca\n",
    "pca_metrics = load_pickle('results/dataset2/experiment2/pca_metrics.pkl')\n",
    "explained_variance = pca_metrics['cumulative_explained_variance'][0]\n",
    "idx = np.where(explained_variance >= 0.95)\n",
    "idx = idx[0][0]\n",
    "print(f\"Number of components that explains 95% of the variance: {idx}\")\n",
    "\n",
    "# ICA: find the elbow point of the kurtosis\n",
    "ica_metrics = load_pickle('results/dataset2/experiment2/ica_metrics.pkl')\n",
    "abs_mean_kurtosis = ica_metrics['abs_mean_kurtosis']\n",
    "idx = find_elbow_indice(abs_mean_kurtosis)\n",
    "print(f\"Number of components that explains the elbow point of the kurtosis: {idx}\")\n",
    "\n",
    "# RP: find the elbow point of the reconstruction error\n",
    "rp_metrics = load_pickle('results/dataset2/experiment2/rp_metrics.pkl')\n",
    "reconstruction_error = rp_metrics['reconstruction_error_mean']\n",
    "idx = find_elbow_indice(reconstruction_error)\n",
    "print(f\"Number of components that explains the elbow point of the reconstruction error: {idx}\")"
   ],
   "id": "f246db08c2e9e88",
   "outputs": [
    {
     "name": "stdout",
     "output_type": "stream",
     "text": [
      "Number of components that explains 95% of the variance: 145\n",
      "Number of components that explains the elbow point of the kurtosis: 7\n",
      "Number of components that explains the elbow point of the reconstruction error: 27\n"
     ]
    }
   ],
   "execution_count": 26
  },
  {
   "metadata": {
    "ExecuteTime": {
     "end_time": "2024-10-31T08:35:43.486542Z",
     "start_time": "2024-10-31T08:35:30.530995Z"
    }
   },
   "cell_type": "code",
   "source": [
    "combined_experiment = CombinedExperiment()\n",
    "n_components_range = np.arange(100, 300, 20)\n",
    "kmeans_metrics, em_metrics, transformed_data = combined_experiment.run_combined_analyis(\n",
    "    X = X_train,\n",
    "    dr_components=n_components_range,\n",
    "    k_range = [2, 3, 4, 5, 6, 7, 8, 9, 10]\n",
    ")\n",
    "\n",
    "# save\n",
    "save_csv(kmeans_metrics, f'results/{dataset}/{experiment_name}', 'kmeans_metrics')\n",
    "save_csv(em_metrics, f'results/{dataset}/{experiment_name}', 'em_metrics')\n",
    "save_pickle(transformed_data, f'results/{dataset}/{experiment_name}', 'transformed_data.pkl')\n"
   ],
   "id": "9a19760849b0a967",
   "outputs": [
    {
     "ename": "KeyboardInterrupt",
     "evalue": "",
     "output_type": "error",
     "traceback": [
      "\u001B[0;31m---------------------------------------------------------------------------\u001B[0m",
      "\u001B[0;31mKeyboardInterrupt\u001B[0m                         Traceback (most recent call last)",
      "Cell \u001B[0;32mIn[27], line 3\u001B[0m\n\u001B[1;32m      1\u001B[0m combined_experiment \u001B[38;5;241m=\u001B[39m CombinedExperiment()\n\u001B[1;32m      2\u001B[0m n_components_range \u001B[38;5;241m=\u001B[39m np\u001B[38;5;241m.\u001B[39marange(\u001B[38;5;241m100\u001B[39m, \u001B[38;5;241m300\u001B[39m, \u001B[38;5;241m20\u001B[39m)\n\u001B[0;32m----> 3\u001B[0m kmeans_metrics, em_metrics, transformed_data \u001B[38;5;241m=\u001B[39m \u001B[43mcombined_experiment\u001B[49m\u001B[38;5;241;43m.\u001B[39;49m\u001B[43mrun_combined_analyis\u001B[49m\u001B[43m(\u001B[49m\n\u001B[1;32m      4\u001B[0m \u001B[43m    \u001B[49m\u001B[43mX\u001B[49m\u001B[43m \u001B[49m\u001B[38;5;241;43m=\u001B[39;49m\u001B[43m \u001B[49m\u001B[43mX_train\u001B[49m\u001B[43m,\u001B[49m\n\u001B[1;32m      5\u001B[0m \u001B[43m    \u001B[49m\u001B[43mdr_components\u001B[49m\u001B[38;5;241;43m=\u001B[39;49m\u001B[43mn_components_range\u001B[49m\u001B[43m,\u001B[49m\n\u001B[1;32m      6\u001B[0m \u001B[43m    \u001B[49m\u001B[43mk_range\u001B[49m\u001B[43m \u001B[49m\u001B[38;5;241;43m=\u001B[39;49m\u001B[43m \u001B[49m\u001B[43m[\u001B[49m\u001B[38;5;241;43m2\u001B[39;49m\u001B[43m,\u001B[49m\u001B[43m \u001B[49m\u001B[38;5;241;43m3\u001B[39;49m\u001B[43m,\u001B[49m\u001B[43m \u001B[49m\u001B[38;5;241;43m4\u001B[39;49m\u001B[43m,\u001B[49m\u001B[43m \u001B[49m\u001B[38;5;241;43m5\u001B[39;49m\u001B[43m,\u001B[49m\u001B[43m \u001B[49m\u001B[38;5;241;43m6\u001B[39;49m\u001B[43m,\u001B[49m\u001B[43m \u001B[49m\u001B[38;5;241;43m7\u001B[39;49m\u001B[43m,\u001B[49m\u001B[43m \u001B[49m\u001B[38;5;241;43m8\u001B[39;49m\u001B[43m,\u001B[49m\u001B[43m \u001B[49m\u001B[38;5;241;43m9\u001B[39;49m\u001B[43m,\u001B[49m\u001B[43m \u001B[49m\u001B[38;5;241;43m10\u001B[39;49m\u001B[43m]\u001B[49m\n\u001B[1;32m      7\u001B[0m \u001B[43m)\u001B[49m\n\u001B[1;32m      9\u001B[0m \u001B[38;5;66;03m# save\u001B[39;00m\n\u001B[1;32m     10\u001B[0m save_csv(kmeans_metrics, \u001B[38;5;124mf\u001B[39m\u001B[38;5;124m'\u001B[39m\u001B[38;5;124mresults/\u001B[39m\u001B[38;5;132;01m{\u001B[39;00mdataset\u001B[38;5;132;01m}\u001B[39;00m\u001B[38;5;124m/\u001B[39m\u001B[38;5;132;01m{\u001B[39;00mexperiment_name\u001B[38;5;132;01m}\u001B[39;00m\u001B[38;5;124m'\u001B[39m, \u001B[38;5;124m'\u001B[39m\u001B[38;5;124mkmeans_metrics\u001B[39m\u001B[38;5;124m'\u001B[39m)\n",
      "File \u001B[0;32m~/OMSCS/CS7641-ML/MachineLearningProjects/UnsupervisedLearning/src/experiments/experiment3_combined.py:66\u001B[0m, in \u001B[0;36mCombinedExperiment.run_combined_analyis\u001B[0;34m(self, X, dr_components, k_range)\u001B[0m\n\u001B[1;32m     63\u001B[0m transformed_data[dr_method][n_component] \u001B[38;5;241m=\u001B[39m X_transformed\n\u001B[1;32m     65\u001B[0m \u001B[38;5;66;03m# run clustering analysis\u001B[39;00m\n\u001B[0;32m---> 66\u001B[0m kmeans_metrics, em_metrics \u001B[38;5;241m=\u001B[39m \u001B[38;5;28;43mself\u001B[39;49m\u001B[38;5;241;43m.\u001B[39;49m\u001B[43mclustering\u001B[49m\u001B[38;5;241;43m.\u001B[39;49m\u001B[43mrun_clustering_analysis\u001B[49m\u001B[43m(\u001B[49m\u001B[43mX_transformed\u001B[49m\u001B[43m,\u001B[49m\u001B[43m \u001B[49m\u001B[43mk_range\u001B[49m\u001B[43m)\u001B[49m\n\u001B[1;32m     68\u001B[0m kmeans_metrics[\u001B[38;5;124m'\u001B[39m\u001B[38;5;124mmethod\u001B[39m\u001B[38;5;124m'\u001B[39m] \u001B[38;5;241m=\u001B[39m dr_method\n\u001B[1;32m     69\u001B[0m kmeans_metrics[\u001B[38;5;124m'\u001B[39m\u001B[38;5;124mn_components\u001B[39m\u001B[38;5;124m'\u001B[39m] \u001B[38;5;241m=\u001B[39m n_component\n",
      "File \u001B[0;32m~/OMSCS/CS7641-ML/MachineLearningProjects/UnsupervisedLearning/src/experiments/experiment1_clustering.py:39\u001B[0m, in \u001B[0;36mClusteringExperiment.run_clustering_analysis\u001B[0;34m(self, X, k_range)\u001B[0m\n\u001B[1;32m     36\u001B[0m kmeans_metircs[\u001B[38;5;124m'\u001B[39m\u001B[38;5;124mcalinski_harabasz_score\u001B[39m\u001B[38;5;124m'\u001B[39m]\u001B[38;5;241m.\u001B[39mappend(kmeans_metrics[\u001B[38;5;124m'\u001B[39m\u001B[38;5;124mcalinski_harabasz_score\u001B[39m\u001B[38;5;124m'\u001B[39m])\n\u001B[1;32m     38\u001B[0m \u001B[38;5;66;03m# EM\u001B[39;00m\n\u001B[0;32m---> 39\u001B[0m em_labels \u001B[38;5;241m=\u001B[39m \u001B[38;5;28;43mself\u001B[39;49m\u001B[38;5;241;43m.\u001B[39;49m\u001B[43mem\u001B[49m\u001B[38;5;241;43m.\u001B[39;49m\u001B[43mfit\u001B[49m\u001B[43m(\u001B[49m\u001B[43mX\u001B[49m\u001B[43m,\u001B[49m\u001B[43m \u001B[49m\u001B[43mk\u001B[49m\u001B[43m)\u001B[49m\n\u001B[1;32m     40\u001B[0m em_metrics \u001B[38;5;241m=\u001B[39m \u001B[38;5;28mself\u001B[39m\u001B[38;5;241m.\u001B[39mem\u001B[38;5;241m.\u001B[39mget_metrics(X, em_labels)\n\u001B[1;32m     41\u001B[0m em_metircs[\u001B[38;5;124m'\u001B[39m\u001B[38;5;124mbic\u001B[39m\u001B[38;5;124m'\u001B[39m]\u001B[38;5;241m.\u001B[39mappend(em_metrics[\u001B[38;5;124m'\u001B[39m\u001B[38;5;124mbic\u001B[39m\u001B[38;5;124m'\u001B[39m])\n",
      "File \u001B[0;32m~/OMSCS/CS7641-ML/MachineLearningProjects/UnsupervisedLearning/src/clustering/em.py:23\u001B[0m, in \u001B[0;36mEMCluster.fit\u001B[0;34m(self, X, n_cluster)\u001B[0m\n\u001B[1;32m     21\u001B[0m \u001B[38;5;250m\u001B[39m\u001B[38;5;124;03m\"\"\"Fit the KMeans model to the data.\"\"\"\u001B[39;00m\n\u001B[1;32m     22\u001B[0m \u001B[38;5;28mself\u001B[39m\u001B[38;5;241m.\u001B[39mmodel \u001B[38;5;241m=\u001B[39m GaussianMixture(n_components\u001B[38;5;241m=\u001B[39mn_cluster, random_state\u001B[38;5;241m=\u001B[39m\u001B[38;5;28mself\u001B[39m\u001B[38;5;241m.\u001B[39mrandom_state)\n\u001B[0;32m---> 23\u001B[0m \u001B[38;5;28;01mreturn\u001B[39;00m \u001B[38;5;28;43mself\u001B[39;49m\u001B[38;5;241;43m.\u001B[39;49m\u001B[43mmodel\u001B[49m\u001B[38;5;241;43m.\u001B[39;49m\u001B[43mfit_predict\u001B[49m\u001B[43m(\u001B[49m\u001B[43mX\u001B[49m\u001B[43m)\u001B[49m\n",
      "File \u001B[0;32m~/anaconda3/envs/unsupervised/lib/python3.10/site-packages/sklearn/base.py:1473\u001B[0m, in \u001B[0;36m_fit_context.<locals>.decorator.<locals>.wrapper\u001B[0;34m(estimator, *args, **kwargs)\u001B[0m\n\u001B[1;32m   1466\u001B[0m     estimator\u001B[38;5;241m.\u001B[39m_validate_params()\n\u001B[1;32m   1468\u001B[0m \u001B[38;5;28;01mwith\u001B[39;00m config_context(\n\u001B[1;32m   1469\u001B[0m     skip_parameter_validation\u001B[38;5;241m=\u001B[39m(\n\u001B[1;32m   1470\u001B[0m         prefer_skip_nested_validation \u001B[38;5;129;01mor\u001B[39;00m global_skip_validation\n\u001B[1;32m   1471\u001B[0m     )\n\u001B[1;32m   1472\u001B[0m ):\n\u001B[0;32m-> 1473\u001B[0m     \u001B[38;5;28;01mreturn\u001B[39;00m \u001B[43mfit_method\u001B[49m\u001B[43m(\u001B[49m\u001B[43mestimator\u001B[49m\u001B[43m,\u001B[49m\u001B[43m \u001B[49m\u001B[38;5;241;43m*\u001B[39;49m\u001B[43margs\u001B[49m\u001B[43m,\u001B[49m\u001B[43m \u001B[49m\u001B[38;5;241;43m*\u001B[39;49m\u001B[38;5;241;43m*\u001B[39;49m\u001B[43mkwargs\u001B[49m\u001B[43m)\u001B[49m\n",
      "File \u001B[0;32m~/anaconda3/envs/unsupervised/lib/python3.10/site-packages/sklearn/mixture/_base.py:235\u001B[0m, in \u001B[0;36mBaseMixture.fit_predict\u001B[0;34m(self, X, y)\u001B[0m\n\u001B[1;32m    232\u001B[0m \u001B[38;5;28mself\u001B[39m\u001B[38;5;241m.\u001B[39m_print_verbose_msg_init_beg(init)\n\u001B[1;32m    234\u001B[0m \u001B[38;5;28;01mif\u001B[39;00m do_init:\n\u001B[0;32m--> 235\u001B[0m     \u001B[38;5;28;43mself\u001B[39;49m\u001B[38;5;241;43m.\u001B[39;49m\u001B[43m_initialize_parameters\u001B[49m\u001B[43m(\u001B[49m\u001B[43mX\u001B[49m\u001B[43m,\u001B[49m\u001B[43m \u001B[49m\u001B[43mrandom_state\u001B[49m\u001B[43m)\u001B[49m\n\u001B[1;32m    237\u001B[0m lower_bound \u001B[38;5;241m=\u001B[39m \u001B[38;5;241m-\u001B[39mnp\u001B[38;5;241m.\u001B[39minf \u001B[38;5;28;01mif\u001B[39;00m do_init \u001B[38;5;28;01melse\u001B[39;00m \u001B[38;5;28mself\u001B[39m\u001B[38;5;241m.\u001B[39mlower_bound_\n\u001B[1;32m    239\u001B[0m \u001B[38;5;28;01mif\u001B[39;00m \u001B[38;5;28mself\u001B[39m\u001B[38;5;241m.\u001B[39mmax_iter \u001B[38;5;241m==\u001B[39m \u001B[38;5;241m0\u001B[39m:\n",
      "File \u001B[0;32m~/anaconda3/envs/unsupervised/lib/python3.10/site-packages/sklearn/mixture/_gaussian_mixture.py:766\u001B[0m, in \u001B[0;36mGaussianMixture._initialize_parameters\u001B[0;34m(self, X, random_state)\u001B[0m\n\u001B[1;32m    760\u001B[0m compute_resp \u001B[38;5;241m=\u001B[39m (\n\u001B[1;32m    761\u001B[0m     \u001B[38;5;28mself\u001B[39m\u001B[38;5;241m.\u001B[39mweights_init \u001B[38;5;129;01mis\u001B[39;00m \u001B[38;5;28;01mNone\u001B[39;00m\n\u001B[1;32m    762\u001B[0m     \u001B[38;5;129;01mor\u001B[39;00m \u001B[38;5;28mself\u001B[39m\u001B[38;5;241m.\u001B[39mmeans_init \u001B[38;5;129;01mis\u001B[39;00m \u001B[38;5;28;01mNone\u001B[39;00m\n\u001B[1;32m    763\u001B[0m     \u001B[38;5;129;01mor\u001B[39;00m \u001B[38;5;28mself\u001B[39m\u001B[38;5;241m.\u001B[39mprecisions_init \u001B[38;5;129;01mis\u001B[39;00m \u001B[38;5;28;01mNone\u001B[39;00m\n\u001B[1;32m    764\u001B[0m )\n\u001B[1;32m    765\u001B[0m \u001B[38;5;28;01mif\u001B[39;00m compute_resp:\n\u001B[0;32m--> 766\u001B[0m     \u001B[38;5;28;43msuper\u001B[39;49m\u001B[43m(\u001B[49m\u001B[43m)\u001B[49m\u001B[38;5;241;43m.\u001B[39;49m\u001B[43m_initialize_parameters\u001B[49m\u001B[43m(\u001B[49m\u001B[43mX\u001B[49m\u001B[43m,\u001B[49m\u001B[43m \u001B[49m\u001B[43mrandom_state\u001B[49m\u001B[43m)\u001B[49m\n\u001B[1;32m    767\u001B[0m \u001B[38;5;28;01melse\u001B[39;00m:\n\u001B[1;32m    768\u001B[0m     \u001B[38;5;28mself\u001B[39m\u001B[38;5;241m.\u001B[39m_initialize(X, \u001B[38;5;28;01mNone\u001B[39;00m)\n",
      "File \u001B[0;32m~/anaconda3/envs/unsupervised/lib/python3.10/site-packages/sklearn/mixture/_base.py:140\u001B[0m, in \u001B[0;36mBaseMixture._initialize_parameters\u001B[0;34m(self, X, random_state)\u001B[0m\n\u001B[1;32m    133\u001B[0m     _, indices \u001B[38;5;241m=\u001B[39m kmeans_plusplus(\n\u001B[1;32m    134\u001B[0m         X,\n\u001B[1;32m    135\u001B[0m         \u001B[38;5;28mself\u001B[39m\u001B[38;5;241m.\u001B[39mn_components,\n\u001B[1;32m    136\u001B[0m         random_state\u001B[38;5;241m=\u001B[39mrandom_state,\n\u001B[1;32m    137\u001B[0m     )\n\u001B[1;32m    138\u001B[0m     resp[indices, np\u001B[38;5;241m.\u001B[39marange(\u001B[38;5;28mself\u001B[39m\u001B[38;5;241m.\u001B[39mn_components)] \u001B[38;5;241m=\u001B[39m \u001B[38;5;241m1\u001B[39m\n\u001B[0;32m--> 140\u001B[0m \u001B[38;5;28;43mself\u001B[39;49m\u001B[38;5;241;43m.\u001B[39;49m\u001B[43m_initialize\u001B[49m\u001B[43m(\u001B[49m\u001B[43mX\u001B[49m\u001B[43m,\u001B[49m\u001B[43m \u001B[49m\u001B[43mresp\u001B[49m\u001B[43m)\u001B[49m\n",
      "File \u001B[0;32m~/anaconda3/envs/unsupervised/lib/python3.10/site-packages/sklearn/mixture/_gaussian_mixture.py:782\u001B[0m, in \u001B[0;36mGaussianMixture._initialize\u001B[0;34m(self, X, resp)\u001B[0m\n\u001B[1;32m    780\u001B[0m weights, means, covariances \u001B[38;5;241m=\u001B[39m \u001B[38;5;28;01mNone\u001B[39;00m, \u001B[38;5;28;01mNone\u001B[39;00m, \u001B[38;5;28;01mNone\u001B[39;00m\n\u001B[1;32m    781\u001B[0m \u001B[38;5;28;01mif\u001B[39;00m resp \u001B[38;5;129;01mis\u001B[39;00m \u001B[38;5;129;01mnot\u001B[39;00m \u001B[38;5;28;01mNone\u001B[39;00m:\n\u001B[0;32m--> 782\u001B[0m     weights, means, covariances \u001B[38;5;241m=\u001B[39m \u001B[43m_estimate_gaussian_parameters\u001B[49m\u001B[43m(\u001B[49m\n\u001B[1;32m    783\u001B[0m \u001B[43m        \u001B[49m\u001B[43mX\u001B[49m\u001B[43m,\u001B[49m\u001B[43m \u001B[49m\u001B[43mresp\u001B[49m\u001B[43m,\u001B[49m\u001B[43m \u001B[49m\u001B[38;5;28;43mself\u001B[39;49m\u001B[38;5;241;43m.\u001B[39;49m\u001B[43mreg_covar\u001B[49m\u001B[43m,\u001B[49m\u001B[43m \u001B[49m\u001B[38;5;28;43mself\u001B[39;49m\u001B[38;5;241;43m.\u001B[39;49m\u001B[43mcovariance_type\u001B[49m\n\u001B[1;32m    784\u001B[0m \u001B[43m    \u001B[49m\u001B[43m)\u001B[49m\n\u001B[1;32m    785\u001B[0m     \u001B[38;5;28;01mif\u001B[39;00m \u001B[38;5;28mself\u001B[39m\u001B[38;5;241m.\u001B[39mweights_init \u001B[38;5;129;01mis\u001B[39;00m \u001B[38;5;28;01mNone\u001B[39;00m:\n\u001B[1;32m    786\u001B[0m         weights \u001B[38;5;241m/\u001B[39m\u001B[38;5;241m=\u001B[39m n_samples\n",
      "File \u001B[0;32m~/anaconda3/envs/unsupervised/lib/python3.10/site-packages/sklearn/mixture/_gaussian_mixture.py:290\u001B[0m, in \u001B[0;36m_estimate_gaussian_parameters\u001B[0;34m(X, resp, reg_covar, covariance_type)\u001B[0m\n\u001B[1;32m    288\u001B[0m nk \u001B[38;5;241m=\u001B[39m resp\u001B[38;5;241m.\u001B[39msum(axis\u001B[38;5;241m=\u001B[39m\u001B[38;5;241m0\u001B[39m) \u001B[38;5;241m+\u001B[39m \u001B[38;5;241m10\u001B[39m \u001B[38;5;241m*\u001B[39m np\u001B[38;5;241m.\u001B[39mfinfo(resp\u001B[38;5;241m.\u001B[39mdtype)\u001B[38;5;241m.\u001B[39meps\n\u001B[1;32m    289\u001B[0m means \u001B[38;5;241m=\u001B[39m np\u001B[38;5;241m.\u001B[39mdot(resp\u001B[38;5;241m.\u001B[39mT, X) \u001B[38;5;241m/\u001B[39m nk[:, np\u001B[38;5;241m.\u001B[39mnewaxis]\n\u001B[0;32m--> 290\u001B[0m covariances \u001B[38;5;241m=\u001B[39m \u001B[43m{\u001B[49m\n\u001B[1;32m    291\u001B[0m \u001B[43m    \u001B[49m\u001B[38;5;124;43m\"\u001B[39;49m\u001B[38;5;124;43mfull\u001B[39;49m\u001B[38;5;124;43m\"\u001B[39;49m\u001B[43m:\u001B[49m\u001B[43m \u001B[49m\u001B[43m_estimate_gaussian_covariances_full\u001B[49m\u001B[43m,\u001B[49m\n\u001B[1;32m    292\u001B[0m \u001B[43m    \u001B[49m\u001B[38;5;124;43m\"\u001B[39;49m\u001B[38;5;124;43mtied\u001B[39;49m\u001B[38;5;124;43m\"\u001B[39;49m\u001B[43m:\u001B[49m\u001B[43m \u001B[49m\u001B[43m_estimate_gaussian_covariances_tied\u001B[49m\u001B[43m,\u001B[49m\n\u001B[1;32m    293\u001B[0m \u001B[43m    \u001B[49m\u001B[38;5;124;43m\"\u001B[39;49m\u001B[38;5;124;43mdiag\u001B[39;49m\u001B[38;5;124;43m\"\u001B[39;49m\u001B[43m:\u001B[49m\u001B[43m \u001B[49m\u001B[43m_estimate_gaussian_covariances_diag\u001B[49m\u001B[43m,\u001B[49m\n\u001B[1;32m    294\u001B[0m \u001B[43m    \u001B[49m\u001B[38;5;124;43m\"\u001B[39;49m\u001B[38;5;124;43mspherical\u001B[39;49m\u001B[38;5;124;43m\"\u001B[39;49m\u001B[43m:\u001B[49m\u001B[43m \u001B[49m\u001B[43m_estimate_gaussian_covariances_spherical\u001B[49m\u001B[43m,\u001B[49m\n\u001B[1;32m    295\u001B[0m \u001B[43m\u001B[49m\u001B[43m}\u001B[49m\u001B[43m[\u001B[49m\u001B[43mcovariance_type\u001B[49m\u001B[43m]\u001B[49m\u001B[43m(\u001B[49m\u001B[43mresp\u001B[49m\u001B[43m,\u001B[49m\u001B[43m \u001B[49m\u001B[43mX\u001B[49m\u001B[43m,\u001B[49m\u001B[43m \u001B[49m\u001B[43mnk\u001B[49m\u001B[43m,\u001B[49m\u001B[43m \u001B[49m\u001B[43mmeans\u001B[49m\u001B[43m,\u001B[49m\u001B[43m \u001B[49m\u001B[43mreg_covar\u001B[49m\u001B[43m)\u001B[49m\n\u001B[1;32m    296\u001B[0m \u001B[38;5;28;01mreturn\u001B[39;00m nk, means, covariances\n",
      "File \u001B[0;32m~/anaconda3/envs/unsupervised/lib/python3.10/site-packages/sklearn/mixture/_gaussian_mixture.py:177\u001B[0m, in \u001B[0;36m_estimate_gaussian_covariances_full\u001B[0;34m(resp, X, nk, means, reg_covar)\u001B[0m\n\u001B[1;32m    175\u001B[0m \u001B[38;5;28;01mfor\u001B[39;00m k \u001B[38;5;129;01min\u001B[39;00m \u001B[38;5;28mrange\u001B[39m(n_components):\n\u001B[1;32m    176\u001B[0m     diff \u001B[38;5;241m=\u001B[39m X \u001B[38;5;241m-\u001B[39m means[k]\n\u001B[0;32m--> 177\u001B[0m     covariances[k] \u001B[38;5;241m=\u001B[39m \u001B[43mnp\u001B[49m\u001B[38;5;241;43m.\u001B[39;49m\u001B[43mdot\u001B[49m\u001B[43m(\u001B[49m\u001B[43mresp\u001B[49m\u001B[43m[\u001B[49m\u001B[43m:\u001B[49m\u001B[43m,\u001B[49m\u001B[43m \u001B[49m\u001B[43mk\u001B[49m\u001B[43m]\u001B[49m\u001B[43m \u001B[49m\u001B[38;5;241;43m*\u001B[39;49m\u001B[43m \u001B[49m\u001B[43mdiff\u001B[49m\u001B[38;5;241;43m.\u001B[39;49m\u001B[43mT\u001B[49m\u001B[43m,\u001B[49m\u001B[43m \u001B[49m\u001B[43mdiff\u001B[49m\u001B[43m)\u001B[49m \u001B[38;5;241m/\u001B[39m nk[k]\n\u001B[1;32m    178\u001B[0m     covariances[k]\u001B[38;5;241m.\u001B[39mflat[:: n_features \u001B[38;5;241m+\u001B[39m \u001B[38;5;241m1\u001B[39m] \u001B[38;5;241m+\u001B[39m\u001B[38;5;241m=\u001B[39m reg_covar\n\u001B[1;32m    179\u001B[0m \u001B[38;5;28;01mreturn\u001B[39;00m covariances\n",
      "File \u001B[0;32m~/anaconda3/envs/unsupervised/lib/python3.10/site-packages/numpy/_core/multiarray.py:757\u001B[0m, in \u001B[0;36mdot\u001B[0;34m(a, b, out)\u001B[0m\n\u001B[1;32m    686\u001B[0m \u001B[38;5;250m    \u001B[39m\u001B[38;5;124;03m\"\"\"\u001B[39;00m\n\u001B[1;32m    687\u001B[0m \u001B[38;5;124;03m    result_type(*arrays_and_dtypes)\u001B[39;00m\n\u001B[1;32m    688\u001B[0m \n\u001B[0;32m   (...)\u001B[0m\n\u001B[1;32m    752\u001B[0m \n\u001B[1;32m    753\u001B[0m \u001B[38;5;124;03m    \"\"\"\u001B[39;00m\n\u001B[1;32m    754\u001B[0m     \u001B[38;5;28;01mreturn\u001B[39;00m arrays_and_dtypes\n\u001B[0;32m--> 757\u001B[0m \u001B[38;5;129m@array_function_from_c_func_and_dispatcher\u001B[39m(_multiarray_umath\u001B[38;5;241m.\u001B[39mdot)\n\u001B[1;32m    758\u001B[0m \u001B[38;5;28;01mdef\u001B[39;00m \u001B[38;5;21mdot\u001B[39m(a, b, out\u001B[38;5;241m=\u001B[39m\u001B[38;5;28;01mNone\u001B[39;00m):\n\u001B[1;32m    759\u001B[0m \u001B[38;5;250m    \u001B[39m\u001B[38;5;124;03m\"\"\"\u001B[39;00m\n\u001B[1;32m    760\u001B[0m \u001B[38;5;124;03m    dot(a, b, out=None)\u001B[39;00m\n\u001B[1;32m    761\u001B[0m \n\u001B[0;32m   (...)\u001B[0m\n\u001B[1;32m    846\u001B[0m \n\u001B[1;32m    847\u001B[0m \u001B[38;5;124;03m    \"\"\"\u001B[39;00m\n\u001B[1;32m    848\u001B[0m     \u001B[38;5;28;01mreturn\u001B[39;00m (a, b, out)\n",
      "\u001B[0;31mKeyboardInterrupt\u001B[0m: "
     ]
    }
   ],
   "execution_count": 27
  }
 ],
 "metadata": {
  "kernelspec": {
   "display_name": "Python (unsupervised)",
   "language": "python",
   "name": "unsupervised"
  },
  "language_info": {
   "codemirror_mode": {
    "name": "ipython",
    "version": 2
   },
   "file_extension": ".py",
   "mimetype": "text/x-python",
   "name": "python",
   "nbconvert_exporter": "python",
   "pygments_lexer": "ipython2",
   "version": "2.7.6"
  }
 },
 "nbformat": 4,
 "nbformat_minor": 5
}
