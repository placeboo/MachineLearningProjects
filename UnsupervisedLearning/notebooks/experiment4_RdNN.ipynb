{
 "cells": [
  {
   "cell_type": "code",
   "id": "initial_id",
   "metadata": {
    "collapsed": true,
    "ExecuteTime": {
     "end_time": "2024-11-02T08:45:05.639526Z",
     "start_time": "2024-11-02T08:45:05.634506Z"
    }
   },
   "source": [
    "import os\n",
    "os.chdir('..')\n",
    "print(os.getcwd())"
   ],
   "outputs": [
    {
     "name": "stdout",
     "output_type": "stream",
     "text": [
      "/Users/Placebo/OMSCS/CS7641-ML/MachineLearningProjects/UnsupervisedLearning\n"
     ]
    }
   ],
   "execution_count": 1
  },
  {
   "metadata": {
    "ExecuteTime": {
     "end_time": "2024-11-02T08:45:05.829972Z",
     "start_time": "2024-11-02T08:45:05.643015Z"
    }
   },
   "cell_type": "code",
   "source": "import numpy as np",
   "id": "40fc994d7d25a383",
   "outputs": [],
   "execution_count": 2
  },
  {
   "metadata": {
    "ExecuteTime": {
     "end_time": "2024-11-02T08:45:06.816370Z",
     "start_time": "2024-11-02T08:45:05.865747Z"
    }
   },
   "cell_type": "code",
   "source": [
    "%load_ext autoreload\n",
    "%autoreload 2\n",
    "from src.experiments.experiment4_RdNN import ExperimentRdNN\n",
    "from src.utils.data_loader import load_processed_data"
   ],
   "id": "1fed3539734fa51f",
   "outputs": [],
   "execution_count": 3
  },
  {
   "metadata": {},
   "cell_type": "markdown",
   "source": "# Load data",
   "id": "76aaf968c95650f0"
  },
  {
   "metadata": {
    "ExecuteTime": {
     "end_time": "2024-11-02T08:45:06.840064Z",
     "start_time": "2024-11-02T08:45:06.822913Z"
    }
   },
   "cell_type": "code",
   "source": [
    "dataset = 'dataset1'\n",
    "experiment_name = 'experiment4'\n",
    "X_train, X_test,y_train, y_test = load_processed_data(f'data/{dataset}')\n",
    "X_train = np.concatenate((X_train, X_test), axis=0)\n",
    "y_train = np.concatenate((y_train, y_test), axis=0)\n",
    "print('The training data has shape: ', X_train.shape)"
   ],
   "id": "1a09a8bb41f41b08",
   "outputs": [
    {
     "name": "stdout",
     "output_type": "stream",
     "text": [
      "The training data has shape:  (41188, 30)\n"
     ]
    }
   ],
   "execution_count": 4
  },
  {
   "metadata": {},
   "cell_type": "markdown",
   "source": "# Run Experiment",
   "id": "797af438c9d26b1c"
  },
  {
   "metadata": {},
   "cell_type": "markdown",
   "source": "",
   "id": "8a9b89f1bf604fe3"
  },
  {
   "metadata": {},
   "cell_type": "markdown",
   "source": "## 1. PCA",
   "id": "517d0a19df5ea204"
  },
  {
   "metadata": {
    "jupyter": {
     "is_executing": true
    },
    "ExecuteTime": {
     "start_time": "2024-11-02T08:45:06.852037Z"
    }
   },
   "cell_type": "code",
   "source": [
    "n_components_range = [8, 10, 12, 14, 16]\n",
    "params_grid = {\n",
    "     'hidden_layer_sizes': [[10], [12], [5, 5], [10, 5]],\n",
    "    'learning_rate_init': [0.1, 0.05, 0.02, 0.01, .005, .001, .0005, .0001]\n",
    "}\n",
    "exp = ExperimentRdNN(\n",
    "    rd = 'pca',\n",
    "    n_components_range = n_components_range,\n",
    "    nn_params_grid=params_grid, \n",
    "    save_dir=f'results/{dataset}/{experiment_name}' \n",
    ")\n",
    "results = exp.run_experiment(X_train, X_test, y_train, y_test)\n",
    "# save\n",
    "exp.save_results(results)\n"
   ],
   "id": "b5e35170e82d4f82",
   "outputs": [
    {
     "name": "stdout",
     "output_type": "stream",
     "text": [
      "Running RD with n_components=8\n",
      "Running NN\n",
      "Fitting 5 folds for each of 32 candidates, totalling 160 fits\n",
      "Evaluating NN\n",
      "Running RD with n_components=10\n",
      "Running NN\n",
      "Fitting 5 folds for each of 32 candidates, totalling 160 fits\n",
      "Evaluating NN\n",
      "Running RD with n_components=12\n",
      "Running NN\n",
      "Fitting 5 folds for each of 32 candidates, totalling 160 fits\n"
     ]
    }
   ],
   "execution_count": null
  },
  {
   "metadata": {},
   "cell_type": "markdown",
   "source": "## 2. ICA",
   "id": "922c53bb2c538ab1"
  },
  {
   "metadata": {},
   "cell_type": "code",
   "outputs": [],
   "execution_count": null,
   "source": "",
   "id": "af6bbad3f83d53e8"
  },
  {
   "metadata": {
    "ExecuteTime": {
     "end_time": "2024-11-02T08:41:32.209122Z",
     "start_time": "2024-11-02T08:41:28.007707Z"
    }
   },
   "cell_type": "code",
   "source": [
    "n_components_range = [10, 15, 20, 24, 26]\n",
    "params_grid = {\n",
    "     'hidden_layer_sizes': [[10], [12], [5, 5], [10, 5]],\n",
    "    'learning_rate_init': [0.1, 0.05, 0.02, 0.01, .005, .001, .0005, .0001]\n",
    "}\n",
    "exp = ExperimentRdNN(\n",
    "    rd = 'ica',\n",
    "    n_components_range = n_components_range,\n",
    "    nn_params_grid=params_grid, \n",
    "    save_dir=f'results/{dataset}/{experiment_name}' \n",
    ")\n",
    "results = exp.run_experiment(X_train, X_test, y_train, y_test)\n",
    "# save\n",
    "exp.save_results(results)"
   ],
   "id": "bc1f326ae2cafcd7",
   "outputs": [
    {
     "name": "stdout",
     "output_type": "stream",
     "text": [
      "Running RD with n_components=10\n"
     ]
    },
    {
     "name": "stderr",
     "output_type": "stream",
     "text": [
      "/Users/Placebo/anaconda3/lib/python3.10/site-packages/sklearn/decomposition/_fastica.py:542: FutureWarning: Starting in v1.3, whiten='unit-variance' will be used by default.\n",
      "  warnings.warn(\n"
     ]
    },
    {
     "name": "stdout",
     "output_type": "stream",
     "text": [
      "Running NN\n",
      "Fitting 5 folds for each of 1 candidates, totalling 5 fits\n",
      "Evaluating NN\n",
      "Running RD with n_components=12\n"
     ]
    },
    {
     "name": "stderr",
     "output_type": "stream",
     "text": [
      "/Users/Placebo/anaconda3/lib/python3.10/site-packages/sklearn/decomposition/_fastica.py:542: FutureWarning: Starting in v1.3, whiten='unit-variance' will be used by default.\n",
      "  warnings.warn(\n"
     ]
    },
    {
     "name": "stdout",
     "output_type": "stream",
     "text": [
      "Running NN\n",
      "Fitting 5 folds for each of 1 candidates, totalling 5 fits\n",
      "Evaluating NN\n",
      "Data saved at results/dataset1/experiment4/results_ica.pkl\n"
     ]
    }
   ],
   "execution_count": 43
  },
  {
   "metadata": {},
   "cell_type": "markdown",
   "source": "## 3. RP",
   "id": "5db86a5b7c13758e"
  },
  {
   "metadata": {
    "ExecuteTime": {
     "end_time": "2024-11-02T08:42:07.468249Z",
     "start_time": "2024-11-02T08:42:04.498855Z"
    }
   },
   "cell_type": "code",
   "source": [
    "n_components_range = [10, 12, 14, 16, 18]\n",
    "params_grid = {\n",
    "     'hidden_layer_sizes': [[10], [12], [5, 5], [10, 5]],\n",
    "    'learning_rate_init': [0.1, 0.05, 0.02, 0.01, .005, .001, .0005, .0001]\n",
    "}\n",
    "exp = ExperimentRdNN(\n",
    "    rd = 'rp',\n",
    "    n_components_range = n_components_range,\n",
    "    nn_params_grid=params_grid, \n",
    "    save_dir=f'results/{dataset}/{experiment_name}' \n",
    ")\n",
    "results = exp.run_experiment(X_train, X_test, y_train, y_test)\n",
    "# save\n",
    "exp.save_results(results)"
   ],
   "id": "52d8037240624b5f",
   "outputs": [
    {
     "name": "stdout",
     "output_type": "stream",
     "text": [
      "Running RD with n_components=10\n",
      "Running NN\n",
      "Fitting 5 folds for each of 1 candidates, totalling 5 fits\n",
      "Evaluating NN\n",
      "Running RD with n_components=12\n",
      "Running NN\n",
      "Fitting 5 folds for each of 1 candidates, totalling 5 fits\n",
      "Evaluating NN\n",
      "Data saved at results/dataset1/experiment4/results_rp.pkl\n"
     ]
    }
   ],
   "execution_count": 44
  },
  {
   "metadata": {},
   "cell_type": "code",
   "outputs": [],
   "execution_count": null,
   "source": "",
   "id": "9547b2a87ba447de"
  }
 ],
 "metadata": {
  "kernelspec": {
   "display_name": "Python 3",
   "language": "python",
   "name": "python3"
  },
  "language_info": {
   "codemirror_mode": {
    "name": "ipython",
    "version": 2
   },
   "file_extension": ".py",
   "mimetype": "text/x-python",
   "name": "python",
   "nbconvert_exporter": "python",
   "pygments_lexer": "ipython2",
   "version": "2.7.6"
  }
 },
 "nbformat": 4,
 "nbformat_minor": 5
}
