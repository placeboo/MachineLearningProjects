{
 "cells": [
  {
   "cell_type": "code",
   "id": "initial_id",
   "metadata": {
    "collapsed": true,
    "ExecuteTime": {
     "end_time": "2024-10-29T07:00:32.675041Z",
     "start_time": "2024-10-29T07:00:32.671041Z"
    }
   },
   "source": [
    "import os\n",
    "os.chdir('../')\n",
    "print(os.getcwd())"
   ],
   "outputs": [
    {
     "name": "stdout",
     "output_type": "stream",
     "text": [
      "/Users/Placebo/OMSCS/CS7641-ML/MachineLearningProjects/UnsupervisedLearning\n"
     ]
    }
   ],
   "execution_count": 1
  },
  {
   "metadata": {
    "ExecuteTime": {
     "end_time": "2024-10-29T07:00:33.107646Z",
     "start_time": "2024-10-29T07:00:32.680362Z"
    }
   },
   "cell_type": "code",
   "source": [
    "import pandas as pd\n",
    "%matplotlib inline"
   ],
   "id": "828896e5bad805e1",
   "outputs": [],
   "execution_count": 2
  },
  {
   "metadata": {
    "ExecuteTime": {
     "end_time": "2024-10-29T07:00:33.821982Z",
     "start_time": "2024-10-29T07:00:33.160613Z"
    }
   },
   "cell_type": "code",
   "source": [
    "%load_ext autoreload\n",
    "%autoreload 2\n",
    "from src.utils.data_loader import load_processed_data, save_csv\n",
    "from src.utils.plotting import plot_metrics_vs_cluster, plot_cluster_evaluation\n",
    "from src.experiments.experiment1_clustering import ClusteringExperiment"
   ],
   "id": "3afd9a4a4b49cc7b",
   "outputs": [],
   "execution_count": 3
  },
  {
   "metadata": {},
   "cell_type": "markdown",
   "source": "# Dataset 1",
   "id": "d83d347e35196602"
  },
  {
   "metadata": {
    "ExecuteTime": {
     "end_time": "2024-10-29T07:00:33.840242Z",
     "start_time": "2024-10-29T07:00:33.826431Z"
    }
   },
   "cell_type": "code",
   "source": [
    "X_train, _, y_train, _ = load_processed_data('data/dataset1')\n",
    "\n",
    "dataset = 'dataset1'\n",
    "experiment_name = 'experiment1'\n",
    "y_train = (y_train + 1) / 2"
   ],
   "id": "8c5bbb3cdb648ec3",
   "outputs": [],
   "execution_count": 4
  },
  {
   "metadata": {},
   "cell_type": "markdown",
   "source": "## Running clustering analysis",
   "id": "d94083827822ed3d"
  },
  {
   "metadata": {
    "ExecuteTime": {
     "end_time": "2024-10-29T07:00:33.855880Z",
     "start_time": "2024-10-29T07:00:33.847139Z"
    }
   },
   "cell_type": "code",
   "source": "experiment = ClusteringExperiment()",
   "id": "66d3a423fcd271db",
   "outputs": [],
   "execution_count": 5
  },
  {
   "metadata": {
    "ExecuteTime": {
     "end_time": "2024-10-29T07:02:25.766787Z",
     "start_time": "2024-10-29T07:00:33.860938Z"
    }
   },
   "cell_type": "code",
   "source": "kmean_metrics, em_metrics = experiment.run_clustering_analysis(X_train, [2, 3, 4, 5, 6, 7, 8, 9, 10])",
   "id": "919189636ce820b1",
   "outputs": [],
   "execution_count": 6
  },
  {
   "metadata": {
    "ExecuteTime": {
     "end_time": "2024-10-29T07:02:25.807694Z",
     "start_time": "2024-10-29T07:02:25.786701Z"
    }
   },
   "cell_type": "code",
   "source": [
    "# save the metrics\n",
    "save_csv(kmean_metrics, f'results/{dataset}/{experiment_name}', 'kmean_metrics')\n",
    "save_csv(em_metrics, f'results/{dataset}/{experiment_name}', 'em_metrics')"
   ],
   "id": "3178bff15bd7e5a9",
   "outputs": [
    {
     "name": "stdout",
     "output_type": "stream",
     "text": [
      "Dataframe saved at results/dataset1/experiment1/kmean_metrics.csv\n",
      "Dataframe saved at results/dataset1/experiment1/em_metrics.csv\n"
     ]
    }
   ],
   "execution_count": 7
  },
  {
   "metadata": {},
   "cell_type": "markdown",
   "source": "## Plotting metrics vs number of clusters",
   "id": "aaa1600809a56df1"
  },
  {
   "metadata": {},
   "cell_type": "markdown",
   "source": "### KMeans",
   "id": "d9720257e6021e54"
  },
  {
   "metadata": {
    "ExecuteTime": {
     "end_time": "2024-10-29T07:02:27.079131Z",
     "start_time": "2024-10-29T07:02:25.832859Z"
    }
   },
   "cell_type": "code",
   "source": [
    "plot_metrics_vs_cluster(\n",
    "    df = kmean_metrics,\n",
    "    metric_col = 'inertia',\n",
    "    k_col = 'k',\n",
    "    dataset = 'dataset1',\n",
    "    experiment = 'experiment1',\n",
    "    algo_name='kmeans'\n",
    ")\n",
    "\n",
    "plot_metrics_vs_cluster(\n",
    "    df = kmean_metrics,\n",
    "    metric_col = 'silhouette_score',\n",
    "    k_col = 'k',\n",
    "    dataset = 'dataset1',\n",
    "    experiment = 'experiment1',\n",
    "    algo_name='kmeans'\n",
    ")\n",
    "\n",
    "plot_metrics_vs_cluster(\n",
    "    df = kmean_metrics,\n",
    "    metric_col = 'calinski_harabasz_score',\n",
    "    k_col = 'k',\n",
    "    dataset = 'dataset1',\n",
    "    experiment = 'experiment1',\n",
    "    algo_name='kmeans'\n",
    ")"
   ],
   "id": "bb12748efd983370",
   "outputs": [
    {
     "name": "stdout",
     "output_type": "stream",
     "text": [
      "Plot saved at figs/dataset1/experiment1/inertia_vs_k_kmeans.png\n",
      "Plot saved at figs/dataset1/experiment1/silhouette_score_vs_k_kmeans.png\n",
      "Plot saved at figs/dataset1/experiment1/calinski_harabasz_score_vs_k_kmeans.png\n"
     ]
    }
   ],
   "execution_count": 8
  },
  {
   "metadata": {},
   "cell_type": "markdown",
   "source": "### EM\n",
   "id": "caf22a1adb7c206c"
  },
  {
   "metadata": {
    "ExecuteTime": {
     "end_time": "2024-10-29T07:02:28.435973Z",
     "start_time": "2024-10-29T07:02:27.086185Z"
    }
   },
   "cell_type": "code",
   "source": [
    "plot_metrics_vs_cluster(\n",
    "    df = em_metrics,\n",
    "    metric_col = 'bic',\n",
    "    k_col = 'k',\n",
    "    dataset = 'dataset1',\n",
    "    experiment = 'experiment1',\n",
    "    algo_name='em'\n",
    ")\n",
    "\n",
    "plot_metrics_vs_cluster(\n",
    "    df = em_metrics,\n",
    "    metric_col = 'aic',\n",
    "    k_col = 'k',\n",
    "    dataset = 'dataset1',\n",
    "    experiment = 'experiment1',\n",
    "    algo_name='em'\n",
    ")\n",
    "\n",
    "plot_metrics_vs_cluster(\n",
    "    df = em_metrics,\n",
    "    metric_col = 'silhouette_score',\n",
    "    k_col = 'k',\n",
    "    dataset = 'dataset1',\n",
    "    experiment = 'experiment1',\n",
    "    algo_name='em'\n",
    ")\n",
    "\n",
    "plot_metrics_vs_cluster(\n",
    "    df = em_metrics,\n",
    "    metric_col = 'calinski_harabasz_score',\n",
    "    k_col = 'k',\n",
    "    dataset = 'dataset1',\n",
    "    experiment = 'experiment1',\n",
    "    algo_name='em'\n",
    ")\n",
    "\n"
   ],
   "id": "a66ac1b112309da0",
   "outputs": [
    {
     "name": "stdout",
     "output_type": "stream",
     "text": [
      "Plot saved at figs/dataset1/experiment1/bic_vs_k_em.png\n",
      "Plot saved at figs/dataset1/experiment1/aic_vs_k_em.png\n",
      "Plot saved at figs/dataset1/experiment1/silhouette_score_vs_k_em.png\n",
      "Plot saved at figs/dataset1/experiment1/calinski_harabasz_score_vs_k_em.png\n"
     ]
    }
   ],
   "execution_count": 9
  },
  {
   "metadata": {},
   "cell_type": "markdown",
   "source": "## Combine EM and KMeans metrics",
   "id": "9d28cbe3332f7e9d"
  },
  {
   "metadata": {
    "ExecuteTime": {
     "end_time": "2024-10-29T07:02:29.144166Z",
     "start_time": "2024-10-29T07:02:28.442660Z"
    }
   },
   "cell_type": "code",
   "source": [
    "kmean_metrics_copy = kmean_metrics[['k', 'silhouette_score', 'calinski_harabasz_score']].copy()\n",
    "kmean_metrics_copy['algo'] = 'kmeans'\n",
    "em_metrics_copy = em_metrics[['k', 'silhouette_score', 'calinski_harabasz_score']].copy()\n",
    "em_metrics_copy['algo'] = 'em'\n",
    "\n",
    "combined_metrics = pd.concat([kmean_metrics_copy, em_metrics_copy], axis=0)\n",
    "# draw the combined plot\n",
    "plot_metrics_vs_cluster(\n",
    "    df = combined_metrics,\n",
    "    metric_col = 'silhouette_score',\n",
    "    k_col = 'k',\n",
    "    group_col= 'algo',\n",
    "    dataset = 'dataset1',\n",
    "    experiment = 'experiment1'\n",
    ")\n",
    "\n",
    "plot_metrics_vs_cluster(\n",
    "    df = combined_metrics,\n",
    "    metric_col = 'calinski_harabasz_score',\n",
    "    k_col = 'k',\n",
    "    group_col= 'algo',\n",
    "    dataset = 'dataset1',\n",
    "    experiment = 'experiment1'\n",
    ")"
   ],
   "id": "b3823446731c3ba4",
   "outputs": [
    {
     "name": "stdout",
     "output_type": "stream",
     "text": [
      "Plot saved at figs/dataset1/experiment1/silhouette_score_vs_k_em_kmeans.png\n",
      "Plot saved at figs/dataset1/experiment1/calinski_harabasz_score_vs_k_em_kmeans.png\n"
     ]
    }
   ],
   "execution_count": 10
  },
  {
   "metadata": {},
   "cell_type": "markdown",
   "source": "## Supervised metrics",
   "id": "8ad36bcf7dbb8a8a"
  },
  {
   "metadata": {
    "ExecuteTime": {
     "end_time": "2024-10-29T07:02:29.320728Z",
     "start_time": "2024-10-29T07:02:29.151917Z"
    }
   },
   "cell_type": "code",
   "source": [
    "optimal_k = {\n",
    "    'kmeans': 2,\n",
    "    'em': 2\n",
    "}\n",
    "evaluation_results = experiment.evaluate_clustering(X_train, y_train, optimal_k)"
   ],
   "id": "eea507012d5777b2",
   "outputs": [],
   "execution_count": 11
  },
  {
   "metadata": {
    "ExecuteTime": {
     "end_time": "2024-10-29T07:02:29.466154Z",
     "start_time": "2024-10-29T07:02:29.329908Z"
    }
   },
   "cell_type": "code",
   "source": [
    "# Analyze cluster composition for each algorithm\n",
    "kmeans_labels = experiment.kmeans.fit(X_train, optimal_k['kmeans'])\n",
    "em_labels = experiment.em.fit(X_train, optimal_k['em'])\n",
    "kmeans_composition = experiment.analyze_cluster_composition(kmeans_labels, y_train)\n",
    "em_composition = experiment.analyze_cluster_composition(em_labels, y_train)\n",
    "\n",
    "print(\"\\nK-Means Cluster Composition:\")\n",
    "print(kmeans_composition)\n",
    "print(\"\\nEM Cluster Composition:\")\n",
    "print(em_composition)"
   ],
   "id": "fbd9d97cfd63efd3",
   "outputs": [
    {
     "name": "stdout",
     "output_type": "stream",
     "text": [
      "\n",
      "K-Means Cluster Composition:\n",
      "True_Label        0.0        1.0   Size\n",
      "Cluster                                \n",
      "0           95.202765   4.797235  21700\n",
      "1           76.177778  23.822222  11250\n",
      "\n",
      "EM Cluster Composition:\n",
      "True_Label        0.0        1.0   Size\n",
      "Cluster                                \n",
      "0           95.351870   4.648130  21471\n",
      "1           76.278421  23.721579  11479\n"
     ]
    }
   ],
   "execution_count": 12
  },
  {
   "metadata": {
    "ExecuteTime": {
     "end_time": "2024-10-29T07:02:29.488304Z",
     "start_time": "2024-10-29T07:02:29.476393Z"
    }
   },
   "cell_type": "code",
   "source": "evaluation_results",
   "id": "298cf89c79f3126e",
   "outputs": [
    {
     "data": {
      "text/plain": [
       "{'kmeans': {'adjusted_rand': 0.1205605385237297,\n",
       "  'normalized_mutual_info': np.float64(0.07715521390770433),\n",
       "  'adjusted_mutual_info': np.float64(0.07712704835389132),\n",
       "  'homogeneity': np.float64(0.10881666504885362),\n",
       "  'completeness': np.float64(0.05976570085273393),\n",
       "  'v_measure': np.float64(0.07715521390770433)},\n",
       " 'em': {'adjusted_rand': 0.1177957347269449,\n",
       "  'normalized_mutual_info': np.float64(0.07851231469374532),\n",
       "  'adjusted_mutual_info': np.float64(0.07848431613410364),\n",
       "  'homogeneity': np.float64(0.11122707025529976),\n",
       "  'completeness': np.float64(0.06066822268503489),\n",
       "  'v_measure': np.float64(0.07851231469374532)}}"
      ]
     },
     "execution_count": 13,
     "metadata": {},
     "output_type": "execute_result"
    }
   ],
   "execution_count": 13
  },
  {
   "metadata": {
    "ExecuteTime": {
     "end_time": "2024-10-29T07:02:30.341815Z",
     "start_time": "2024-10-29T07:02:29.499896Z"
    }
   },
   "cell_type": "code",
   "source": [
    "# Plot evaluation metrics\n",
    "plot_cluster_evaluation(\n",
    "    evaluation_results,\n",
    "    dataset = dataset,\n",
    "    experiment = experiment_name\n",
    ")"
   ],
   "id": "eec9a5cca826f7c7",
   "outputs": [
    {
     "name": "stdout",
     "output_type": "stream",
     "text": [
      "Plot saved at figs/dataset1/experiment1/clustering_evaluation_metrics_comparison.png\n"
     ]
    }
   ],
   "execution_count": 14
  },
  {
   "metadata": {},
   "cell_type": "markdown",
   "source": "# Dataset 2",
   "id": "e3512fd488485e64"
  },
  {
   "metadata": {
    "ExecuteTime": {
     "end_time": "2024-10-29T07:02:30.367423Z",
     "start_time": "2024-10-29T07:02:30.352759Z"
    }
   },
   "cell_type": "code",
   "source": [
    "X_train, _, y_train, _ = load_processed_data('data/dataset2')\n",
    "dataset = 'dataset2'\n",
    "experiment_name = 'experiment1'"
   ],
   "id": "91bcfcd1ff269a95",
   "outputs": [],
   "execution_count": 15
  },
  {
   "metadata": {},
   "cell_type": "markdown",
   "source": "## Running clustering analysis",
   "id": "5d1d04cdc0f9cf6d"
  },
  {
   "metadata": {
    "ExecuteTime": {
     "end_time": "2024-10-29T07:02:30.695233Z",
     "start_time": "2024-10-29T07:02:30.375963Z"
    }
   },
   "cell_type": "code",
   "source": [
    "# Plot evaluation metrics\n",
    "plot_cluster_evaluation(\n",
    "    evaluation_results,\n",
    "    dataset = dataset,\n",
    "    experiment = experiment_name\n",
    ")   \n"
   ],
   "id": "387187a56ca7b2a0",
   "outputs": [
    {
     "name": "stdout",
     "output_type": "stream",
     "text": [
      "Plot saved at figs/dataset2/experiment1/clustering_evaluation_metrics_comparison.png\n"
     ]
    }
   ],
   "execution_count": 16
  },
  {
   "metadata": {
    "ExecuteTime": {
     "end_time": "2024-10-29T07:02:30.715035Z",
     "start_time": "2024-10-29T07:02:30.704461Z"
    }
   },
   "cell_type": "code",
   "source": "experiment = ClusteringExperiment()",
   "id": "8e5c742b5f3df488",
   "outputs": [],
   "execution_count": 17
  },
  {
   "metadata": {
    "ExecuteTime": {
     "end_time": "2024-10-29T07:02:32.876593Z",
     "start_time": "2024-10-29T07:02:30.724417Z"
    }
   },
   "cell_type": "code",
   "source": [
    "kmean_metrics, em_metrics = experiment.run_clustering_analysis(X_train, [2, 3, 4, 5, 6, 7, 8, 9, 10])\n",
    "\n",
    "# save the metrics\n",
    "save_csv(kmean_metrics, f'results/{dataset}/{experiment_name}', 'kmean_metrics')\n",
    "save_csv(em_metrics, f'results/{dataset}/{experiment_name}', 'em_metrics')"
   ],
   "id": "7113f998613401c3",
   "outputs": [
    {
     "name": "stdout",
     "output_type": "stream",
     "text": [
      "Dataframe saved at results/dataset2/experiment1/kmean_metrics.csv\n",
      "Dataframe saved at results/dataset2/experiment1/em_metrics.csv\n"
     ]
    }
   ],
   "execution_count": 18
  },
  {
   "metadata": {},
   "cell_type": "markdown",
   "source": "## Plotting metrics vs number of clusters",
   "id": "4e7645357bd78733"
  },
  {
   "metadata": {},
   "cell_type": "markdown",
   "source": "### KMeans",
   "id": "9e7a741fe0e817b2"
  },
  {
   "metadata": {
    "ExecuteTime": {
     "end_time": "2024-10-29T07:02:34.170493Z",
     "start_time": "2024-10-29T07:02:33.064983Z"
    }
   },
   "cell_type": "code",
   "source": [
    "plot_metrics_vs_cluster(\n",
    "    df = kmean_metrics,\n",
    "    metric_col = 'inertia',\n",
    "    k_col = 'k',\n",
    "    dataset = dataset,\n",
    "    experiment = experiment_name,\n",
    "    algo_name='kmeans'\n",
    ")\n",
    "\n",
    "plot_metrics_vs_cluster(\n",
    "    df = kmean_metrics,\n",
    "    metric_col = 'silhouette_score',\n",
    "    k_col = 'k',\n",
    "    dataset = dataset,\n",
    "    experiment = experiment_name,\n",
    "    algo_name='kmeans'\n",
    ")\n",
    "\n",
    "plot_metrics_vs_cluster(\n",
    "    df = kmean_metrics,\n",
    "    metric_col = 'calinski_harabasz_score',\n",
    "    k_col = 'k',\n",
    "    dataset = dataset,\n",
    "    experiment = experiment_name,\n",
    "    algo_name='kmeans'\n",
    ")"
   ],
   "id": "95797350f5c6031d",
   "outputs": [
    {
     "name": "stdout",
     "output_type": "stream",
     "text": [
      "Plot saved at figs/dataset2/experiment1/inertia_vs_k_kmeans.png\n",
      "Plot saved at figs/dataset2/experiment1/silhouette_score_vs_k_kmeans.png\n",
      "Plot saved at figs/dataset2/experiment1/calinski_harabasz_score_vs_k_kmeans.png\n"
     ]
    }
   ],
   "execution_count": 19
  },
  {
   "metadata": {},
   "cell_type": "markdown",
   "source": "### EM",
   "id": "7b2fdeb54057dcca"
  },
  {
   "metadata": {
    "ExecuteTime": {
     "end_time": "2024-10-29T07:02:35.534463Z",
     "start_time": "2024-10-29T07:02:34.180069Z"
    }
   },
   "cell_type": "code",
   "source": [
    "plot_metrics_vs_cluster(\n",
    "    df = em_metrics,\n",
    "    metric_col = 'bic',\n",
    "    k_col = 'k',\n",
    "    dataset = dataset,\n",
    "    experiment = experiment_name,\n",
    "    algo_name='em'\n",
    ")\n",
    "\n",
    "plot_metrics_vs_cluster(\n",
    "    df = em_metrics,\n",
    "    metric_col = 'aic',\n",
    "    k_col = 'k',\n",
    "    dataset = dataset,\n",
    "    experiment = experiment_name,\n",
    "    algo_name='em'\n",
    ")\n",
    "\n",
    "plot_metrics_vs_cluster(\n",
    "    df = em_metrics,\n",
    "    metric_col = 'silhouette_score',\n",
    "    k_col = 'k',\n",
    "    dataset = dataset,\n",
    "    experiment = experiment_name,\n",
    "    algo_name='em'\n",
    ")\n",
    "\n",
    "plot_metrics_vs_cluster(\n",
    "    df = em_metrics,\n",
    "    metric_col = 'calinski_harabasz_score',\n",
    "    k_col = 'k',\n",
    "    dataset = dataset,\n",
    "    experiment = experiment_name,\n",
    "    algo_name='em'\n",
    ")"
   ],
   "id": "5bde5673caaf72ca",
   "outputs": [
    {
     "name": "stdout",
     "output_type": "stream",
     "text": [
      "Plot saved at figs/dataset2/experiment1/bic_vs_k_em.png\n",
      "Plot saved at figs/dataset2/experiment1/aic_vs_k_em.png\n",
      "Plot saved at figs/dataset2/experiment1/silhouette_score_vs_k_em.png\n",
      "Plot saved at figs/dataset2/experiment1/calinski_harabasz_score_vs_k_em.png\n"
     ]
    }
   ],
   "execution_count": 20
  },
  {
   "metadata": {},
   "cell_type": "markdown",
   "source": "## Combine EM and KMeans metrics",
   "id": "5714525bf594c6f5"
  },
  {
   "metadata": {
    "ExecuteTime": {
     "end_time": "2024-10-29T07:02:36.248958Z",
     "start_time": "2024-10-29T07:02:35.543583Z"
    }
   },
   "cell_type": "code",
   "source": [
    "kmean_metrics_copy = kmean_metrics[['k', 'silhouette_score', 'calinski_harabasz_score']].copy()\n",
    "kmean_metrics_copy['algo'] = 'kmeans'\n",
    "em_metrics_copy = em_metrics[['k', 'silhouette_score', 'calinski_harabasz_score']].copy()\n",
    "em_metrics_copy['algo'] = 'em'\n",
    "\n",
    "combined_metrics = pd.concat([kmean_metrics_copy, em_metrics_copy], axis=0)\n",
    "# draw the combined plot\n",
    "plot_metrics_vs_cluster(\n",
    "    df = combined_metrics,\n",
    "    metric_col = 'silhouette_score',\n",
    "    k_col = 'k',\n",
    "    group_col= 'algo',\n",
    "    dataset = dataset,\n",
    "    experiment = experiment_name\n",
    ")\n",
    "\n",
    "plot_metrics_vs_cluster(\n",
    "    df = combined_metrics,\n",
    "    metric_col = 'calinski_harabasz_score',\n",
    "    k_col = 'k',\n",
    "    group_col= 'algo',\n",
    "    dataset = dataset,\n",
    "    experiment = experiment_name\n",
    ")"
   ],
   "id": "a0871b73a8bf4c5c",
   "outputs": [
    {
     "name": "stdout",
     "output_type": "stream",
     "text": [
      "Plot saved at figs/dataset2/experiment1/silhouette_score_vs_k_em_kmeans.png\n",
      "Plot saved at figs/dataset2/experiment1/calinski_harabasz_score_vs_k_em_kmeans.png\n"
     ]
    }
   ],
   "execution_count": 21
  },
  {
   "metadata": {},
   "cell_type": "markdown",
   "source": "## Supervised metrics",
   "id": "3546beaadb0b14c"
  },
  {
   "metadata": {
    "ExecuteTime": {
     "end_time": "2024-10-29T07:02:36.610163Z",
     "start_time": "2024-10-29T07:02:36.257570Z"
    }
   },
   "cell_type": "code",
   "source": [
    "optimal_k = {\n",
    "    'kmeans': 5,\n",
    "    'em': 5\n",
    "}\n",
    "evaluation_results = experiment.evaluate_clustering(X_train, y_train, optimal_k)\n",
    "\n",
    "# Analyze cluster composition for each algorithm\n",
    "kmeans_labels = experiment.kmeans.fit(X_train, optimal_k['kmeans'])\n",
    "em_labels = experiment.em.fit(X_train, optimal_k['em'])\n",
    "kmeans_composition = experiment.analyze_cluster_composition(kmeans_labels, y_train)\n",
    "em_composition = experiment.analyze_cluster_composition(em_labels, y_train)\n",
    "\n",
    "print(\"\\nK-Means Cluster Composition:\")\n",
    "print(kmeans_composition)\n",
    "print(\"\\nEM Cluster Composition:\")\n",
    "print(em_composition)"
   ],
   "id": "a4ccdbaf7303013b",
   "outputs": [
    {
     "name": "stdout",
     "output_type": "stream",
     "text": [
      "\n",
      "K-Means Cluster Composition:\n",
      "True_Label          0          1  Size\n",
      "Cluster                               \n",
      "0           46.590909  53.409091   352\n",
      "1           44.759207  55.240793   353\n",
      "2           55.442177  44.557823   294\n",
      "3           53.113553  46.886447   273\n",
      "4           52.054795  47.945205   292\n",
      "\n",
      "EM Cluster Composition:\n",
      "True_Label          0          1  Size\n",
      "Cluster                               \n",
      "0           46.590909  53.409091   352\n",
      "1           44.759207  55.240793   353\n",
      "2           55.442177  44.557823   294\n",
      "3           53.113553  46.886447   273\n",
      "4           52.054795  47.945205   292\n"
     ]
    }
   ],
   "execution_count": 22
  },
  {
   "metadata": {
    "ExecuteTime": {
     "end_time": "2024-10-29T07:02:36.676820Z",
     "start_time": "2024-10-29T07:02:36.674858Z"
    }
   },
   "cell_type": "code",
   "source": "",
   "id": "12a141ea38310396",
   "outputs": [],
   "execution_count": null
  }
 ],
 "metadata": {
  "kernelspec": {
   "display_name": "Python (unsupervised)",
   "language": "python",
   "name": "unsupervised"
  },
  "language_info": {
   "codemirror_mode": {
    "name": "ipython",
    "version": 2
   },
   "file_extension": ".py",
   "mimetype": "text/x-python",
   "name": "python",
   "nbconvert_exporter": "python",
   "pygments_lexer": "ipython2",
   "version": "2.7.6"
  }
 },
 "nbformat": 4,
 "nbformat_minor": 5
}
