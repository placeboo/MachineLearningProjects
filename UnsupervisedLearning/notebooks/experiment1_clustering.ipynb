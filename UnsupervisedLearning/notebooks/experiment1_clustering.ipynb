{
 "cells": [
  {
   "cell_type": "code",
   "id": "initial_id",
   "metadata": {
    "collapsed": true,
    "ExecuteTime": {
     "end_time": "2024-11-04T09:12:50.716961Z",
     "start_time": "2024-11-04T09:12:50.710668Z"
    }
   },
   "source": [
    "import os\n",
    "from random import random\n",
    "\n",
    "os.chdir('../')\n",
    "print(os.getcwd())"
   ],
   "outputs": [
    {
     "name": "stdout",
     "output_type": "stream",
     "text": [
      "/Users/Placebo/OMSCS/CS7641-ML/MachineLearningProjects/UnsupervisedLearning\n"
     ]
    }
   ],
   "execution_count": 1
  },
  {
   "metadata": {
    "ExecuteTime": {
     "end_time": "2024-11-04T09:12:52.136647Z",
     "start_time": "2024-11-04T09:12:51.549872Z"
    }
   },
   "cell_type": "code",
   "source": [
    "import pandas as pd\n",
    "import numpy as np\n",
    "%matplotlib inline"
   ],
   "id": "828896e5bad805e1",
   "outputs": [],
   "execution_count": 2
  },
  {
   "metadata": {},
   "cell_type": "markdown",
   "source": "",
   "id": "d8e284116317b5d7"
  },
  {
   "metadata": {
    "ExecuteTime": {
     "end_time": "2024-11-05T07:18:41.288869Z",
     "start_time": "2024-11-05T07:18:41.244152Z"
    }
   },
   "cell_type": "code",
   "source": [
    "%load_ext autoreload\n",
    "%autoreload 2\n",
    "from src.utils.data_loader import load_processed_data, save_csv\n",
    "from src.utils.plotting import plot_metrics_vs_cluster, plot_cluster_evaluation, visualize_clusters_tsne\n",
    "from src.experiments.experiment1_clustering import ClusteringExperiment"
   ],
   "id": "3afd9a4a4b49cc7b",
   "outputs": [
    {
     "name": "stdout",
     "output_type": "stream",
     "text": [
      "The autoreload extension is already loaded. To reload it, use:\n",
      "  %reload_ext autoreload\n"
     ]
    }
   ],
   "execution_count": 35
  },
  {
   "metadata": {},
   "cell_type": "markdown",
   "source": "# Dataset 1",
   "id": "d83d347e35196602"
  },
  {
   "metadata": {
    "ExecuteTime": {
     "end_time": "2024-11-05T07:14:20.704341Z",
     "start_time": "2024-11-05T07:14:20.642294Z"
    }
   },
   "cell_type": "code",
   "source": [
    "X_train, X_test, y_train, y_test = load_processed_data('data/dataset1')\n",
    "\n",
    "# combine the train and test data\n",
    "X_train = np.concatenate([X_train, X_test], axis=0)\n",
    "y_train = np.concatenate([y_train, y_test], axis=0)\n",
    "dataset = 'dataset1'\n",
    "experiment_name = 'experiment1'\n",
    "y_train = (y_train + 1) / 2\n",
    "print(X_train.shape)"
   ],
   "id": "8c5bbb3cdb648ec3",
   "outputs": [
    {
     "name": "stdout",
     "output_type": "stream",
     "text": [
      "(41188, 67)\n"
     ]
    }
   ],
   "execution_count": 29
  },
  {
   "metadata": {},
   "cell_type": "markdown",
   "source": "## Running clustering analysis",
   "id": "d94083827822ed3d"
  },
  {
   "metadata": {
    "ExecuteTime": {
     "end_time": "2024-11-05T07:14:23.867512Z",
     "start_time": "2024-11-05T07:14:23.850213Z"
    }
   },
   "cell_type": "code",
   "source": "experiment = ClusteringExperiment()",
   "id": "66d3a423fcd271db",
   "outputs": [],
   "execution_count": 30
  },
  {
   "metadata": {
    "ExecuteTime": {
     "end_time": "2024-11-04T03:19:23.085717Z",
     "start_time": "2024-11-04T03:15:15.166092Z"
    }
   },
   "cell_type": "code",
   "source": "kmean_metrics, em_metrics = experiment.run_clustering_analysis(X_train, [2, 3, 4, 5, 6, 7, 8, 9, 10])",
   "id": "919189636ce820b1",
   "outputs": [],
   "execution_count": 6
  },
  {
   "metadata": {
    "ExecuteTime": {
     "end_time": "2024-11-04T03:19:23.491506Z",
     "start_time": "2024-11-04T03:19:23.353192Z"
    }
   },
   "cell_type": "code",
   "source": [
    "# save the metrics\n",
    "save_csv(kmean_metrics, f'results/{dataset}/{experiment_name}', 'kmean_metrics')\n",
    "save_csv(em_metrics, f'results/{dataset}/{experiment_name}', 'em_metrics')"
   ],
   "id": "3178bff15bd7e5a9",
   "outputs": [
    {
     "name": "stdout",
     "output_type": "stream",
     "text": [
      "Dataframe saved at results/dataset1/experiment1/kmean_metrics.csv\n",
      "Dataframe saved at results/dataset1/experiment1/em_metrics.csv\n"
     ]
    }
   ],
   "execution_count": 7
  },
  {
   "metadata": {},
   "cell_type": "markdown",
   "source": "## Plotting metrics vs number of clusters",
   "id": "aaa1600809a56df1"
  },
  {
   "metadata": {},
   "cell_type": "markdown",
   "source": "### KMeans",
   "id": "d9720257e6021e54"
  },
  {
   "metadata": {
    "ExecuteTime": {
     "end_time": "2024-11-04T03:19:25.569098Z",
     "start_time": "2024-11-04T03:19:24.093317Z"
    }
   },
   "cell_type": "code",
   "source": [
    "plot_metrics_vs_cluster(\n",
    "    df = kmean_metrics,\n",
    "    metric_col = 'inertia',\n",
    "    k_col = 'k',\n",
    "    dataset = 'dataset1',\n",
    "    experiment = 'experiment1',\n",
    "    algo_name='kmeans'\n",
    ")\n",
    "\n",
    "plot_metrics_vs_cluster(\n",
    "    df = kmean_metrics,\n",
    "    metric_col = 'silhouette_score',\n",
    "    k_col = 'k',\n",
    "    dataset = 'dataset1',\n",
    "    experiment = 'experiment1',\n",
    "    algo_name='kmeans'\n",
    ")\n",
    "\n",
    "plot_metrics_vs_cluster(\n",
    "    df = kmean_metrics,\n",
    "    metric_col = 'calinski_harabasz_score',\n",
    "    k_col = 'k',\n",
    "    dataset = 'dataset1',\n",
    "    experiment = 'experiment1',\n",
    "    algo_name='kmeans'\n",
    ")"
   ],
   "id": "bb12748efd983370",
   "outputs": [
    {
     "name": "stdout",
     "output_type": "stream",
     "text": [
      "Plot saved at figs/dataset1/experiment1/inertia_vs_k_kmeans.png\n",
      "Plot saved at figs/dataset1/experiment1/silhouette_score_vs_k_kmeans.png\n",
      "Plot saved at figs/dataset1/experiment1/calinski_harabasz_score_vs_k_kmeans.png\n"
     ]
    }
   ],
   "execution_count": 8
  },
  {
   "metadata": {},
   "cell_type": "markdown",
   "source": "### EM\n",
   "id": "caf22a1adb7c206c"
  },
  {
   "metadata": {
    "ExecuteTime": {
     "end_time": "2024-11-04T03:19:27.224665Z",
     "start_time": "2024-11-04T03:19:25.626247Z"
    }
   },
   "cell_type": "code",
   "source": [
    "plot_metrics_vs_cluster(\n",
    "    df = em_metrics,\n",
    "    metric_col = 'bic',\n",
    "    k_col = 'k',\n",
    "    dataset = 'dataset1',\n",
    "    experiment = 'experiment1',\n",
    "    algo_name='em'\n",
    ")\n",
    "\n",
    "plot_metrics_vs_cluster(\n",
    "    df = em_metrics,\n",
    "    metric_col = 'aic',\n",
    "    k_col = 'k',\n",
    "    dataset = 'dataset1',\n",
    "    experiment = 'experiment1',\n",
    "    algo_name='em'\n",
    ")\n",
    "\n",
    "plot_metrics_vs_cluster(\n",
    "    df = em_metrics,\n",
    "    metric_col = 'silhouette_score',\n",
    "    k_col = 'k',\n",
    "    dataset = 'dataset1',\n",
    "    experiment = 'experiment1',\n",
    "    algo_name='em'\n",
    ")\n",
    "\n",
    "plot_metrics_vs_cluster(\n",
    "    df = em_metrics,\n",
    "    metric_col = 'calinski_harabasz_score',\n",
    "    k_col = 'k',\n",
    "    dataset = 'dataset1',\n",
    "    experiment = 'experiment1',\n",
    "    algo_name='em'\n",
    ")\n",
    "\n"
   ],
   "id": "a66ac1b112309da0",
   "outputs": [
    {
     "name": "stdout",
     "output_type": "stream",
     "text": [
      "Plot saved at figs/dataset1/experiment1/bic_vs_k_em.png\n",
      "Plot saved at figs/dataset1/experiment1/aic_vs_k_em.png\n",
      "Plot saved at figs/dataset1/experiment1/silhouette_score_vs_k_em.png\n",
      "Plot saved at figs/dataset1/experiment1/calinski_harabasz_score_vs_k_em.png\n"
     ]
    }
   ],
   "execution_count": 9
  },
  {
   "metadata": {},
   "cell_type": "markdown",
   "source": "## Combine EM and KMeans metrics",
   "id": "9d28cbe3332f7e9d"
  },
  {
   "metadata": {
    "ExecuteTime": {
     "end_time": "2024-11-04T03:19:28.110814Z",
     "start_time": "2024-11-04T03:19:27.280637Z"
    }
   },
   "cell_type": "code",
   "source": [
    "kmean_metrics_copy = kmean_metrics[['k', 'silhouette_score', 'calinski_harabasz_score']].copy()\n",
    "kmean_metrics_copy['algo'] = 'kmeans'\n",
    "em_metrics_copy = em_metrics[['k', 'silhouette_score', 'calinski_harabasz_score']].copy()\n",
    "em_metrics_copy['algo'] = 'em'\n",
    "\n",
    "combined_metrics = pd.concat([kmean_metrics_copy, em_metrics_copy], axis=0)\n",
    "print(combined_metrics)\n",
    "# draw the combined plot\n",
    "plot_metrics_vs_cluster(\n",
    "    df = combined_metrics,\n",
    "    metric_col = 'silhouette_score',\n",
    "    k_col = 'k',\n",
    "    group_col= 'algo',\n",
    "    dataset = 'dataset1',\n",
    "    experiment = 'experiment1'\n",
    ")\n",
    "\n",
    "plot_metrics_vs_cluster(\n",
    "    df = combined_metrics,\n",
    "    metric_col = 'calinski_harabasz_score',\n",
    "    k_col = 'k',\n",
    "    group_col= 'algo',\n",
    "    dataset = 'dataset1',\n",
    "    experiment = 'experiment1'\n",
    ")"
   ],
   "id": "b3823446731c3ba4",
   "outputs": [
    {
     "name": "stdout",
     "output_type": "stream",
     "text": [
      "Plot saved at figs/dataset1/experiment1/silhouette_score_vs_k_em_kmeans.png\n",
      "Plot saved at figs/dataset1/experiment1/calinski_harabasz_score_vs_k_em_kmeans.png\n"
     ]
    }
   ],
   "execution_count": 10
  },
  {
   "metadata": {},
   "cell_type": "markdown",
   "source": "## Supervised metrics",
   "id": "8ad36bcf7dbb8a8a"
  },
  {
   "metadata": {
    "ExecuteTime": {
     "end_time": "2024-11-05T07:14:30.361291Z",
     "start_time": "2024-11-05T07:14:29.994027Z"
    }
   },
   "cell_type": "code",
   "source": [
    "optimal_k = {\n",
    "    'kmeans': 2,\n",
    "    'em': 2\n",
    "}\n",
    "evaluation_results = experiment.evaluate_clustering(X_train, y_train, optimal_k)"
   ],
   "id": "eea507012d5777b2",
   "outputs": [],
   "execution_count": 31
  },
  {
   "metadata": {
    "ExecuteTime": {
     "end_time": "2024-11-05T07:14:31.330345Z",
     "start_time": "2024-11-05T07:14:31.085178Z"
    }
   },
   "cell_type": "code",
   "source": [
    "# Analyze cluster composition for each algorithm\n",
    "kmeans_labels = experiment.kmeans.fit(X_train, optimal_k['kmeans'])\n",
    "em_labels = experiment.em.fit(X_train, optimal_k['em'])\n",
    "kmeans_composition = experiment.analyze_cluster_composition(kmeans_labels, y_train)\n",
    "em_composition = experiment.analyze_cluster_composition(em_labels, y_train)\n",
    "\n",
    "print(\"\\nK-Means Cluster Composition:\")\n",
    "print(kmeans_composition)\n",
    "print(\"\\nEM Cluster Composition:\")\n",
    "print(em_composition)"
   ],
   "id": "fbd9d97cfd63efd3",
   "outputs": [
    {
     "name": "stdout",
     "output_type": "stream",
     "text": [
      "\n",
      "K-Means Cluster Composition:\n",
      "True_Label        0.0        1.0   Size\n",
      "Cluster                                \n",
      "0           75.547986  24.452014  13504\n",
      "1           95.166883   4.833117  27684\n",
      "\n",
      "EM Cluster Composition:\n",
      "True_Label        0.0        1.0   Size\n",
      "Cluster                                \n",
      "0           75.562463  24.437537  13512\n",
      "1           95.165486   4.834514  27676\n"
     ]
    }
   ],
   "execution_count": 32
  },
  {
   "metadata": {
    "ExecuteTime": {
     "end_time": "2024-11-05T07:14:34.372144Z",
     "start_time": "2024-11-05T07:14:34.351282Z"
    }
   },
   "cell_type": "code",
   "source": "evaluation_results",
   "id": "298cf89c79f3126e",
   "outputs": [
    {
     "data": {
      "text/plain": [
       "{'kmeans': {'adjusted_rand': 0.1314994774803884,\n",
       "  'normalized_mutual_info': np.float64(0.08033750118063479),\n",
       "  'adjusted_mutual_info': np.float64(0.08031482197211448),\n",
       "  'homogeneity': np.float64(0.11235870411271133),\n",
       "  'completeness': np.float64(0.06251990120418494)},\n",
       " 'em': {'adjusted_rand': 0.13128195402770257,\n",
       "  'normalized_mutual_info': np.float64(0.0802351104097296),\n",
       "  'adjusted_mutual_info': np.float64(0.08021243188677764),\n",
       "  'homogeneity': np.float64(0.11223138219372385),\n",
       "  'completeness': np.float64(0.06243530344840227)}}"
      ]
     },
     "execution_count": 33,
     "metadata": {},
     "output_type": "execute_result"
    }
   ],
   "execution_count": 33
  },
  {
   "metadata": {
    "ExecuteTime": {
     "end_time": "2024-11-05T07:19:58.475501Z",
     "start_time": "2024-11-05T07:19:44.549640Z"
    }
   },
   "cell_type": "code",
   "source": [
    "visualize_clusters_tsne(\n",
    "    X=X_train,\n",
    "    labels=kmeans_labels,\n",
    "    dataset=dataset,\n",
    "    experiment=experiment_name,\n",
    "    algorithm='kmeans',\n",
    "    random_state=7,\n",
    "    sample_size=2000\n",
    ")\n",
    "visualize_clusters_tsne(\n",
    "    X=X_train,\n",
    "    labels=em_labels,\n",
    "    dataset=dataset,\n",
    "    experiment=experiment_name,\n",
    "    algorithm='gmm',\n",
    "    random_state=7,\n",
    "    sample_size=2000\n",
    ")\n",
    "visualize_clusters_tsne(\n",
    "    X=X_train,\n",
    "    labels=y_train,\n",
    "    dataset=dataset,\n",
    "    experiment=experiment_name,\n",
    "    algorithm='true_label',\n",
    "    random_state=7,\n",
    "    sample_size=2000\n",
    ")\n"
   ],
   "id": "290b54cea822661c",
   "outputs": [
    {
     "name": "stdout",
     "output_type": "stream",
     "text": [
      "Plot saved at figs/dataset1/experiment1/tsne_visualization_kmeans.png\n",
      "Plot saved at figs/dataset1/experiment1/tsne_visualization_gmm.png\n",
      "Plot saved at figs/dataset1/experiment1/tsne_visualization_true_label.png\n"
     ]
    }
   ],
   "execution_count": 37
  },
  {
   "metadata": {
    "ExecuteTime": {
     "end_time": "2024-11-04T03:19:29.998159Z",
     "start_time": "2024-11-04T03:19:29.197813Z"
    }
   },
   "cell_type": "code",
   "source": [
    "# Plot evaluation metrics\n",
    "plot_cluster_evaluation(\n",
    "    evaluation_results,\n",
    "    dataset = dataset,\n",
    "    experiment = experiment_name\n",
    ")"
   ],
   "id": "eec9a5cca826f7c7",
   "outputs": [
    {
     "name": "stdout",
     "output_type": "stream",
     "text": [
      "Plot saved at figs/dataset1/experiment1/clustering_evaluation_metrics_comparison.png\n"
     ]
    }
   ],
   "execution_count": 14
  },
  {
   "metadata": {},
   "cell_type": "markdown",
   "source": "# Dataset 2",
   "id": "e3512fd488485e64"
  },
  {
   "metadata": {
    "ExecuteTime": {
     "end_time": "2024-11-09T23:31:19.567885Z",
     "start_time": "2024-11-09T23:31:19.202503Z"
    }
   },
   "cell_type": "code",
   "source": [
    "X_train, X_test, y_train, y_test = load_processed_data('data/dataset2')\n",
    "X_train = np.concatenate([X_train, X_test], axis=0)\n",
    "y_train = np.concatenate([y_train, y_test], axis=0)\n",
    "dataset = 'dataset2'\n",
    "experiment_name = 'experiment1'\n",
    "print(X_train.shape)"
   ],
   "id": "91bcfcd1ff269a95",
   "outputs": [
    {
     "name": "stdout",
     "output_type": "stream",
     "text": [
      "(1956, 384)\n"
     ]
    }
   ],
   "execution_count": 44
  },
  {
   "metadata": {},
   "cell_type": "markdown",
   "source": "## Running clustering analysis",
   "id": "5d1d04cdc0f9cf6d"
  },
  {
   "metadata": {
    "ExecuteTime": {
     "end_time": "2024-10-31T06:48:55.133111Z",
     "start_time": "2024-10-31T06:48:54.820071Z"
    }
   },
   "cell_type": "code",
   "source": [
    "# Plot evaluation metrics\n",
    "plot_cluster_evaluation(\n",
    "    evaluation_results,\n",
    "    dataset = dataset,\n",
    "    experiment = experiment_name\n",
    ")   \n"
   ],
   "id": "387187a56ca7b2a0",
   "outputs": [
    {
     "name": "stdout",
     "output_type": "stream",
     "text": [
      "Plot saved at figs/dataset2/experiment1/clustering_evaluation_metrics_comparison.png\n"
     ]
    }
   ],
   "execution_count": 16
  },
  {
   "metadata": {
    "ExecuteTime": {
     "end_time": "2024-11-05T08:22:21.264956Z",
     "start_time": "2024-11-05T08:22:21.248132Z"
    }
   },
   "cell_type": "code",
   "source": "experiment = ClusteringExperiment()",
   "id": "8e5c742b5f3df488",
   "outputs": [],
   "execution_count": 39
  },
  {
   "metadata": {
    "ExecuteTime": {
     "end_time": "2024-10-31T06:48:57.783496Z",
     "start_time": "2024-10-31T06:48:55.162253Z"
    }
   },
   "cell_type": "code",
   "source": [
    "kmean_metrics, em_metrics = experiment.run_clustering_analysis(X_train, [2, 3, 4, 5, 6, 7, 8, 9, 10])\n",
    "\n",
    "# save the metrics\n",
    "save_csv(kmean_metrics, f'results/{dataset}/{experiment_name}', 'kmean_metrics')\n",
    "save_csv(em_metrics, f'results/{dataset}/{experiment_name}', 'em_metrics')"
   ],
   "id": "7113f998613401c3",
   "outputs": [
    {
     "name": "stdout",
     "output_type": "stream",
     "text": [
      "Dataframe saved at results/dataset2/experiment1/kmean_metrics.csv\n",
      "Dataframe saved at results/dataset2/experiment1/em_metrics.csv\n"
     ]
    }
   ],
   "execution_count": 18
  },
  {
   "metadata": {},
   "cell_type": "markdown",
   "source": "## Plotting metrics vs number of clusters",
   "id": "4e7645357bd78733"
  },
  {
   "metadata": {},
   "cell_type": "markdown",
   "source": "### KMeans",
   "id": "9e7a741fe0e817b2"
  },
  {
   "metadata": {
    "ExecuteTime": {
     "end_time": "2024-11-05T08:22:25.071851Z",
     "start_time": "2024-11-05T08:22:25.033677Z"
    }
   },
   "cell_type": "code",
   "source": [
    "plot_metrics_vs_cluster(\n",
    "    df = kmean_metrics,\n",
    "    metric_col = 'inertia',\n",
    "    k_col = 'k',\n",
    "    dataset = dataset,\n",
    "    experiment = experiment_name,\n",
    "    algo_name='kmeans'\n",
    ")\n",
    "\n",
    "plot_metrics_vs_cluster(\n",
    "    df = kmean_metrics,\n",
    "    metric_col = 'silhouette_score',\n",
    "    k_col = 'k',\n",
    "    dataset = dataset,\n",
    "    experiment = experiment_name,\n",
    "    algo_name='kmeans'\n",
    ")\n",
    "\n",
    "plot_metrics_vs_cluster(\n",
    "    df = kmean_metrics,\n",
    "    metric_col = 'calinski_harabasz_score',\n",
    "    k_col = 'k',\n",
    "    dataset = dataset,\n",
    "    experiment = experiment_name,\n",
    "    algo_name='kmeans'\n",
    ")"
   ],
   "id": "95797350f5c6031d",
   "outputs": [
    {
     "ename": "NameError",
     "evalue": "name 'kmean_metrics' is not defined",
     "output_type": "error",
     "traceback": [
      "\u001B[0;31m---------------------------------------------------------------------------\u001B[0m",
      "\u001B[0;31mNameError\u001B[0m                                 Traceback (most recent call last)",
      "Cell \u001B[0;32mIn[40], line 2\u001B[0m\n\u001B[1;32m      1\u001B[0m plot_metrics_vs_cluster(\n\u001B[0;32m----> 2\u001B[0m     df \u001B[38;5;241m=\u001B[39m \u001B[43mkmean_metrics\u001B[49m,\n\u001B[1;32m      3\u001B[0m     metric_col \u001B[38;5;241m=\u001B[39m \u001B[38;5;124m'\u001B[39m\u001B[38;5;124minertia\u001B[39m\u001B[38;5;124m'\u001B[39m,\n\u001B[1;32m      4\u001B[0m     k_col \u001B[38;5;241m=\u001B[39m \u001B[38;5;124m'\u001B[39m\u001B[38;5;124mk\u001B[39m\u001B[38;5;124m'\u001B[39m,\n\u001B[1;32m      5\u001B[0m     dataset \u001B[38;5;241m=\u001B[39m dataset,\n\u001B[1;32m      6\u001B[0m     experiment \u001B[38;5;241m=\u001B[39m experiment_name,\n\u001B[1;32m      7\u001B[0m     algo_name\u001B[38;5;241m=\u001B[39m\u001B[38;5;124m'\u001B[39m\u001B[38;5;124mkmeans\u001B[39m\u001B[38;5;124m'\u001B[39m\n\u001B[1;32m      8\u001B[0m )\n\u001B[1;32m     10\u001B[0m plot_metrics_vs_cluster(\n\u001B[1;32m     11\u001B[0m     df \u001B[38;5;241m=\u001B[39m kmean_metrics,\n\u001B[1;32m     12\u001B[0m     metric_col \u001B[38;5;241m=\u001B[39m \u001B[38;5;124m'\u001B[39m\u001B[38;5;124msilhouette_score\u001B[39m\u001B[38;5;124m'\u001B[39m,\n\u001B[0;32m   (...)\u001B[0m\n\u001B[1;32m     16\u001B[0m     algo_name\u001B[38;5;241m=\u001B[39m\u001B[38;5;124m'\u001B[39m\u001B[38;5;124mkmeans\u001B[39m\u001B[38;5;124m'\u001B[39m\n\u001B[1;32m     17\u001B[0m )\n\u001B[1;32m     19\u001B[0m plot_metrics_vs_cluster(\n\u001B[1;32m     20\u001B[0m     df \u001B[38;5;241m=\u001B[39m kmean_metrics,\n\u001B[1;32m     21\u001B[0m     metric_col \u001B[38;5;241m=\u001B[39m \u001B[38;5;124m'\u001B[39m\u001B[38;5;124mcalinski_harabasz_score\u001B[39m\u001B[38;5;124m'\u001B[39m,\n\u001B[0;32m   (...)\u001B[0m\n\u001B[1;32m     25\u001B[0m     algo_name\u001B[38;5;241m=\u001B[39m\u001B[38;5;124m'\u001B[39m\u001B[38;5;124mkmeans\u001B[39m\u001B[38;5;124m'\u001B[39m\n\u001B[1;32m     26\u001B[0m )\n",
      "\u001B[0;31mNameError\u001B[0m: name 'kmean_metrics' is not defined"
     ]
    }
   ],
   "execution_count": 40
  },
  {
   "metadata": {},
   "cell_type": "markdown",
   "source": "### EM",
   "id": "7b2fdeb54057dcca"
  },
  {
   "metadata": {
    "ExecuteTime": {
     "end_time": "2024-10-31T06:49:04.265922Z",
     "start_time": "2024-10-31T06:49:01.057428Z"
    }
   },
   "cell_type": "code",
   "source": [
    "plot_metrics_vs_cluster(\n",
    "    df = em_metrics,\n",
    "    metric_col = 'bic',\n",
    "    k_col = 'k',\n",
    "    dataset = dataset,\n",
    "    experiment = experiment_name,\n",
    "    algo_name='em'\n",
    ")\n",
    "\n",
    "plot_metrics_vs_cluster(\n",
    "    df = em_metrics,\n",
    "    metric_col = 'aic',\n",
    "    k_col = 'k',\n",
    "    dataset = dataset,\n",
    "    experiment = experiment_name,\n",
    "    algo_name='em'\n",
    ")\n",
    "\n",
    "plot_metrics_vs_cluster(\n",
    "    df = em_metrics,\n",
    "    metric_col = 'silhouette_score',\n",
    "    k_col = 'k',\n",
    "    dataset = dataset,\n",
    "    experiment = experiment_name,\n",
    "    algo_name='em'\n",
    ")\n",
    "\n",
    "plot_metrics_vs_cluster(\n",
    "    df = em_metrics,\n",
    "    metric_col = 'calinski_harabasz_score',\n",
    "    k_col = 'k',\n",
    "    dataset = dataset,\n",
    "    experiment = experiment_name,\n",
    "    algo_name='em'\n",
    ")"
   ],
   "id": "5bde5673caaf72ca",
   "outputs": [
    {
     "name": "stdout",
     "output_type": "stream",
     "text": [
      "Plot saved at figs/dataset2/experiment1/bic_vs_k_em.png\n",
      "Plot saved at figs/dataset2/experiment1/aic_vs_k_em.png\n",
      "Plot saved at figs/dataset2/experiment1/silhouette_score_vs_k_em.png\n",
      "Plot saved at figs/dataset2/experiment1/calinski_harabasz_score_vs_k_em.png\n"
     ]
    }
   ],
   "execution_count": 20
  },
  {
   "metadata": {},
   "cell_type": "markdown",
   "source": "## Combine EM and KMeans metrics",
   "id": "5714525bf594c6f5"
  },
  {
   "metadata": {
    "ExecuteTime": {
     "end_time": "2024-10-31T06:49:04.967304Z",
     "start_time": "2024-10-31T06:49:04.276319Z"
    }
   },
   "cell_type": "code",
   "source": [
    "kmean_metrics_copy = kmean_metrics[['k', 'silhouette_score', 'calinski_harabasz_score']].copy()\n",
    "kmean_metrics_copy['algo'] = 'kmeans'\n",
    "em_metrics_copy = em_metrics[['k', 'silhouette_score', 'calinski_harabasz_score']].copy()\n",
    "em_metrics_copy['algo'] = 'em'\n",
    "\n",
    "combined_metrics = pd.concat([kmean_metrics_copy, em_metrics_copy], axis=0)\n",
    "# draw the combined plot\n",
    "plot_metrics_vs_cluster(\n",
    "    df = combined_metrics,\n",
    "    metric_col = 'silhouette_score',\n",
    "    k_col = 'k',\n",
    "    group_col= 'algo',\n",
    "    dataset = dataset,\n",
    "    experiment = experiment_name\n",
    ")\n",
    "\n",
    "plot_metrics_vs_cluster(\n",
    "    df = combined_metrics,\n",
    "    metric_col = 'calinski_harabasz_score',\n",
    "    k_col = 'k',\n",
    "    group_col= 'algo',\n",
    "    dataset = dataset,\n",
    "    experiment = experiment_name\n",
    ")"
   ],
   "id": "a0871b73a8bf4c5c",
   "outputs": [
    {
     "name": "stdout",
     "output_type": "stream",
     "text": [
      "Plot saved at figs/dataset2/experiment1/silhouette_score_vs_k_em_kmeans.png\n",
      "Plot saved at figs/dataset2/experiment1/calinski_harabasz_score_vs_k_em_kmeans.png\n"
     ]
    }
   ],
   "execution_count": 21
  },
  {
   "metadata": {},
   "cell_type": "markdown",
   "source": "## Supervised metrics",
   "id": "3546beaadb0b14c"
  },
  {
   "metadata": {
    "ExecuteTime": {
     "end_time": "2024-11-09T23:31:28.805421Z",
     "start_time": "2024-11-09T23:31:28.338861Z"
    }
   },
   "cell_type": "code",
   "source": [
    "optimal_k = {\n",
    "    'kmeans': 5,\n",
    "    'em': 5\n",
    "}\n",
    "evaluation_results = experiment.evaluate_clustering(X_train, y_train, optimal_k)\n",
    "\n",
    "# Analyze cluster composition for each algorithm\n",
    "kmeans_labels = experiment.kmeans.fit(X_train, optimal_k['kmeans'])\n",
    "em_labels = experiment.em.fit(X_train, optimal_k['em'])\n",
    "kmeans_composition = experiment.analyze_cluster_composition(kmeans_labels, y_train)\n",
    "em_composition = experiment.analyze_cluster_composition(em_labels, y_train)\n",
    "\n",
    "print(\"\\nK-Means Cluster Composition:\")\n",
    "print(kmeans_composition)\n",
    "print(\"\\nEM Cluster Composition:\")\n",
    "print(em_composition)"
   ],
   "id": "a4ccdbaf7303013b",
   "outputs": [
    {
     "name": "stdout",
     "output_type": "stream",
     "text": [
      "\n",
      "K-Means Cluster Composition:\n",
      "True_Label          0          1  Size\n",
      "Cluster                               \n",
      "0           53.551913  46.448087   366\n",
      "1           50.143266  49.856734   349\n",
      "2           49.157303  50.842697   356\n",
      "3           46.118721  53.881279   438\n",
      "4           45.413870  54.586130   447\n",
      "\n",
      "EM Cluster Composition:\n",
      "True_Label          0          1  Size\n",
      "Cluster                               \n",
      "0           53.551913  46.448087   366\n",
      "1           50.143266  49.856734   349\n",
      "2           49.157303  50.842697   356\n",
      "3           46.118721  53.881279   438\n",
      "4           45.413870  54.586130   447\n"
     ]
    }
   ],
   "execution_count": 45
  },
  {
   "metadata": {
    "ExecuteTime": {
     "end_time": "2024-11-09T23:31:30.635979Z",
     "start_time": "2024-11-09T23:31:30.617003Z"
    }
   },
   "cell_type": "code",
   "source": "evaluation_results",
   "id": "5edff6cf768957fa",
   "outputs": [
    {
     "data": {
      "text/plain": [
       "{'kmeans': {'adjusted_rand': 0.0007321870120870233,\n",
       "  'normalized_mutual_info': np.float64(0.0015293243969372338),\n",
       "  'adjusted_mutual_info': np.float64(0.0006379920142519834),\n",
       "  'homogeneity': np.float64(0.002534740254391495),\n",
       "  'completeness': np.float64(0.001094991290911947)},\n",
       " 'em': {'adjusted_rand': 0.0007321870120870233,\n",
       "  'normalized_mutual_info': np.float64(0.0015293243969372338),\n",
       "  'adjusted_mutual_info': np.float64(0.0006379920142519834),\n",
       "  'homogeneity': np.float64(0.002534740254391495),\n",
       "  'completeness': np.float64(0.001094991290911947)}}"
      ]
     },
     "execution_count": 46,
     "metadata": {},
     "output_type": "execute_result"
    }
   ],
   "execution_count": 46
  },
  {
   "metadata": {
    "ExecuteTime": {
     "end_time": "2024-11-05T08:23:49.926093Z",
     "start_time": "2024-11-05T08:23:36.803645Z"
    }
   },
   "cell_type": "code",
   "source": [
    "# plot\n",
    "visualize_clusters_tsne(\n",
    "    X=X_train,\n",
    "    labels=kmeans_labels,\n",
    "    dataset=dataset,\n",
    "    experiment=experiment_name,\n",
    "    algorithm='kmeans',\n",
    "    random_state=7,\n",
    "    sample_size=2000\n",
    ")\n",
    "\n",
    "visualize_clusters_tsne(\n",
    "    X=X_train,\n",
    "    labels=em_labels,\n",
    "    dataset=dataset,\n",
    "    experiment=experiment_name,\n",
    "    algorithm='gmm',\n",
    "    random_state=7,\n",
    "    sample_size=2000\n",
    ")\n",
    "\n",
    "visualize_clusters_tsne(\n",
    "    X=X_train,\n",
    "    labels=y_train,\n",
    "    dataset=dataset,\n",
    "    experiment=experiment_name,\n",
    "    algorithm='true_label',\n",
    "    random_state=7,\n",
    "    sample_size=2000\n",
    ")"
   ],
   "id": "12a141ea38310396",
   "outputs": [
    {
     "name": "stdout",
     "output_type": "stream",
     "text": [
      "Plot saved at figs/dataset2/experiment1/tsne_visualization_kmeans.png\n",
      "Plot saved at figs/dataset2/experiment1/tsne_visualization_gmm.png\n",
      "Plot saved at figs/dataset2/experiment1/tsne_visualization_true_label.png\n"
     ]
    }
   ],
   "execution_count": 43
  },
  {
   "metadata": {},
   "cell_type": "code",
   "outputs": [],
   "execution_count": null,
   "source": "",
   "id": "b0d21c59c088ff00"
  }
 ],
 "metadata": {
  "kernelspec": {
   "display_name": "Python (unsupervised)",
   "language": "python",
   "name": "unsupervised"
  },
  "language_info": {
   "codemirror_mode": {
    "name": "ipython",
    "version": 2
   },
   "file_extension": ".py",
   "mimetype": "text/x-python",
   "name": "python",
   "nbconvert_exporter": "python",
   "pygments_lexer": "ipython2",
   "version": "2.7.6"
  }
 },
 "nbformat": 4,
 "nbformat_minor": 5
}
