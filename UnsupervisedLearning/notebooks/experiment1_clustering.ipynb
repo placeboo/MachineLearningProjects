{
 "cells": [
  {
   "cell_type": "code",
   "id": "initial_id",
   "metadata": {
    "collapsed": true,
    "ExecuteTime": {
     "end_time": "2024-10-28T05:16:05.328185Z",
     "start_time": "2024-10-28T05:16:05.057247Z"
    }
   },
   "source": [
    "import os\n",
    "\n",
    "import pandas as pd\n",
    "\n",
    "os.chdir('../')\n",
    "print(os.getcwd())"
   ],
   "outputs": [
    {
     "name": "stdout",
     "output_type": "stream",
     "text": [
      "/Users/Placebo/OMSCS/CS7641-ML/MachineLearningProjects/UnsupervisedLearning\n"
     ]
    }
   ],
   "execution_count": 1
  },
  {
   "metadata": {
    "ExecuteTime": {
     "end_time": "2024-10-28T05:16:05.622604Z",
     "start_time": "2024-10-28T05:16:05.394706Z"
    }
   },
   "cell_type": "code",
   "source": [
    "import pandas as pd\n",
    "%matplotlib inline"
   ],
   "id": "828896e5bad805e1",
   "outputs": [],
   "execution_count": 2
  },
  {
   "metadata": {
    "ExecuteTime": {
     "end_time": "2024-10-28T05:16:06.321737Z",
     "start_time": "2024-10-28T05:16:05.681129Z"
    }
   },
   "cell_type": "code",
   "source": [
    "%load_ext autoreload\n",
    "%autoreload 2\n",
    "from src.utlis.data_loader import load_processed_data, save_csv\n",
    "from src.utlis.plotting import plot_metrics_vs_cluster, plot_cluster_evaluation\n",
    "from src.experiments.experiment1_clustering import ClusteringExperiment"
   ],
   "id": "3afd9a4a4b49cc7b",
   "outputs": [],
   "execution_count": 3
  },
  {
   "metadata": {},
   "cell_type": "markdown",
   "source": "# Dataset 1",
   "id": "d83d347e35196602"
  },
  {
   "metadata": {
    "ExecuteTime": {
     "end_time": "2024-10-28T05:28:02.156982Z",
     "start_time": "2024-10-28T05:28:02.110549Z"
    }
   },
   "cell_type": "code",
   "source": [
    "X_train, _, y_train, _ = load_processed_data('data/dataset1')\n",
    "\n",
    "dataset = 'dataset1'\n",
    "experiment_name = 'experiment1'\n",
    "y_train = (y_train + 1) / 2"
   ],
   "id": "8c5bbb3cdb648ec3",
   "outputs": [],
   "execution_count": 28
  },
  {
   "metadata": {},
   "cell_type": "markdown",
   "source": "## Running clustering analysis",
   "id": "d94083827822ed3d"
  },
  {
   "metadata": {
    "ExecuteTime": {
     "end_time": "2024-10-28T05:16:06.357487Z",
     "start_time": "2024-10-28T05:16:06.348682Z"
    }
   },
   "cell_type": "code",
   "source": "experiment = ClusteringExperiment()",
   "id": "66d3a423fcd271db",
   "outputs": [],
   "execution_count": 5
  },
  {
   "metadata": {
    "ExecuteTime": {
     "end_time": "2024-10-28T05:17:56.443277Z",
     "start_time": "2024-10-28T05:16:06.361931Z"
    }
   },
   "cell_type": "code",
   "source": "kmean_metrics, em_metrics = experiment.run_clustering_analysis(X_train, [2, 3, 4, 5, 6, 7, 8, 9, 10])",
   "id": "919189636ce820b1",
   "outputs": [],
   "execution_count": 6
  },
  {
   "metadata": {
    "ExecuteTime": {
     "end_time": "2024-10-28T05:17:56.485122Z",
     "start_time": "2024-10-28T05:17:56.460761Z"
    }
   },
   "cell_type": "code",
   "source": [
    "# save the metrics\n",
    "save_csv(kmean_metrics, f'results/{dataset}/{experiment}', 'kmean_metrics')\n",
    "save_csv(em_metrics, f'results/{dataset}/{experiment}', 'em_metrics')"
   ],
   "id": "3178bff15bd7e5a9",
   "outputs": [
    {
     "name": "stdout",
     "output_type": "stream",
     "text": [
      "Dataframe saved at results/dataset1/<src.experiments.experiment1_clustering.ClusteringExperiment object at 0x10b20fc70>/kmean_metrics.csv\n",
      "Dataframe saved at results/dataset1/<src.experiments.experiment1_clustering.ClusteringExperiment object at 0x10b20fc70>/em_metrics.csv\n"
     ]
    }
   ],
   "execution_count": 7
  },
  {
   "metadata": {
    "ExecuteTime": {
     "end_time": "2024-10-28T05:17:56.587300Z",
     "start_time": "2024-10-28T05:17:56.573060Z"
    }
   },
   "cell_type": "code",
   "source": "kmean_metrics",
   "id": "54d42483c37111e",
   "outputs": [
    {
     "data": {
      "text/plain": [
       "    k        inertia  silhouette_score  calinski_harabasz_score\n",
       "0   2  242217.162993          0.356298             15955.205776\n",
       "1   3  218935.132103          0.328759             10577.508308\n",
       "2   4  201482.086697          0.316308              8613.576026\n",
       "3   5  188935.601997          0.165136              7435.911178\n",
       "4   6  172862.321850          0.175728              7114.310496\n",
       "5   7  166622.963009          0.163640              6356.003767\n",
       "6   8  150718.297115          0.192366              6519.333797\n",
       "7   9  145803.318372          0.182262              6035.330531\n",
       "8  10  137264.522294          0.180765              5925.975385"
      ],
      "text/html": [
       "<div>\n",
       "<style scoped>\n",
       "    .dataframe tbody tr th:only-of-type {\n",
       "        vertical-align: middle;\n",
       "    }\n",
       "\n",
       "    .dataframe tbody tr th {\n",
       "        vertical-align: top;\n",
       "    }\n",
       "\n",
       "    .dataframe thead th {\n",
       "        text-align: right;\n",
       "    }\n",
       "</style>\n",
       "<table border=\"1\" class=\"dataframe\">\n",
       "  <thead>\n",
       "    <tr style=\"text-align: right;\">\n",
       "      <th></th>\n",
       "      <th>k</th>\n",
       "      <th>inertia</th>\n",
       "      <th>silhouette_score</th>\n",
       "      <th>calinski_harabasz_score</th>\n",
       "    </tr>\n",
       "  </thead>\n",
       "  <tbody>\n",
       "    <tr>\n",
       "      <th>0</th>\n",
       "      <td>2</td>\n",
       "      <td>242217.162993</td>\n",
       "      <td>0.356298</td>\n",
       "      <td>15955.205776</td>\n",
       "    </tr>\n",
       "    <tr>\n",
       "      <th>1</th>\n",
       "      <td>3</td>\n",
       "      <td>218935.132103</td>\n",
       "      <td>0.328759</td>\n",
       "      <td>10577.508308</td>\n",
       "    </tr>\n",
       "    <tr>\n",
       "      <th>2</th>\n",
       "      <td>4</td>\n",
       "      <td>201482.086697</td>\n",
       "      <td>0.316308</td>\n",
       "      <td>8613.576026</td>\n",
       "    </tr>\n",
       "    <tr>\n",
       "      <th>3</th>\n",
       "      <td>5</td>\n",
       "      <td>188935.601997</td>\n",
       "      <td>0.165136</td>\n",
       "      <td>7435.911178</td>\n",
       "    </tr>\n",
       "    <tr>\n",
       "      <th>4</th>\n",
       "      <td>6</td>\n",
       "      <td>172862.321850</td>\n",
       "      <td>0.175728</td>\n",
       "      <td>7114.310496</td>\n",
       "    </tr>\n",
       "    <tr>\n",
       "      <th>5</th>\n",
       "      <td>7</td>\n",
       "      <td>166622.963009</td>\n",
       "      <td>0.163640</td>\n",
       "      <td>6356.003767</td>\n",
       "    </tr>\n",
       "    <tr>\n",
       "      <th>6</th>\n",
       "      <td>8</td>\n",
       "      <td>150718.297115</td>\n",
       "      <td>0.192366</td>\n",
       "      <td>6519.333797</td>\n",
       "    </tr>\n",
       "    <tr>\n",
       "      <th>7</th>\n",
       "      <td>9</td>\n",
       "      <td>145803.318372</td>\n",
       "      <td>0.182262</td>\n",
       "      <td>6035.330531</td>\n",
       "    </tr>\n",
       "    <tr>\n",
       "      <th>8</th>\n",
       "      <td>10</td>\n",
       "      <td>137264.522294</td>\n",
       "      <td>0.180765</td>\n",
       "      <td>5925.975385</td>\n",
       "    </tr>\n",
       "  </tbody>\n",
       "</table>\n",
       "</div>"
      ]
     },
     "execution_count": 8,
     "metadata": {},
     "output_type": "execute_result"
    }
   ],
   "execution_count": 8
  },
  {
   "metadata": {
    "ExecuteTime": {
     "end_time": "2024-10-28T05:17:56.630097Z",
     "start_time": "2024-10-28T05:17:56.617188Z"
    }
   },
   "cell_type": "code",
   "source": "em_metrics",
   "id": "315409bad721248c",
   "outputs": [
    {
     "data": {
      "text/plain": [
       "    k           bic           aic  silhouette_score  calinski_harabasz_score\n",
       "0   2 -3.908654e+06 -3.916981e+06          0.351659             15756.646518\n",
       "1   3 -4.288376e+06 -4.300871e+06          0.328779             10575.345839\n",
       "2   4 -4.646596e+06 -4.663259e+06          0.105896              7698.849624\n",
       "3   5 -5.053826e+06 -5.074656e+06          0.060743              5549.354114\n",
       "4   6 -5.197423e+06 -5.222421e+06          0.065142              4790.882108\n",
       "5   7 -5.496099e+06 -5.525264e+06          0.134725              4651.982121\n",
       "6   8 -5.829355e+06 -5.862689e+06          0.107209              4145.348704\n",
       "7   9 -6.239176e+06 -6.276678e+06          0.094386              3712.646387\n",
       "8  10 -6.064042e+06 -6.105711e+06          0.094827              3631.795055"
      ],
      "text/html": [
       "<div>\n",
       "<style scoped>\n",
       "    .dataframe tbody tr th:only-of-type {\n",
       "        vertical-align: middle;\n",
       "    }\n",
       "\n",
       "    .dataframe tbody tr th {\n",
       "        vertical-align: top;\n",
       "    }\n",
       "\n",
       "    .dataframe thead th {\n",
       "        text-align: right;\n",
       "    }\n",
       "</style>\n",
       "<table border=\"1\" class=\"dataframe\">\n",
       "  <thead>\n",
       "    <tr style=\"text-align: right;\">\n",
       "      <th></th>\n",
       "      <th>k</th>\n",
       "      <th>bic</th>\n",
       "      <th>aic</th>\n",
       "      <th>silhouette_score</th>\n",
       "      <th>calinski_harabasz_score</th>\n",
       "    </tr>\n",
       "  </thead>\n",
       "  <tbody>\n",
       "    <tr>\n",
       "      <th>0</th>\n",
       "      <td>2</td>\n",
       "      <td>-3.908654e+06</td>\n",
       "      <td>-3.916981e+06</td>\n",
       "      <td>0.351659</td>\n",
       "      <td>15756.646518</td>\n",
       "    </tr>\n",
       "    <tr>\n",
       "      <th>1</th>\n",
       "      <td>3</td>\n",
       "      <td>-4.288376e+06</td>\n",
       "      <td>-4.300871e+06</td>\n",
       "      <td>0.328779</td>\n",
       "      <td>10575.345839</td>\n",
       "    </tr>\n",
       "    <tr>\n",
       "      <th>2</th>\n",
       "      <td>4</td>\n",
       "      <td>-4.646596e+06</td>\n",
       "      <td>-4.663259e+06</td>\n",
       "      <td>0.105896</td>\n",
       "      <td>7698.849624</td>\n",
       "    </tr>\n",
       "    <tr>\n",
       "      <th>3</th>\n",
       "      <td>5</td>\n",
       "      <td>-5.053826e+06</td>\n",
       "      <td>-5.074656e+06</td>\n",
       "      <td>0.060743</td>\n",
       "      <td>5549.354114</td>\n",
       "    </tr>\n",
       "    <tr>\n",
       "      <th>4</th>\n",
       "      <td>6</td>\n",
       "      <td>-5.197423e+06</td>\n",
       "      <td>-5.222421e+06</td>\n",
       "      <td>0.065142</td>\n",
       "      <td>4790.882108</td>\n",
       "    </tr>\n",
       "    <tr>\n",
       "      <th>5</th>\n",
       "      <td>7</td>\n",
       "      <td>-5.496099e+06</td>\n",
       "      <td>-5.525264e+06</td>\n",
       "      <td>0.134725</td>\n",
       "      <td>4651.982121</td>\n",
       "    </tr>\n",
       "    <tr>\n",
       "      <th>6</th>\n",
       "      <td>8</td>\n",
       "      <td>-5.829355e+06</td>\n",
       "      <td>-5.862689e+06</td>\n",
       "      <td>0.107209</td>\n",
       "      <td>4145.348704</td>\n",
       "    </tr>\n",
       "    <tr>\n",
       "      <th>7</th>\n",
       "      <td>9</td>\n",
       "      <td>-6.239176e+06</td>\n",
       "      <td>-6.276678e+06</td>\n",
       "      <td>0.094386</td>\n",
       "      <td>3712.646387</td>\n",
       "    </tr>\n",
       "    <tr>\n",
       "      <th>8</th>\n",
       "      <td>10</td>\n",
       "      <td>-6.064042e+06</td>\n",
       "      <td>-6.105711e+06</td>\n",
       "      <td>0.094827</td>\n",
       "      <td>3631.795055</td>\n",
       "    </tr>\n",
       "  </tbody>\n",
       "</table>\n",
       "</div>"
      ]
     },
     "execution_count": 9,
     "metadata": {},
     "output_type": "execute_result"
    }
   ],
   "execution_count": 9
  },
  {
   "metadata": {},
   "cell_type": "markdown",
   "source": "## Plotting metrics vs number of clusters",
   "id": "aaa1600809a56df1"
  },
  {
   "metadata": {},
   "cell_type": "markdown",
   "source": "### KMeans",
   "id": "d9720257e6021e54"
  },
  {
   "metadata": {
    "ExecuteTime": {
     "end_time": "2024-10-28T05:17:59.349349Z",
     "start_time": "2024-10-28T05:17:56.688910Z"
    }
   },
   "cell_type": "code",
   "source": [
    "plot_metrics_vs_cluster(\n",
    "    df = kmean_metrics,\n",
    "    metric_col = 'inertia',\n",
    "    k_col = 'k',\n",
    "    dataset = 'dataset1',\n",
    "    experiment = 'experiment1',\n",
    "    algo_name='kmeans'\n",
    ")\n",
    "\n",
    "plot_metrics_vs_cluster(\n",
    "    df = kmean_metrics,\n",
    "    metric_col = 'silhouette_score',\n",
    "    k_col = 'k',\n",
    "    dataset = 'dataset1',\n",
    "    experiment = 'experiment1',\n",
    "    algo_name='kmeans'\n",
    ")\n",
    "\n",
    "plot_metrics_vs_cluster(\n",
    "    df = kmean_metrics,\n",
    "    metric_col = 'calinski_harabasz_score',\n",
    "    k_col = 'k',\n",
    "    dataset = 'dataset1',\n",
    "    experiment = 'experiment1',\n",
    "    algo_name='kmeans'\n",
    ")"
   ],
   "id": "bb12748efd983370",
   "outputs": [
    {
     "name": "stdout",
     "output_type": "stream",
     "text": [
      "Plot saved at figs/dataset1/experiment1/inertia_vs_k_kmeans.png\n",
      "Plot saved at figs/dataset1/experiment1/silhouette_score_vs_k_kmeans.png\n",
      "Plot saved at figs/dataset1/experiment1/calinski_harabasz_score_vs_k_kmeans.png\n"
     ]
    }
   ],
   "execution_count": 10
  },
  {
   "metadata": {},
   "cell_type": "markdown",
   "source": "### EM\n",
   "id": "caf22a1adb7c206c"
  },
  {
   "metadata": {
    "ExecuteTime": {
     "end_time": "2024-10-28T05:18:01.817790Z",
     "start_time": "2024-10-28T05:17:59.367698Z"
    }
   },
   "cell_type": "code",
   "source": [
    "plot_metrics_vs_cluster(\n",
    "    df = em_metrics,\n",
    "    metric_col = 'bic',\n",
    "    k_col = 'k',\n",
    "    dataset = 'dataset1',\n",
    "    experiment = 'experiment1',\n",
    "    algo_name='em'\n",
    ")\n",
    "\n",
    "plot_metrics_vs_cluster(\n",
    "    df = em_metrics,\n",
    "    metric_col = 'aic',\n",
    "    k_col = 'k',\n",
    "    dataset = 'dataset1',\n",
    "    experiment = 'experiment1',\n",
    "    algo_name='em'\n",
    ")\n",
    "\n",
    "plot_metrics_vs_cluster(\n",
    "    df = em_metrics,\n",
    "    metric_col = 'silhouette_score',\n",
    "    k_col = 'k',\n",
    "    dataset = 'dataset1',\n",
    "    experiment = 'experiment1',\n",
    "    algo_name='em'\n",
    ")\n",
    "\n",
    "plot_metrics_vs_cluster(\n",
    "    df = em_metrics,\n",
    "    metric_col = 'calinski_harabasz_score',\n",
    "    k_col = 'k',\n",
    "    dataset = 'dataset1',\n",
    "    experiment = 'experiment1',\n",
    "    algo_name='em'\n",
    ")\n",
    "\n"
   ],
   "id": "a66ac1b112309da0",
   "outputs": [
    {
     "name": "stdout",
     "output_type": "stream",
     "text": [
      "Plot saved at figs/dataset1/experiment1/bic_vs_k_em.png\n",
      "Plot saved at figs/dataset1/experiment1/aic_vs_k_em.png\n",
      "Plot saved at figs/dataset1/experiment1/silhouette_score_vs_k_em.png\n",
      "Plot saved at figs/dataset1/experiment1/calinski_harabasz_score_vs_k_em.png\n"
     ]
    }
   ],
   "execution_count": 11
  },
  {
   "metadata": {},
   "cell_type": "markdown",
   "source": "## Combine EM and KMeans metrics",
   "id": "9d28cbe3332f7e9d"
  },
  {
   "metadata": {
    "ExecuteTime": {
     "end_time": "2024-10-28T05:18:02.591691Z",
     "start_time": "2024-10-28T05:18:01.877715Z"
    }
   },
   "cell_type": "code",
   "source": [
    "kmean_metrics_copy = kmean_metrics[['k', 'silhouette_score', 'calinski_harabasz_score']].copy()\n",
    "kmean_metrics_copy['algo'] = 'kmeans'\n",
    "em_metrics_copy = em_metrics[['k', 'silhouette_score', 'calinski_harabasz_score']].copy()\n",
    "em_metrics_copy['algo'] = 'em'\n",
    "\n",
    "combined_metrics = pd.concat([kmean_metrics_copy, em_metrics_copy], axis=0)\n",
    "# draw the combined plot\n",
    "plot_metrics_vs_cluster(\n",
    "    df = combined_metrics,\n",
    "    metric_col = 'silhouette_score',\n",
    "    k_col = 'k',\n",
    "    group_col= 'algo',\n",
    "    dataset = 'dataset1',\n",
    "    experiment = 'experiment1'\n",
    ")\n",
    "\n",
    "plot_metrics_vs_cluster(\n",
    "    df = combined_metrics,\n",
    "    metric_col = 'calinski_harabasz_score',\n",
    "    k_col = 'k',\n",
    "    group_col= 'algo',\n",
    "    dataset = 'dataset1',\n",
    "    experiment = 'experiment1'\n",
    ")"
   ],
   "id": "b3823446731c3ba4",
   "outputs": [
    {
     "name": "stdout",
     "output_type": "stream",
     "text": [
      "Plot saved at figs/dataset1/experiment1/silhouette_score_vs_k_em_kmeans.png\n",
      "Plot saved at figs/dataset1/experiment1/calinski_harabasz_score_vs_k_em_kmeans.png\n"
     ]
    }
   ],
   "execution_count": 12
  },
  {
   "metadata": {},
   "cell_type": "markdown",
   "source": "## Supervised metrics",
   "id": "8ad36bcf7dbb8a8a"
  },
  {
   "metadata": {
    "ExecuteTime": {
     "end_time": "2024-10-28T05:28:12.699469Z",
     "start_time": "2024-10-28T05:28:12.520650Z"
    }
   },
   "cell_type": "code",
   "source": [
    "optimal_k = {\n",
    "    'kmeans': 2,\n",
    "    'em': 2\n",
    "}\n",
    "evaluation_results = experiment.evaluate_clustering(X_train, y_train, optimal_k)"
   ],
   "id": "eea507012d5777b2",
   "outputs": [],
   "execution_count": 30
  },
  {
   "metadata": {
    "ExecuteTime": {
     "end_time": "2024-10-28T05:28:13.550565Z",
     "start_time": "2024-10-28T05:28:13.438859Z"
    }
   },
   "cell_type": "code",
   "source": [
    "# Analyze cluster composition for each algorithm\n",
    "kmeans_labels = experiment.kmeans.fit(X_train, optimal_k['kmeans'])\n",
    "em_labels = experiment.em.fit(X_train, optimal_k['em'])\n",
    "kmeans_composition = experiment.analyze_cluster_composition(kmeans_labels, y_train)\n",
    "em_composition = experiment.analyze_cluster_composition(em_labels, y_train)\n",
    "\n",
    "print(\"\\nK-Means Cluster Composition:\")\n",
    "print(kmeans_composition)\n",
    "print(\"\\nEM Cluster Composition:\")\n",
    "print(em_composition)"
   ],
   "id": "fbd9d97cfd63efd3",
   "outputs": [
    {
     "name": "stdout",
     "output_type": "stream",
     "text": [
      "\n",
      "K-Means Cluster Composition:\n",
      "True_Label        0.0        1.0   Size\n",
      "Cluster                                \n",
      "0           95.202765   4.797235  21700\n",
      "1           76.177778  23.822222  11250\n",
      "\n",
      "EM Cluster Composition:\n",
      "True_Label        0.0        1.0   Size\n",
      "Cluster                                \n",
      "0           95.351870   4.648130  21471\n",
      "1           76.278421  23.721579  11479\n"
     ]
    }
   ],
   "execution_count": 31
  },
  {
   "metadata": {
    "ExecuteTime": {
     "end_time": "2024-10-28T05:28:18.322188Z",
     "start_time": "2024-10-28T05:28:18.306866Z"
    }
   },
   "cell_type": "code",
   "source": "evaluation_results",
   "id": "298cf89c79f3126e",
   "outputs": [
    {
     "data": {
      "text/plain": [
       "{'kmeans': {'adjusted_rand': 0.1205605385237297,\n",
       "  'normalized_mutual_info': np.float64(0.07715521390770433),\n",
       "  'adjusted_mutual_info': np.float64(0.07712704835389132),\n",
       "  'homogeneity': np.float64(0.10881666504885362),\n",
       "  'completeness': np.float64(0.05976570085273393),\n",
       "  'v_measure': np.float64(0.07715521390770433)},\n",
       " 'em': {'adjusted_rand': 0.1177957347269449,\n",
       "  'normalized_mutual_info': np.float64(0.07851231469374532),\n",
       "  'adjusted_mutual_info': np.float64(0.07848431613410364),\n",
       "  'homogeneity': np.float64(0.11122707025529976),\n",
       "  'completeness': np.float64(0.06066822268503489),\n",
       "  'v_measure': np.float64(0.07851231469374532)}}"
      ]
     },
     "execution_count": 32,
     "metadata": {},
     "output_type": "execute_result"
    }
   ],
   "execution_count": 32
  },
  {
   "metadata": {
    "ExecuteTime": {
     "end_time": "2024-10-28T05:28:37.432483Z",
     "start_time": "2024-10-28T05:28:37.058601Z"
    }
   },
   "cell_type": "code",
   "source": [
    "# Plot evaluation metrics\n",
    "plot_cluster_evaluation(\n",
    "    evaluation_results,\n",
    "    dataset = dataset,\n",
    "    experiment = experiment_name\n",
    ")"
   ],
   "id": "eec9a5cca826f7c7",
   "outputs": [
    {
     "name": "stdout",
     "output_type": "stream",
     "text": [
      "Plot saved at figs/dataset1/experiment1/clustering_evaluation_metrics_comparison.png\n"
     ]
    }
   ],
   "execution_count": 33
  },
  {
   "metadata": {},
   "cell_type": "markdown",
   "source": "# Dataset 2",
   "id": "e3512fd488485e64"
  },
  {
   "metadata": {
    "ExecuteTime": {
     "end_time": "2024-10-28T05:38:09.692108Z",
     "start_time": "2024-10-28T05:38:09.670911Z"
    }
   },
   "cell_type": "code",
   "source": [
    "X_train, _, y_train, _ = load_processed_data('data/dataset2')\n",
    "dataset = 'dataset2'\n",
    "experiment_name = 'experiment1'"
   ],
   "id": "91bcfcd1ff269a95",
   "outputs": [],
   "execution_count": 35
  },
  {
   "metadata": {},
   "cell_type": "markdown",
   "source": "## Running clustering analysis",
   "id": "5d1d04cdc0f9cf6d"
  },
  {
   "metadata": {
    "ExecuteTime": {
     "end_time": "2024-10-28T05:18:03.268412Z",
     "start_time": "2024-10-28T05:18:03.258267Z"
    }
   },
   "cell_type": "code",
   "source": "experiment = ClusteringExperiment()",
   "id": "8e5c742b5f3df488",
   "outputs": [],
   "execution_count": 18
  },
  {
   "metadata": {
    "ExecuteTime": {
     "end_time": "2024-10-28T05:18:05.282097Z",
     "start_time": "2024-10-28T05:18:03.277273Z"
    }
   },
   "cell_type": "code",
   "source": [
    "kmean_metrics, em_metrics = experiment.run_clustering_analysis(X_train, [2, 3, 4, 5, 6, 7, 8, 9, 10])\n",
    "\n",
    "# save the metrics\n",
    "save_csv(kmean_metrics, f'results/{dataset}/{experiment}', 'kmean_metrics')\n",
    "save_csv(em_metrics, f'results/{dataset}/{experiment}', 'em_metrics')"
   ],
   "id": "7113f998613401c3",
   "outputs": [
    {
     "name": "stdout",
     "output_type": "stream",
     "text": [
      "Dataframe saved at results/dataset2/<src.experiments.experiment1_clustering.ClusteringExperiment object at 0x11c8c3c70>/kmean_metrics.csv\n",
      "Dataframe saved at results/dataset2/<src.experiments.experiment1_clustering.ClusteringExperiment object at 0x11c8c3c70>/em_metrics.csv\n"
     ]
    }
   ],
   "execution_count": 19
  },
  {
   "metadata": {},
   "cell_type": "markdown",
   "source": "## Plotting metrics vs number of clusters",
   "id": "4e7645357bd78733"
  },
  {
   "metadata": {},
   "cell_type": "markdown",
   "source": "### KMeans",
   "id": "9e7a741fe0e817b2"
  },
  {
   "metadata": {
    "ExecuteTime": {
     "end_time": "2024-10-28T05:18:07.533715Z",
     "start_time": "2024-10-28T05:18:05.293491Z"
    }
   },
   "cell_type": "code",
   "source": [
    "plot_metrics_vs_cluster(\n",
    "    df = kmean_metrics,\n",
    "    metric_col = 'inertia',\n",
    "    k_col = 'k',\n",
    "    dataset = dataset,\n",
    "    experiment = experiment_name,\n",
    "    algo_name='kmeans'\n",
    ")\n",
    "\n",
    "plot_metrics_vs_cluster(\n",
    "    df = kmean_metrics,\n",
    "    metric_col = 'silhouette_score',\n",
    "    k_col = 'k',\n",
    "    dataset = dataset,\n",
    "    experiment = experiment_name,\n",
    "    algo_name='kmeans'\n",
    ")\n",
    "\n",
    "plot_metrics_vs_cluster(\n",
    "    df = kmean_metrics,\n",
    "    metric_col = 'calinski_harabasz_score',\n",
    "    k_col = 'k',\n",
    "    dataset = dataset,\n",
    "    experiment = experiment_name,\n",
    "    algo_name='kmeans'\n",
    ")"
   ],
   "id": "95797350f5c6031d",
   "outputs": [
    {
     "name": "stdout",
     "output_type": "stream",
     "text": [
      "Plot saved at figs/dataset2/experiment1/inertia_vs_k_kmeans.png\n",
      "Plot saved at figs/dataset2/experiment1/silhouette_score_vs_k_kmeans.png\n",
      "Plot saved at figs/dataset2/experiment1/calinski_harabasz_score_vs_k_kmeans.png\n"
     ]
    }
   ],
   "execution_count": 20
  },
  {
   "metadata": {},
   "cell_type": "markdown",
   "source": "### EM",
   "id": "7b2fdeb54057dcca"
  },
  {
   "metadata": {
    "ExecuteTime": {
     "end_time": "2024-10-28T05:18:09.499044Z",
     "start_time": "2024-10-28T05:18:07.544810Z"
    }
   },
   "cell_type": "code",
   "source": [
    "plot_metrics_vs_cluster(\n",
    "    df = em_metrics,\n",
    "    metric_col = 'bic',\n",
    "    k_col = 'k',\n",
    "    dataset = dataset,\n",
    "    experiment = experiment_name,\n",
    "    algo_name='em'\n",
    ")\n",
    "\n",
    "plot_metrics_vs_cluster(\n",
    "    df = em_metrics,\n",
    "    metric_col = 'aic',\n",
    "    k_col = 'k',\n",
    "    dataset = dataset,\n",
    "    experiment = experiment_name,\n",
    "    algo_name='em'\n",
    ")\n",
    "\n",
    "plot_metrics_vs_cluster(\n",
    "    df = em_metrics,\n",
    "    metric_col = 'silhouette_score',\n",
    "    k_col = 'k',\n",
    "    dataset = dataset,\n",
    "    experiment = experiment_name,\n",
    "    algo_name='em'\n",
    ")\n",
    "\n",
    "plot_metrics_vs_cluster(\n",
    "    df = em_metrics,\n",
    "    metric_col = 'calinski_harabasz_score',\n",
    "    k_col = 'k',\n",
    "    dataset = dataset,\n",
    "    experiment = experiment_name,\n",
    "    algo_name='em'\n",
    ")"
   ],
   "id": "5bde5673caaf72ca",
   "outputs": [
    {
     "name": "stdout",
     "output_type": "stream",
     "text": [
      "Plot saved at figs/dataset2/experiment1/bic_vs_k_em.png\n",
      "Plot saved at figs/dataset2/experiment1/aic_vs_k_em.png\n",
      "Plot saved at figs/dataset2/experiment1/silhouette_score_vs_k_em.png\n",
      "Plot saved at figs/dataset2/experiment1/calinski_harabasz_score_vs_k_em.png\n"
     ]
    }
   ],
   "execution_count": 21
  },
  {
   "metadata": {},
   "cell_type": "markdown",
   "source": "## Combine EM and KMeans metrics",
   "id": "5714525bf594c6f5"
  },
  {
   "metadata": {
    "ExecuteTime": {
     "end_time": "2024-10-28T05:18:10.211613Z",
     "start_time": "2024-10-28T05:18:09.509662Z"
    }
   },
   "cell_type": "code",
   "source": [
    "kmean_metrics_copy = kmean_metrics[['k', 'silhouette_score', 'calinski_harabasz_score']].copy()\n",
    "kmean_metrics_copy['algo'] = 'kmeans'\n",
    "em_metrics_copy = em_metrics[['k', 'silhouette_score', 'calinski_harabasz_score']].copy()\n",
    "em_metrics_copy['algo'] = 'em'\n",
    "\n",
    "combined_metrics = pd.concat([kmean_metrics_copy, em_metrics_copy], axis=0)\n",
    "# draw the combined plot\n",
    "plot_metrics_vs_cluster(\n",
    "    df = combined_metrics,\n",
    "    metric_col = 'silhouette_score',\n",
    "    k_col = 'k',\n",
    "    group_col= 'algo',\n",
    "    dataset = dataset,\n",
    "    experiment = experiment_name\n",
    ")\n",
    "\n",
    "plot_metrics_vs_cluster(\n",
    "    df = combined_metrics,\n",
    "    metric_col = 'calinski_harabasz_score',\n",
    "    k_col = 'k',\n",
    "    group_col= 'algo',\n",
    "    dataset = dataset,\n",
    "    experiment = experiment_name\n",
    ")"
   ],
   "id": "a0871b73a8bf4c5c",
   "outputs": [
    {
     "name": "stdout",
     "output_type": "stream",
     "text": [
      "Plot saved at figs/dataset2/experiment1/silhouette_score_vs_k_em_kmeans.png\n",
      "Plot saved at figs/dataset2/experiment1/calinski_harabasz_score_vs_k_em_kmeans.png\n"
     ]
    }
   ],
   "execution_count": 22
  },
  {
   "metadata": {},
   "cell_type": "markdown",
   "source": "## Supervised metrics",
   "id": "3546beaadb0b14c"
  },
  {
   "metadata": {
    "ExecuteTime": {
     "end_time": "2024-10-28T05:38:33.963746Z",
     "start_time": "2024-10-28T05:38:33.677128Z"
    }
   },
   "cell_type": "code",
   "source": [
    "optimal_k = {\n",
    "    'kmeans': 5,\n",
    "    'em': 5\n",
    "}\n",
    "evaluation_results = experiment.evaluate_clustering(X_train, y_train, optimal_k)\n",
    "\n",
    "# Analyze cluster composition for each algorithm\n",
    "kmeans_labels = experiment.kmeans.fit(X_train, optimal_k['kmeans'])\n",
    "em_labels = experiment.em.fit(X_train, optimal_k['em'])\n",
    "kmeans_composition = experiment.analyze_cluster_composition(kmeans_labels, y_train)\n",
    "em_composition = experiment.analyze_cluster_composition(em_labels, y_train)\n",
    "\n",
    "print(\"\\nK-Means Cluster Composition:\")\n",
    "print(kmeans_composition)\n",
    "print(\"\\nEM Cluster Composition:\")\n",
    "print(em_composition)"
   ],
   "id": "a4ccdbaf7303013b",
   "outputs": [
    {
     "name": "stdout",
     "output_type": "stream",
     "text": [
      "\n",
      "K-Means Cluster Composition:\n",
      "True_Label          0          1  Size\n",
      "Cluster                               \n",
      "0           46.590909  53.409091   352\n",
      "1           44.759207  55.240793   353\n",
      "2           55.442177  44.557823   294\n",
      "3           53.113553  46.886447   273\n",
      "4           52.054795  47.945205   292\n",
      "\n",
      "EM Cluster Composition:\n",
      "True_Label          0          1  Size\n",
      "Cluster                               \n",
      "0           46.590909  53.409091   352\n",
      "1           44.759207  55.240793   353\n",
      "2           55.442177  44.557823   294\n",
      "3           53.113553  46.886447   273\n",
      "4           52.054795  47.945205   292\n"
     ]
    }
   ],
   "execution_count": 37
  },
  {
   "metadata": {
    "ExecuteTime": {
     "end_time": "2024-10-28T05:18:10.827453Z",
     "start_time": "2024-10-28T05:18:10.503538Z"
    }
   },
   "cell_type": "code",
   "source": [
    "# Plot evaluation metrics\n",
    "plot_cluster_evaluation(\n",
    "    evaluation_results,\n",
    "    dataset = dataset,\n",
    "    experiment = experiment_name\n",
    ")   \n"
   ],
   "id": "387187a56ca7b2a0",
   "outputs": [
    {
     "name": "stdout",
     "output_type": "stream",
     "text": [
      "Plot saved at figs/dataset2/experiment1/clustering_evaluation_metrics_comparison.png\n"
     ]
    }
   ],
   "execution_count": 24
  },
  {
   "metadata": {
    "ExecuteTime": {
     "end_time": "2024-10-28T05:18:10.838525Z",
     "start_time": "2024-10-28T05:18:10.836922Z"
    }
   },
   "cell_type": "code",
   "source": "",
   "id": "12a141ea38310396",
   "outputs": [],
   "execution_count": null
  }
 ],
 "metadata": {
  "kernelspec": {
   "display_name": "Python (unsupervised)",
   "language": "python",
   "name": "unsupervised"
  },
  "language_info": {
   "codemirror_mode": {
    "name": "ipython",
    "version": 2
   },
   "file_extension": ".py",
   "mimetype": "text/x-python",
   "name": "python",
   "nbconvert_exporter": "python",
   "pygments_lexer": "ipython2",
   "version": "2.7.6"
  }
 },
 "nbformat": 4,
 "nbformat_minor": 5
}
