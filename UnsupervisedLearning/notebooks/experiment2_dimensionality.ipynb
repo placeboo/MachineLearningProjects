{
 "cells": [
  {
   "cell_type": "code",
   "id": "initial_id",
   "metadata": {
    "collapsed": true,
    "ExecuteTime": {
     "end_time": "2024-10-29T07:08:21.717026Z",
     "start_time": "2024-10-29T07:08:21.711678Z"
    }
   },
   "source": [
    "import os\n",
    "os.chdir('../')\n",
    "print(os.getcwd())"
   ],
   "outputs": [
    {
     "name": "stdout",
     "output_type": "stream",
     "text": [
      "/Users/Placebo/OMSCS/CS7641-ML/MachineLearningProjects/UnsupervisedLearning\n"
     ]
    }
   ],
   "execution_count": 1
  },
  {
   "metadata": {
    "ExecuteTime": {
     "end_time": "2024-10-29T07:09:17.807680Z",
     "start_time": "2024-10-29T07:09:17.763512Z"
    }
   },
   "cell_type": "code",
   "source": [
    "%load_ext autoreload\n",
    "%autoreload 2\n",
    "from src.utils.data_loader import load_processed_data, save_csv, save_pickle, load_pickle, save_json, load_json\n",
    "from src.utils.plotting import plot_metrics_vs_cluster\n",
    "from src.experiments.experiment2_dimensionality import DimensionalityReductionExperiment\n"
   ],
   "id": "52816f327f45a237",
   "outputs": [
    {
     "name": "stdout",
     "output_type": "stream",
     "text": [
      "The autoreload extension is already loaded. To reload it, use:\n",
      "  %reload_ext autoreload\n"
     ]
    }
   ],
   "execution_count": 12
  },
  {
   "metadata": {
    "ExecuteTime": {
     "end_time": "2024-10-29T07:08:22.800233Z",
     "start_time": "2024-10-29T07:08:22.705804Z"
    }
   },
   "cell_type": "code",
   "source": [
    "import os\n",
    "import pandas as pd\n",
    "import numpy as np\n",
    "import matplotlib.pyplot as plt"
   ],
   "id": "274dd222bab4bf18",
   "outputs": [],
   "execution_count": 3
  },
  {
   "metadata": {},
   "cell_type": "markdown",
   "source": "# Load data set",
   "id": "a69d082759e0003e"
  },
  {
   "metadata": {
    "ExecuteTime": {
     "end_time": "2024-10-29T07:08:22.819720Z",
     "start_time": "2024-10-29T07:08:22.804196Z"
    }
   },
   "cell_type": "code",
   "source": [
    "dataset = 'dataset1'\n",
    "experiment_name = 'experiment2'\n",
    "X_train, _,_, _ = load_processed_data(f'data/{dataset}')"
   ],
   "id": "654cb4a492667fee",
   "outputs": [],
   "execution_count": 4
  },
  {
   "metadata": {},
   "cell_type": "markdown",
   "source": "# Run experiment",
   "id": "3ce0a5691a6de4a0"
  },
  {
   "metadata": {
    "ExecuteTime": {
     "end_time": "2024-10-29T07:08:22.837523Z",
     "start_time": "2024-10-29T07:08:22.828416Z"
    }
   },
   "cell_type": "code",
   "source": "dr_experiment = DimensionalityReductionExperiment()",
   "id": "a249eaec7be9c44c",
   "outputs": [],
   "execution_count": 5
  },
  {
   "metadata": {
    "ExecuteTime": {
     "end_time": "2024-10-29T07:21:26.157674Z",
     "start_time": "2024-10-29T07:21:26.111006Z"
    }
   },
   "cell_type": "code",
   "source": [
    "n_features = X_train.shape[1]\n",
    "print(f\"Number of features: {n_features}\")\n",
    "\n",
    "n_components_range = np.arange(1, n_features + 1)\n",
    "print(f\"Number of components: {n_components_range}\")"
   ],
   "id": "57bd7edc2829ef3",
   "outputs": [
    {
     "name": "stdout",
     "output_type": "stream",
     "text": [
      "Number of features: 30\n",
      "Number of components: [ 1  2  3  4  5  6  7  8  9 10 11 12 13 14 15 16 17 18 19 20 21 22 23 24\n",
      " 25 26 27 28 29 30]\n"
     ]
    }
   ],
   "execution_count": 36
  },
  {
   "metadata": {},
   "cell_type": "markdown",
   "source": "## PCA",
   "id": "d48f62c3e2200ea3"
  },
  {
   "metadata": {
    "ExecuteTime": {
     "end_time": "2024-10-29T07:11:20.534639Z",
     "start_time": "2024-10-29T07:11:20.508849Z"
    }
   },
   "cell_type": "code",
   "source": [
    "pca_metrics, pca_transformed = dr_experiment.run_pca_analysis(X_train, [n_features])\n",
    "# save\n",
    "save_pickle(pca_metrics, f'results/{dataset}/{experiment_name}', 'pca_metrics')\n",
    "save_pickle(pca_transformed, f'results/{dataset}/{experiment_name}', 'pca_transformed')\n"
   ],
   "id": "22a9405437f5dcbc",
   "outputs": [
    {
     "name": "stdout",
     "output_type": "stream",
     "text": [
      "Data saved at results/dataset1/experiment2/pca_metrics.pkl\n",
      "Data saved at results/dataset1/experiment2/pca_transformed.pkl\n"
     ]
    }
   ],
   "execution_count": 15
  },
  {
   "metadata": {
    "ExecuteTime": {
     "end_time": "2024-10-29T07:11:23.857344Z",
     "start_time": "2024-10-29T07:11:23.839157Z"
    }
   },
   "cell_type": "code",
   "source": "pca_metrics",
   "id": "302ee08fd2b5c53a",
   "outputs": [
    {
     "data": {
      "text/plain": [
       "   n_components                           explained_variance_ratio  \\\n",
       "0            30  [0.35955092874805067, 0.1064057524167154, 0.09...   \n",
       "\n",
       "                       cumulative_explained_variance  \\\n",
       "0  [0.35955092874805067, 0.4659566811647661, 0.56...   \n",
       "\n",
       "                                     singular_values  \n",
       "0  [359.53131649466883, 195.58658825758113, 186.0...  "
      ],
      "text/html": [
       "<div>\n",
       "<style scoped>\n",
       "    .dataframe tbody tr th:only-of-type {\n",
       "        vertical-align: middle;\n",
       "    }\n",
       "\n",
       "    .dataframe tbody tr th {\n",
       "        vertical-align: top;\n",
       "    }\n",
       "\n",
       "    .dataframe thead th {\n",
       "        text-align: right;\n",
       "    }\n",
       "</style>\n",
       "<table border=\"1\" class=\"dataframe\">\n",
       "  <thead>\n",
       "    <tr style=\"text-align: right;\">\n",
       "      <th></th>\n",
       "      <th>n_components</th>\n",
       "      <th>explained_variance_ratio</th>\n",
       "      <th>cumulative_explained_variance</th>\n",
       "      <th>singular_values</th>\n",
       "    </tr>\n",
       "  </thead>\n",
       "  <tbody>\n",
       "    <tr>\n",
       "      <th>0</th>\n",
       "      <td>30</td>\n",
       "      <td>[0.35955092874805067, 0.1064057524167154, 0.09...</td>\n",
       "      <td>[0.35955092874805067, 0.4659566811647661, 0.56...</td>\n",
       "      <td>[359.53131649466883, 195.58658825758113, 186.0...</td>\n",
       "    </tr>\n",
       "  </tbody>\n",
       "</table>\n",
       "</div>"
      ]
     },
     "execution_count": 16,
     "metadata": {},
     "output_type": "execute_result"
    }
   ],
   "execution_count": 16
  },
  {
   "metadata": {
    "ExecuteTime": {
     "end_time": "2024-10-29T07:24:29.546487Z",
     "start_time": "2024-10-29T07:24:28.271474Z"
    }
   },
   "cell_type": "code",
   "source": [
    "pca_metrics_df = pd.DataFrame(\n",
    "    {\n",
    "        'n_components': range(1, n_features + 1),\n",
    "        'cumulative_explained_variance': pca_metrics['cumulative_explained_variance'][0]\n",
    "    }\n",
    ")\n",
    "plot_metrics_vs_cluster(\n",
    "    df=pca_metrics_df,\n",
    "    metric_col='cumulative_explained_variance',\n",
    "    k_col='n_components',\n",
    "    dataset=dataset,\n",
    "    experiment=experiment_name,\n",
    "    algo_name='pca',\n",
    "    y_label='Cumulative Var. Ratio',\n",
    "    x_label='Number of Components'\n",
    ")"
   ],
   "id": "3aa72cf4fe0194c4",
   "outputs": [
    {
     "name": "stdout",
     "output_type": "stream",
     "text": [
      "Plot saved at figs/dataset1/experiment2/cumulative_explained_variance_vs_n_components_pca.png\n"
     ]
    }
   ],
   "execution_count": 41
  },
  {
   "metadata": {
    "ExecuteTime": {
     "end_time": "2024-10-29T07:17:14.689809Z",
     "start_time": "2024-10-29T07:17:14.670868Z"
    }
   },
   "cell_type": "code",
   "source": [
    "len(pca_metrics['cumulative_explained_variance'][0])\n",
    "len(range(1, n_features+1))"
   ],
   "id": "4dd08d0e03f08020",
   "outputs": [
    {
     "data": {
      "text/plain": [
       "30"
      ]
     },
     "execution_count": 30,
     "metadata": {},
     "output_type": "execute_result"
    }
   ],
   "execution_count": 30
  },
  {
   "metadata": {},
   "cell_type": "markdown",
   "source": "## ICA",
   "id": "838fe4c997ce9b7b"
  },
  {
   "metadata": {
    "ExecuteTime": {
     "end_time": "2024-10-29T07:22:08.703296Z",
     "start_time": "2024-10-29T07:21:40.493554Z"
    }
   },
   "cell_type": "code",
   "source": [
    "ica_metrics, ica_transformed = dr_experiment.run_ica_analysis(X_train, n_components_range)\n",
    "# save\n",
    "save_pickle(ica_metrics, f'results/{dataset}/{experiment_name}', 'ica_metrics')\n",
    "save_pickle(ica_transformed, f'results/{dataset}/{experiment_name}', 'ica_transformed')"
   ],
   "id": "28ff14ecf4cb18da",
   "outputs": [
    {
     "name": "stderr",
     "output_type": "stream",
     "text": [
      "/Users/Placebo/anaconda3/envs/unsupervised/lib/python3.10/site-packages/sklearn/decomposition/_fastica.py:128: ConvergenceWarning: FastICA did not converge. Consider increasing tolerance or the maximum number of iterations.\n",
      "  warnings.warn(\n",
      "/Users/Placebo/anaconda3/envs/unsupervised/lib/python3.10/site-packages/sklearn/decomposition/_fastica.py:128: ConvergenceWarning: FastICA did not converge. Consider increasing tolerance or the maximum number of iterations.\n",
      "  warnings.warn(\n",
      "/Users/Placebo/anaconda3/envs/unsupervised/lib/python3.10/site-packages/sklearn/decomposition/_fastica.py:128: ConvergenceWarning: FastICA did not converge. Consider increasing tolerance or the maximum number of iterations.\n",
      "  warnings.warn(\n"
     ]
    },
    {
     "name": "stdout",
     "output_type": "stream",
     "text": [
      "Data saved at results/dataset1/experiment2/ica_metrics.pkl\n",
      "Data saved at results/dataset1/experiment2/ica_transformed.pkl\n"
     ]
    },
    {
     "name": "stderr",
     "output_type": "stream",
     "text": [
      "/Users/Placebo/anaconda3/envs/unsupervised/lib/python3.10/site-packages/sklearn/decomposition/_fastica.py:128: ConvergenceWarning: FastICA did not converge. Consider increasing tolerance or the maximum number of iterations.\n",
      "  warnings.warn(\n"
     ]
    }
   ],
   "execution_count": 37
  },
  {
   "metadata": {
    "ExecuteTime": {
     "end_time": "2024-10-29T07:24:56.211092Z",
     "start_time": "2024-10-29T07:24:55.787368Z"
    }
   },
   "cell_type": "code",
   "source": [
    "# Plot ICA metrics\n",
    "plot_metrics_vs_cluster(\n",
    "    df=ica_metrics,\n",
    "    metric_col='abs_mean_kurtosis',\n",
    "    k_col='n_components',\n",
    "    dataset=dataset,\n",
    "    experiment=experiment_name,\n",
    "    algo_name='ica', \n",
    "    x_label='Number of Components'\n",
    ")"
   ],
   "id": "e8bfa64e3b49af9f",
   "outputs": [
    {
     "name": "stdout",
     "output_type": "stream",
     "text": [
      "Plot saved at figs/dataset1/experiment2/abs_mean_kurtosis_vs_n_components_ica.png\n"
     ]
    }
   ],
   "execution_count": 42
  },
  {
   "metadata": {},
   "cell_type": "markdown",
   "source": "## RP",
   "id": "e6cafea1d238343d"
  },
  {
   "metadata": {
    "ExecuteTime": {
     "end_time": "2024-10-29T07:26:19.071748Z",
     "start_time": "2024-10-29T07:26:18.390519Z"
    }
   },
   "cell_type": "code",
   "source": [
    "rp_metrics, rp_transformed = dr_experiment.run_rp_analysis(X_train, n_components_range)\n",
    "# save\n",
    "save_pickle(rp_metrics, f'results/{dataset}/{experiment_name}', 'rp_metrics')\n",
    "save_pickle(rp_transformed, f'results/{dataset}/{experiment_name}', 'rp_transformed')"
   ],
   "id": "4785d2a27f85b01b",
   "outputs": [
    {
     "name": "stdout",
     "output_type": "stream",
     "text": [
      "Data saved at results/dataset1/experiment2/rp_metrics.pkl\n",
      "Data saved at results/dataset1/experiment2/rp_transformed.pkl\n"
     ]
    }
   ],
   "execution_count": 45
  },
  {
   "metadata": {
    "ExecuteTime": {
     "end_time": "2024-10-29T07:26:20.162850Z",
     "start_time": "2024-10-29T07:26:19.750694Z"
    }
   },
   "cell_type": "code",
   "source": [
    "# Plot RP metrics\n",
    "plot_metrics_vs_cluster(\n",
    "    df=rp_metrics,\n",
    "    metric_col='reconstruction_error_mean',\n",
    "    k_col='n_components',\n",
    "    dataset=dataset,\n",
    "    experiment=experiment_name,\n",
    "    algo_name='rp',\n",
    "    x_label='Number of Components'\n",
    ")"
   ],
   "id": "88f71d4edf6b57b7",
   "outputs": [
    {
     "name": "stdout",
     "output_type": "stream",
     "text": [
      "Plot saved at figs/dataset1/experiment2/reconstruction_error_mean_vs_n_components_rp.png\n"
     ]
    }
   ],
   "execution_count": 46
  },
  {
   "metadata": {
    "ExecuteTime": {
     "end_time": "2024-10-29T07:26:22.971Z",
     "start_time": "2024-10-29T07:26:22.952670Z"
    }
   },
   "cell_type": "code",
   "source": "rp_metrics",
   "id": "d0cb6fff3e071830",
   "outputs": [
    {
     "data": {
      "text/plain": [
       "    n_components  reconstruction_error_mean  reconstruction_error_std  \\\n",
       "0              1                  12.695871              0.000000e+00   \n",
       "1              2                   5.475744              0.000000e+00   \n",
       "2              3                   9.972473              0.000000e+00   \n",
       "3              4                   7.916271              0.000000e+00   \n",
       "4              5                   5.705673              0.000000e+00   \n",
       "5              6                   3.949925              4.440892e-16   \n",
       "6              7                   3.158634              0.000000e+00   \n",
       "7              8                   2.608681              0.000000e+00   \n",
       "8              9                   2.147875              0.000000e+00   \n",
       "9             10                   2.105064              0.000000e+00   \n",
       "10            11                   1.728023              2.220446e-16   \n",
       "11            12                   1.505347              0.000000e+00   \n",
       "12            13                   1.312715              0.000000e+00   \n",
       "13            14                   1.177869              0.000000e+00   \n",
       "14            15                   1.060071              0.000000e+00   \n",
       "15            16                   0.941718              1.110223e-16   \n",
       "16            17                   0.953707              0.000000e+00   \n",
       "17            18                   0.899149              0.000000e+00   \n",
       "18            19                   0.843216              1.110223e-16   \n",
       "19            20                   0.850637              1.110223e-16   \n",
       "20            21                   0.785534              0.000000e+00   \n",
       "21            22                   0.877335              1.110223e-16   \n",
       "22            23                   0.815719              0.000000e+00   \n",
       "23            24                   1.015584              0.000000e+00   \n",
       "24            25                   0.981548              1.110223e-16   \n",
       "25            26                   0.922249              1.110223e-16   \n",
       "26            27                   0.861682              0.000000e+00   \n",
       "27            28                   0.817077              0.000000e+00   \n",
       "28            29                   0.763224              0.000000e+00   \n",
       "29            30                   0.764877              0.000000e+00   \n",
       "\n",
       "    components_rank  \n",
       "0               1.0  \n",
       "1               2.0  \n",
       "2               3.0  \n",
       "3               4.0  \n",
       "4               5.0  \n",
       "5               6.0  \n",
       "6               7.0  \n",
       "7               8.0  \n",
       "8               9.0  \n",
       "9              10.0  \n",
       "10             11.0  \n",
       "11             12.0  \n",
       "12             13.0  \n",
       "13             14.0  \n",
       "14             15.0  \n",
       "15             16.0  \n",
       "16             17.0  \n",
       "17             18.0  \n",
       "18             19.0  \n",
       "19             20.0  \n",
       "20             21.0  \n",
       "21             22.0  \n",
       "22             23.0  \n",
       "23             24.0  \n",
       "24             25.0  \n",
       "25             26.0  \n",
       "26             27.0  \n",
       "27             28.0  \n",
       "28             29.0  \n",
       "29             30.0  "
      ],
      "text/html": [
       "<div>\n",
       "<style scoped>\n",
       "    .dataframe tbody tr th:only-of-type {\n",
       "        vertical-align: middle;\n",
       "    }\n",
       "\n",
       "    .dataframe tbody tr th {\n",
       "        vertical-align: top;\n",
       "    }\n",
       "\n",
       "    .dataframe thead th {\n",
       "        text-align: right;\n",
       "    }\n",
       "</style>\n",
       "<table border=\"1\" class=\"dataframe\">\n",
       "  <thead>\n",
       "    <tr style=\"text-align: right;\">\n",
       "      <th></th>\n",
       "      <th>n_components</th>\n",
       "      <th>reconstruction_error_mean</th>\n",
       "      <th>reconstruction_error_std</th>\n",
       "      <th>components_rank</th>\n",
       "    </tr>\n",
       "  </thead>\n",
       "  <tbody>\n",
       "    <tr>\n",
       "      <th>0</th>\n",
       "      <td>1</td>\n",
       "      <td>12.695871</td>\n",
       "      <td>0.000000e+00</td>\n",
       "      <td>1.0</td>\n",
       "    </tr>\n",
       "    <tr>\n",
       "      <th>1</th>\n",
       "      <td>2</td>\n",
       "      <td>5.475744</td>\n",
       "      <td>0.000000e+00</td>\n",
       "      <td>2.0</td>\n",
       "    </tr>\n",
       "    <tr>\n",
       "      <th>2</th>\n",
       "      <td>3</td>\n",
       "      <td>9.972473</td>\n",
       "      <td>0.000000e+00</td>\n",
       "      <td>3.0</td>\n",
       "    </tr>\n",
       "    <tr>\n",
       "      <th>3</th>\n",
       "      <td>4</td>\n",
       "      <td>7.916271</td>\n",
       "      <td>0.000000e+00</td>\n",
       "      <td>4.0</td>\n",
       "    </tr>\n",
       "    <tr>\n",
       "      <th>4</th>\n",
       "      <td>5</td>\n",
       "      <td>5.705673</td>\n",
       "      <td>0.000000e+00</td>\n",
       "      <td>5.0</td>\n",
       "    </tr>\n",
       "    <tr>\n",
       "      <th>5</th>\n",
       "      <td>6</td>\n",
       "      <td>3.949925</td>\n",
       "      <td>4.440892e-16</td>\n",
       "      <td>6.0</td>\n",
       "    </tr>\n",
       "    <tr>\n",
       "      <th>6</th>\n",
       "      <td>7</td>\n",
       "      <td>3.158634</td>\n",
       "      <td>0.000000e+00</td>\n",
       "      <td>7.0</td>\n",
       "    </tr>\n",
       "    <tr>\n",
       "      <th>7</th>\n",
       "      <td>8</td>\n",
       "      <td>2.608681</td>\n",
       "      <td>0.000000e+00</td>\n",
       "      <td>8.0</td>\n",
       "    </tr>\n",
       "    <tr>\n",
       "      <th>8</th>\n",
       "      <td>9</td>\n",
       "      <td>2.147875</td>\n",
       "      <td>0.000000e+00</td>\n",
       "      <td>9.0</td>\n",
       "    </tr>\n",
       "    <tr>\n",
       "      <th>9</th>\n",
       "      <td>10</td>\n",
       "      <td>2.105064</td>\n",
       "      <td>0.000000e+00</td>\n",
       "      <td>10.0</td>\n",
       "    </tr>\n",
       "    <tr>\n",
       "      <th>10</th>\n",
       "      <td>11</td>\n",
       "      <td>1.728023</td>\n",
       "      <td>2.220446e-16</td>\n",
       "      <td>11.0</td>\n",
       "    </tr>\n",
       "    <tr>\n",
       "      <th>11</th>\n",
       "      <td>12</td>\n",
       "      <td>1.505347</td>\n",
       "      <td>0.000000e+00</td>\n",
       "      <td>12.0</td>\n",
       "    </tr>\n",
       "    <tr>\n",
       "      <th>12</th>\n",
       "      <td>13</td>\n",
       "      <td>1.312715</td>\n",
       "      <td>0.000000e+00</td>\n",
       "      <td>13.0</td>\n",
       "    </tr>\n",
       "    <tr>\n",
       "      <th>13</th>\n",
       "      <td>14</td>\n",
       "      <td>1.177869</td>\n",
       "      <td>0.000000e+00</td>\n",
       "      <td>14.0</td>\n",
       "    </tr>\n",
       "    <tr>\n",
       "      <th>14</th>\n",
       "      <td>15</td>\n",
       "      <td>1.060071</td>\n",
       "      <td>0.000000e+00</td>\n",
       "      <td>15.0</td>\n",
       "    </tr>\n",
       "    <tr>\n",
       "      <th>15</th>\n",
       "      <td>16</td>\n",
       "      <td>0.941718</td>\n",
       "      <td>1.110223e-16</td>\n",
       "      <td>16.0</td>\n",
       "    </tr>\n",
       "    <tr>\n",
       "      <th>16</th>\n",
       "      <td>17</td>\n",
       "      <td>0.953707</td>\n",
       "      <td>0.000000e+00</td>\n",
       "      <td>17.0</td>\n",
       "    </tr>\n",
       "    <tr>\n",
       "      <th>17</th>\n",
       "      <td>18</td>\n",
       "      <td>0.899149</td>\n",
       "      <td>0.000000e+00</td>\n",
       "      <td>18.0</td>\n",
       "    </tr>\n",
       "    <tr>\n",
       "      <th>18</th>\n",
       "      <td>19</td>\n",
       "      <td>0.843216</td>\n",
       "      <td>1.110223e-16</td>\n",
       "      <td>19.0</td>\n",
       "    </tr>\n",
       "    <tr>\n",
       "      <th>19</th>\n",
       "      <td>20</td>\n",
       "      <td>0.850637</td>\n",
       "      <td>1.110223e-16</td>\n",
       "      <td>20.0</td>\n",
       "    </tr>\n",
       "    <tr>\n",
       "      <th>20</th>\n",
       "      <td>21</td>\n",
       "      <td>0.785534</td>\n",
       "      <td>0.000000e+00</td>\n",
       "      <td>21.0</td>\n",
       "    </tr>\n",
       "    <tr>\n",
       "      <th>21</th>\n",
       "      <td>22</td>\n",
       "      <td>0.877335</td>\n",
       "      <td>1.110223e-16</td>\n",
       "      <td>22.0</td>\n",
       "    </tr>\n",
       "    <tr>\n",
       "      <th>22</th>\n",
       "      <td>23</td>\n",
       "      <td>0.815719</td>\n",
       "      <td>0.000000e+00</td>\n",
       "      <td>23.0</td>\n",
       "    </tr>\n",
       "    <tr>\n",
       "      <th>23</th>\n",
       "      <td>24</td>\n",
       "      <td>1.015584</td>\n",
       "      <td>0.000000e+00</td>\n",
       "      <td>24.0</td>\n",
       "    </tr>\n",
       "    <tr>\n",
       "      <th>24</th>\n",
       "      <td>25</td>\n",
       "      <td>0.981548</td>\n",
       "      <td>1.110223e-16</td>\n",
       "      <td>25.0</td>\n",
       "    </tr>\n",
       "    <tr>\n",
       "      <th>25</th>\n",
       "      <td>26</td>\n",
       "      <td>0.922249</td>\n",
       "      <td>1.110223e-16</td>\n",
       "      <td>26.0</td>\n",
       "    </tr>\n",
       "    <tr>\n",
       "      <th>26</th>\n",
       "      <td>27</td>\n",
       "      <td>0.861682</td>\n",
       "      <td>0.000000e+00</td>\n",
       "      <td>27.0</td>\n",
       "    </tr>\n",
       "    <tr>\n",
       "      <th>27</th>\n",
       "      <td>28</td>\n",
       "      <td>0.817077</td>\n",
       "      <td>0.000000e+00</td>\n",
       "      <td>28.0</td>\n",
       "    </tr>\n",
       "    <tr>\n",
       "      <th>28</th>\n",
       "      <td>29</td>\n",
       "      <td>0.763224</td>\n",
       "      <td>0.000000e+00</td>\n",
       "      <td>29.0</td>\n",
       "    </tr>\n",
       "    <tr>\n",
       "      <th>29</th>\n",
       "      <td>30</td>\n",
       "      <td>0.764877</td>\n",
       "      <td>0.000000e+00</td>\n",
       "      <td>30.0</td>\n",
       "    </tr>\n",
       "  </tbody>\n",
       "</table>\n",
       "</div>"
      ]
     },
     "execution_count": 47,
     "metadata": {},
     "output_type": "execute_result"
    }
   ],
   "execution_count": 47
  },
  {
   "metadata": {},
   "cell_type": "code",
   "outputs": [],
   "execution_count": null,
   "source": "",
   "id": "d62b5d4eb659ff0f"
  }
 ],
 "metadata": {
  "kernelspec": {
   "display_name": "Python (unsupervised)",
   "language": "python",
   "name": "unsupervised"
  },
  "language_info": {
   "codemirror_mode": {
    "name": "ipython",
    "version": 2
   },
   "file_extension": ".py",
   "mimetype": "text/x-python",
   "name": "python",
   "nbconvert_exporter": "python",
   "pygments_lexer": "ipython2",
   "version": "2.7.6"
  }
 },
 "nbformat": 4,
 "nbformat_minor": 5
}
