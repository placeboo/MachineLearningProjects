{
 "cells": [
  {
   "cell_type": "code",
   "id": "initial_id",
   "metadata": {
    "collapsed": true,
    "ExecuteTime": {
     "end_time": "2024-10-03T06:07:23.385736Z",
     "start_time": "2024-10-03T06:07:21.415733Z"
    }
   },
   "source": [
    "import mlrose_ky\n",
    "import numpy as np"
   ],
   "outputs": [],
   "execution_count": 1
  },
  {
   "metadata": {},
   "cell_type": "code",
   "outputs": [],
   "execution_count": null,
   "source": "",
   "id": "ff5e0b18d381ca3b"
  },
  {
   "metadata": {},
   "cell_type": "code",
   "outputs": [],
   "execution_count": null,
   "source": "fitness = mlrose_ky.FourPeaks(t_pct=0.1)",
   "id": "ecafe4ee5275c086"
  }
 ],
 "metadata": {
  "kernelspec": {
   "display_name": "Python (RandomizedOptimization)",
   "language": "python",
   "name": "randomizedoptimization"
  },
  "language_info": {
   "codemirror_mode": {
    "name": "ipython",
    "version": 2
   },
   "file_extension": ".py",
   "mimetype": "text/x-python",
   "name": "python",
   "nbconvert_exporter": "python",
   "pygments_lexer": "ipython2",
   "version": "2.7.6"
  }
 },
 "nbformat": 4,
 "nbformat_minor": 5
}
